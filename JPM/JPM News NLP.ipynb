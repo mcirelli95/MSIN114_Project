{
 "cells": [
  {
   "cell_type": "code",
   "execution_count": 1,
   "metadata": {},
   "outputs": [],
   "source": [
    "import pandas as pd\n",
    "import matplotlib.pyplot as plt\n",
    "import numpy as np\n",
    "import seaborn as sns\n",
    "from sklearn.feature_extraction.text import CountVectorizer\n",
    "from sklearn.linear_model import LogisticRegression\n",
    "from sklearn import preprocessing\n",
    "from nltk.sentiment.vader import SentimentIntensityAnalyzer as SIA\n",
    "import math\n",
    "import pprint\n",
    "from sklearn import preprocessing\n",
    "import re"
   ]
  },
  {
   "cell_type": "code",
   "execution_count": 2,
   "metadata": {},
   "outputs": [
    {
     "name": "stdout",
     "output_type": "stream",
     "text": [
      "[nltk_data] Downloading package punkt to\n",
      "[nltk_data]     /Users/mattcirelli/nltk_data...\n",
      "[nltk_data]   Package punkt is already up-to-date!\n"
     ]
    }
   ],
   "source": [
    "from vaderSentiment.vaderSentiment import SentimentIntensityAnalyzer\n",
    "from nltk.tokenize import RegexpTokenizer, sent_tokenize\n",
    "import nltk\n",
    "nltk.download('punkt')\n",
    "from nltk import word_tokenize\n",
    "\n",
    "sia = SentimentIntensityAnalyzer()"
   ]
  },
  {
   "cell_type": "code",
   "execution_count": 3,
   "metadata": {},
   "outputs": [],
   "source": [
    "# Update SIA with Loughran McDonald Dictionary\n",
    "\n",
    "import csv\n",
    "import pandas as pd\n",
    "\n",
    "# stock market lexicon\n",
    "stock_lex = pd.read_csv('stock_lex.csv')\n",
    "\n",
    "stock_lex['sentiment'] = (stock_lex['Aff_Score'] + stock_lex['Neg_Score'])/2\n",
    "stock_lex = dict(zip(stock_lex.Item, stock_lex.sentiment))\n",
    "stock_lex = {k:v for k,v in stock_lex.items() if len(k.split(' '))==1}\n",
    "stock_lex_scaled = {}\n",
    "for k, v in stock_lex.items():\n",
    "    if v > 0:\n",
    "        stock_lex_scaled[k] = v / max(stock_lex.values()) * 4\n",
    "    else:\n",
    "        stock_lex_scaled[k] = v / min(stock_lex.values()) * -4\n",
    "\n",
    "#update the positive and negative dictionaries\n",
    "positive = []\n",
    "reader = csv.reader('lm_positive.csv')\n",
    "for row in reader:\n",
    "    positive.append(row[0].strip())\n",
    "    \n",
    "negative = []\n",
    "reader = csv.reader('lm_negative.csv')\n",
    "for row in reader:\n",
    "    entry = row[0].strip().split(\" \")\n",
    "    if len(entry) > 1:\n",
    "        negative.extend(entry)\n",
    "    else:\n",
    "        negative.append(entry[0])\n",
    "\n",
    "final_lex = {}\n",
    "final_lex.update({word:2.0 for word in positive})\n",
    "final_lex.update({word:-2.0 for word in negative})\n",
    "final_lex.update(stock_lex_scaled)\n",
    "final_lex.update(sia.lexicon)\n",
    "sia.lexicon = final_lex"
   ]
  },
  {
   "cell_type": "code",
   "execution_count": 4,
   "metadata": {},
   "outputs": [],
   "source": [
    "data = pd.read_csv('JPM_news.csv')"
   ]
  },
  {
   "cell_type": "code",
   "execution_count": 5,
   "metadata": {
    "scrolled": false
   },
   "outputs": [
    {
     "data": {
      "text/html": [
       "<div>\n",
       "<style scoped>\n",
       "    .dataframe tbody tr th:only-of-type {\n",
       "        vertical-align: middle;\n",
       "    }\n",
       "\n",
       "    .dataframe tbody tr th {\n",
       "        vertical-align: top;\n",
       "    }\n",
       "\n",
       "    .dataframe thead th {\n",
       "        text-align: right;\n",
       "    }\n",
       "</style>\n",
       "<table border=\"1\" class=\"dataframe\">\n",
       "  <thead>\n",
       "    <tr style=\"text-align: right;\">\n",
       "      <th></th>\n",
       "      <th>Unnamed: 0</th>\n",
       "      <th>company</th>\n",
       "      <th>id</th>\n",
       "      <th>publication_date</th>\n",
       "      <th>summary</th>\n",
       "      <th>title</th>\n",
       "      <th>url</th>\n",
       "    </tr>\n",
       "  </thead>\n",
       "  <tbody>\n",
       "    <tr>\n",
       "      <th>0</th>\n",
       "      <td>0</td>\n",
       "      <td>NaN</td>\n",
       "      <td>nws_OrERqO</td>\n",
       "      <td>2019-08-07 22:03:39+00:00</td>\n",
       "      <td>S&amp;P; 500 up 0.08% Continue reading...</td>\n",
       "      <td>US Indexes Close Mostly Higher for a 2nd Day o...</td>\n",
       "      <td>https://finance.yahoo.com/news/us-indexes-clos...</td>\n",
       "    </tr>\n",
       "    <tr>\n",
       "      <th>1</th>\n",
       "      <td>1</td>\n",
       "      <td>NaN</td>\n",
       "      <td>nws_7KVPGP</td>\n",
       "      <td>2019-08-07 19:47:50+00:00</td>\n",
       "      <td>Love it or hate it - research and development ...</td>\n",
       "      <td>Expanding Their Reach: Top 6 Institutions Oper...</td>\n",
       "      <td>https://finance.yahoo.com/news/expanding-reach...</td>\n",
       "    </tr>\n",
       "    <tr>\n",
       "      <th>2</th>\n",
       "      <td>2</td>\n",
       "      <td>NaN</td>\n",
       "      <td>nws_xY9BeN</td>\n",
       "      <td>2019-08-07 19:20:02+00:00</td>\n",
       "      <td>Global equities are reeling again on Wednesday...</td>\n",
       "      <td>5 Big Bank Stocks to Sell as Central Banks Cut...</td>\n",
       "      <td>https://finance.yahoo.com/news/5-big-bank-stoc...</td>\n",
       "    </tr>\n",
       "    <tr>\n",
       "      <th>3</th>\n",
       "      <td>3</td>\n",
       "      <td>NaN</td>\n",
       "      <td>nws_alOY4L</td>\n",
       "      <td>2019-08-07 19:01:00+00:00</td>\n",
       "      <td>Lower rates are terrible unless you spend mone...</td>\n",
       "      <td>Jim Cramer: In America, Lower Rates Are Nirvan...</td>\n",
       "      <td>https://finance.yahoo.com/m/ce1634b1-0ea5-39c1...</td>\n",
       "    </tr>\n",
       "    <tr>\n",
       "      <th>4</th>\n",
       "      <td>4</td>\n",
       "      <td>NaN</td>\n",
       "      <td>nws_7KVP07</td>\n",
       "      <td>2019-08-07 18:06:54+00:00</td>\n",
       "      <td>JPMorgan Chase opened the doors to its new Cha...</td>\n",
       "      <td>JPMorgan Chase opens its first North Carolina ...</td>\n",
       "      <td>https://finance.yahoo.com/m/5a948a94-133d-3c8a...</td>\n",
       "    </tr>\n",
       "  </tbody>\n",
       "</table>\n",
       "</div>"
      ],
      "text/plain": [
       "   Unnamed: 0  company          id           publication_date  \\\n",
       "0           0      NaN  nws_OrERqO  2019-08-07 22:03:39+00:00   \n",
       "1           1      NaN  nws_7KVPGP  2019-08-07 19:47:50+00:00   \n",
       "2           2      NaN  nws_xY9BeN  2019-08-07 19:20:02+00:00   \n",
       "3           3      NaN  nws_alOY4L  2019-08-07 19:01:00+00:00   \n",
       "4           4      NaN  nws_7KVP07  2019-08-07 18:06:54+00:00   \n",
       "\n",
       "                                             summary  \\\n",
       "0              S&P; 500 up 0.08% Continue reading...   \n",
       "1  Love it or hate it - research and development ...   \n",
       "2  Global equities are reeling again on Wednesday...   \n",
       "3  Lower rates are terrible unless you spend mone...   \n",
       "4  JPMorgan Chase opened the doors to its new Cha...   \n",
       "\n",
       "                                               title  \\\n",
       "0  US Indexes Close Mostly Higher for a 2nd Day o...   \n",
       "1  Expanding Their Reach: Top 6 Institutions Oper...   \n",
       "2  5 Big Bank Stocks to Sell as Central Banks Cut...   \n",
       "3  Jim Cramer: In America, Lower Rates Are Nirvan...   \n",
       "4  JPMorgan Chase opens its first North Carolina ...   \n",
       "\n",
       "                                                 url  \n",
       "0  https://finance.yahoo.com/news/us-indexes-clos...  \n",
       "1  https://finance.yahoo.com/news/expanding-reach...  \n",
       "2  https://finance.yahoo.com/news/5-big-bank-stoc...  \n",
       "3  https://finance.yahoo.com/m/ce1634b1-0ea5-39c1...  \n",
       "4  https://finance.yahoo.com/m/5a948a94-133d-3c8a...  "
      ]
     },
     "execution_count": 5,
     "metadata": {},
     "output_type": "execute_result"
    }
   ],
   "source": [
    "data.head()"
   ]
  },
  {
   "cell_type": "code",
   "execution_count": 6,
   "metadata": {},
   "outputs": [],
   "source": [
    "data['publication_date']=pd.to_datetime(data.publication_date,format='%Y-%m-%d')\n",
    "data.index =data['publication_date']\n"
   ]
  },
  {
   "cell_type": "code",
   "execution_count": 7,
   "metadata": {
    "scrolled": true
   },
   "outputs": [
    {
     "name": "stdout",
     "output_type": "stream",
     "text": [
      "<class 'pandas.core.frame.DataFrame'>\n",
      "DatetimeIndex: 17876 entries, 2019-08-07 22:03:39 to 2015-07-21 19:12:17\n",
      "Data columns (total 7 columns):\n",
      "Unnamed: 0          17876 non-null int64\n",
      "company             0 non-null float64\n",
      "id                  17876 non-null object\n",
      "publication_date    17876 non-null datetime64[ns]\n",
      "summary             17871 non-null object\n",
      "title               17876 non-null object\n",
      "url                 17876 non-null object\n",
      "dtypes: datetime64[ns](1), float64(1), int64(1), object(4)\n",
      "memory usage: 1.1+ MB\n"
     ]
    }
   ],
   "source": [
    "data.info()"
   ]
  },
  {
   "cell_type": "code",
   "execution_count": 8,
   "metadata": {},
   "outputs": [
    {
     "data": {
      "text/html": [
       "<div>\n",
       "<style scoped>\n",
       "    .dataframe tbody tr th:only-of-type {\n",
       "        vertical-align: middle;\n",
       "    }\n",
       "\n",
       "    .dataframe tbody tr th {\n",
       "        vertical-align: top;\n",
       "    }\n",
       "\n",
       "    .dataframe thead th {\n",
       "        text-align: right;\n",
       "    }\n",
       "</style>\n",
       "<table border=\"1\" class=\"dataframe\">\n",
       "  <thead>\n",
       "    <tr style=\"text-align: right;\">\n",
       "      <th></th>\n",
       "      <th>Unnamed: 0</th>\n",
       "      <th>company</th>\n",
       "      <th>id</th>\n",
       "      <th>publication_date</th>\n",
       "      <th>summary</th>\n",
       "      <th>title</th>\n",
       "      <th>url</th>\n",
       "    </tr>\n",
       "    <tr>\n",
       "      <th>publication_date</th>\n",
       "      <th></th>\n",
       "      <th></th>\n",
       "      <th></th>\n",
       "      <th></th>\n",
       "      <th></th>\n",
       "      <th></th>\n",
       "      <th></th>\n",
       "    </tr>\n",
       "  </thead>\n",
       "  <tbody>\n",
       "    <tr>\n",
       "      <th>2019-08-07 22:03:39</th>\n",
       "      <td>0</td>\n",
       "      <td>NaN</td>\n",
       "      <td>nws_OrERqO</td>\n",
       "      <td>2019-08-07 22:03:39</td>\n",
       "      <td>S&amp;P; 500 up 0.08% Continue reading...</td>\n",
       "      <td>US Indexes Close Mostly Higher for a 2nd Day o...</td>\n",
       "      <td>https://finance.yahoo.com/news/us-indexes-clos...</td>\n",
       "    </tr>\n",
       "    <tr>\n",
       "      <th>2019-08-07 19:47:50</th>\n",
       "      <td>1</td>\n",
       "      <td>NaN</td>\n",
       "      <td>nws_7KVPGP</td>\n",
       "      <td>2019-08-07 19:47:50</td>\n",
       "      <td>Love it or hate it - research and development ...</td>\n",
       "      <td>Expanding Their Reach: Top 6 Institutions Oper...</td>\n",
       "      <td>https://finance.yahoo.com/news/expanding-reach...</td>\n",
       "    </tr>\n",
       "    <tr>\n",
       "      <th>2019-08-07 19:20:02</th>\n",
       "      <td>2</td>\n",
       "      <td>NaN</td>\n",
       "      <td>nws_xY9BeN</td>\n",
       "      <td>2019-08-07 19:20:02</td>\n",
       "      <td>Global equities are reeling again on Wednesday...</td>\n",
       "      <td>5 Big Bank Stocks to Sell as Central Banks Cut...</td>\n",
       "      <td>https://finance.yahoo.com/news/5-big-bank-stoc...</td>\n",
       "    </tr>\n",
       "    <tr>\n",
       "      <th>2019-08-07 19:01:00</th>\n",
       "      <td>3</td>\n",
       "      <td>NaN</td>\n",
       "      <td>nws_alOY4L</td>\n",
       "      <td>2019-08-07 19:01:00</td>\n",
       "      <td>Lower rates are terrible unless you spend mone...</td>\n",
       "      <td>Jim Cramer: In America, Lower Rates Are Nirvan...</td>\n",
       "      <td>https://finance.yahoo.com/m/ce1634b1-0ea5-39c1...</td>\n",
       "    </tr>\n",
       "    <tr>\n",
       "      <th>2019-08-07 18:06:54</th>\n",
       "      <td>4</td>\n",
       "      <td>NaN</td>\n",
       "      <td>nws_7KVP07</td>\n",
       "      <td>2019-08-07 18:06:54</td>\n",
       "      <td>JPMorgan Chase opened the doors to its new Cha...</td>\n",
       "      <td>JPMorgan Chase opens its first North Carolina ...</td>\n",
       "      <td>https://finance.yahoo.com/m/5a948a94-133d-3c8a...</td>\n",
       "    </tr>\n",
       "  </tbody>\n",
       "</table>\n",
       "</div>"
      ],
      "text/plain": [
       "                     Unnamed: 0  company          id    publication_date  \\\n",
       "publication_date                                                           \n",
       "2019-08-07 22:03:39           0      NaN  nws_OrERqO 2019-08-07 22:03:39   \n",
       "2019-08-07 19:47:50           1      NaN  nws_7KVPGP 2019-08-07 19:47:50   \n",
       "2019-08-07 19:20:02           2      NaN  nws_xY9BeN 2019-08-07 19:20:02   \n",
       "2019-08-07 19:01:00           3      NaN  nws_alOY4L 2019-08-07 19:01:00   \n",
       "2019-08-07 18:06:54           4      NaN  nws_7KVP07 2019-08-07 18:06:54   \n",
       "\n",
       "                                                               summary  \\\n",
       "publication_date                                                         \n",
       "2019-08-07 22:03:39              S&P; 500 up 0.08% Continue reading...   \n",
       "2019-08-07 19:47:50  Love it or hate it - research and development ...   \n",
       "2019-08-07 19:20:02  Global equities are reeling again on Wednesday...   \n",
       "2019-08-07 19:01:00  Lower rates are terrible unless you spend mone...   \n",
       "2019-08-07 18:06:54  JPMorgan Chase opened the doors to its new Cha...   \n",
       "\n",
       "                                                                 title  \\\n",
       "publication_date                                                         \n",
       "2019-08-07 22:03:39  US Indexes Close Mostly Higher for a 2nd Day o...   \n",
       "2019-08-07 19:47:50  Expanding Their Reach: Top 6 Institutions Oper...   \n",
       "2019-08-07 19:20:02  5 Big Bank Stocks to Sell as Central Banks Cut...   \n",
       "2019-08-07 19:01:00  Jim Cramer: In America, Lower Rates Are Nirvan...   \n",
       "2019-08-07 18:06:54  JPMorgan Chase opens its first North Carolina ...   \n",
       "\n",
       "                                                                   url  \n",
       "publication_date                                                        \n",
       "2019-08-07 22:03:39  https://finance.yahoo.com/news/us-indexes-clos...  \n",
       "2019-08-07 19:47:50  https://finance.yahoo.com/news/expanding-reach...  \n",
       "2019-08-07 19:20:02  https://finance.yahoo.com/news/5-big-bank-stoc...  \n",
       "2019-08-07 19:01:00  https://finance.yahoo.com/m/ce1634b1-0ea5-39c1...  \n",
       "2019-08-07 18:06:54  https://finance.yahoo.com/m/5a948a94-133d-3c8a...  "
      ]
     },
     "execution_count": 8,
     "metadata": {},
     "output_type": "execute_result"
    }
   ],
   "source": [
    "data.head()"
   ]
  },
  {
   "cell_type": "code",
   "execution_count": 9,
   "metadata": {},
   "outputs": [
    {
     "data": {
      "text/plain": [
       "\"publication_date\\n2019-08-07 22:03:39                S&P; 500 up 0.08% Continue reading...\\n2019-08-07 19:47:50    Love it or hate it - research and development ...\\n2019-08-07 19:20:02    Global equities are reeling again on Wednesday...\\n2019-08-07 19:01:00    Lower rates are terrible unless you spend mone...\\n2019-08-07 18:06:54    JPMorgan Chase opened the doors to its new Cha...\\n2019-08-07 17:52:05                         Style Box ETF report for IWX\\n2019-08-07 17:29:00    Investing.com – Stocks found a footing after p...\\n2019-08-07 14:41:02    The Zacks Analyst Blog Highlights: JPMorgan Ch...\\n2019-08-07 13:27:01    HSBC Holdings' (HSBC) agreement to settle Belg...\\n2019-08-07 12:46:53    (Bloomberg) -- It took a $650,000 salary for M...\\n2019-08-07 11:00:58    Gold Briefly Breaks Through $1,500, JPMorgan S...\\n2019-08-07 09:36:00    Investing.com - JPMorgan (NYSE:JPM) fell by 3....\\n2019-08-07 09:22:44    (Bloomberg) -- China’s central bank set its da...\\n2019-08-07 09:04:12            Q2 2019 JPMorgan Chase & Co Earnings Call\\n2019-08-06 21:58:14    (Bloomberg) -- Archer-Daniels-Midland Co. shar...\\n2019-08-06 16:07:45    Looking today at week over week shares outstan...\\n2019-08-06 16:07:45    Looking today at week over week shares outstan...\\n2019-08-06 14:19:14    The Fidelity High Dividend ETF FDVV made its d...\\n2019-08-06 14:19:14    The Fidelity High Dividend ETF FDVV made its d...\\n2019-08-06 14:15:39    Bitcoin is zooming up The world s numero uno c...\\n2019-08-06 14:15:39    Bitcoin is zooming up The world s numero uno c...\\n2019-08-06 13:43:20    (Bloomberg) -- When WeWork Cos.’ Adam Neumann ...\\n2019-08-06 13:41:01    JPMorgan (JPM) and Morgan Stanley (MS) acquire...\\n2019-08-06 13:34:01    Despite recent reverses, leading market watche...\\n2019-08-06 13:21:46    Workspace provider WeWork has obtained commitm...\\n2019-08-06 13:17:49    Veritex Holdings Inc VBTX will begin trading e...\\n2019-08-06 13:17:49    Veritex Holdings Inc VBTX will begin trading e...\\n2019-08-06 13:17:43    Wintrust Financial Corporation WTFC will begin...\\n2019-08-06 13:17:43    Wintrust Financial Corporation WTFC will begin...\\n2019-08-06 13:17:27    WSFS Financial Corporation WSFS will begin tra...\\n                                             ...                        \\n2016-07-07 20:14:33    The Latest: EU's Tusk hints at chance for UK t...\\n2016-07-07 14:45:49    Germany predicts drop in exports to Britain du...\\n2016-07-07 11:03:50    [Reuters - UK Focus] - Major investment banks ...\\n2016-07-07 07:20:04    JPMorgan could move thousands of staff out of ...\\n2016-07-07 01:31:05    [at noodls] - Overseas regulatory announcement...\\n2016-07-06 15:21:03    [at noodls] - Overseas regulatory announcement...\\n2016-07-05 01:31:03    [at noodls] - Overseas regulatory announcement...\\n2016-07-04 16:51:02    [at noodls] - Overseas regulatory announcement...\\n2016-07-01 11:01:05    [at noodls] - New York, July 1, 2016 - JPMorga...\\n2016-07-01 10:38:36    JPMorgan wins approval to open three new branc...\\n2016-06-30 06:00:00           JPMorgan Chase announces 2016 CCAR results\\n2016-06-28 16:06:02    France's Macron demands quick EDF decision on ...\\n2016-06-27 14:51:01    [at noodls] - New support will help Baltimore'...\\n2016-06-23 22:54:27    [AFP] - US investment bank JPMorgan Chase on F...\\n2016-06-01 16:53:13    JPMorgan exec sees 'mid-teens' percentage rise...\\n2016-05-05 15:47:13    JPMorgan becomes first global bank to fall fou...\\n2016-03-22 14:11:33    Edelweiss buys J.P. Morgan's India mutual fund...\\n2016-03-16 22:11:24    JPMorgan, Citi shareholders to vote on potenti...\\n2016-02-22 10:06:00    JPMorgan may hold steady on cost target despit...\\n2016-01-29 00:20:44    Wells Fargo, BofA look to integrate Apple Pay ...\\n2016-01-14 17:54:08    JPMorgan strikes confident tone after better-t...\\n2015-12-28 21:14:43    JPMorgan to raise deposit rates for some big c...\\n2015-12-02 22:37:26    Exclusive: Barclays' boss wants Blythe Masters...\\n2015-10-15 18:19:27    Goldman profit plunges as market turmoil hits ...\\n2015-10-14 00:17:23        JPMorgan goes on a diet to appease regulators\\n2015-10-13 14:09:06    Barclays set to name former JPMorgan banker St...\\n2015-10-05 16:43:23    Global business growth at weakest pace this ye...\\n2015-09-17 22:39:02    Wall Street banks eye December for Fed liftoff...\\n2015-08-14 17:16:07    BNP Paribas to pay $115 mln to settle currency...\\n2015-07-21 19:12:17    Citi ordered to pay $770 million over credit c...\\nName: summary, Length: 17876, dtype: object\""
      ]
     },
     "execution_count": 9,
     "metadata": {},
     "output_type": "execute_result"
    }
   ],
   "source": [
    "str(data[\"summary\"])"
   ]
  },
  {
   "cell_type": "code",
   "execution_count": 10,
   "metadata": {},
   "outputs": [
    {
     "name": "stderr",
     "output_type": "stream",
     "text": [
      "/anaconda3/lib/python3.6/site-packages/ipykernel_launcher.py:3: FutureWarning: 'publication_date' is both an index level and a column label.\n",
      "Defaulting to column, but this will raise an ambiguity error in a future version\n",
      "  This is separate from the ipykernel package so we can avoid doing imports until\n"
     ]
    }
   ],
   "source": [
    "#drop any duplicated headlines\n",
    "data = data.sort_values(['summary']).drop_duplicates(subset='title')\n",
    "data = data.sort_values(['publication_date'])"
   ]
  },
  {
   "cell_type": "code",
   "execution_count": 11,
   "metadata": {},
   "outputs": [],
   "source": [
    "# Concatenate all news into one\n",
    "#data[\"summary\"] = data.filter(regex=(\"Top.*\")).apply(lambda x: ''.join(str(x.values)), axis=1)"
   ]
  },
  {
   "cell_type": "code",
   "execution_count": 12,
   "metadata": {
    "scrolled": true
   },
   "outputs": [
    {
     "name": "stdout",
     "output_type": "stream",
     "text": [
      "['BNP', 'Paribas', 'to', 'pay', '$', '115', 'mln', 'to', 'settle', 'currency-rigging', 'lawsuit', '-', 'source']\n"
     ]
    }
   ],
   "source": [
    "#Tokenize Words Data \n",
    "text=data[\"summary\"][1]\n",
    "from nltk.tokenize import word_tokenize\n",
    "tokenized_word=word_tokenize(text)\n",
    "print(tokenized_word)"
   ]
  },
  {
   "cell_type": "code",
   "execution_count": 13,
   "metadata": {},
   "outputs": [
    {
     "name": "stdout",
     "output_type": "stream",
     "text": [
      "['BNP Paribas to pay $115 mln to settle currency-rigging lawsuit - source']\n"
     ]
    }
   ],
   "source": [
    "##Tokenize Sentences Data\n",
    "from nltk.tokenize import sent_tokenize\n",
    "tokenized_text=sent_tokenize(text)\n",
    "print(tokenized_text)"
   ]
  },
  {
   "cell_type": "code",
   "execution_count": 14,
   "metadata": {
    "scrolled": true
   },
   "outputs": [
    {
     "name": "stdout",
     "output_type": "stream",
     "text": [
      "{'other', 'after', 'again', 'couldn', 'yours', 'me', \"mustn't\", 'hasn', 'doesn', 'very', \"you'll\", 'there', 'this', 'few', 'can', 'doing', 's', 'same', 'both', 'be', 'haven', 'do', 'from', 'those', 'for', 'below', 'he', 'm', \"aren't\", 'up', 'itself', 'her', 'didn', 'him', \"wasn't\", 'any', 'once', 'against', \"isn't\", 'as', \"weren't\", 'off', 'and', 'their', 'is', 'during', 'such', 'ma', 'll', 'himself', 'further', 'when', 'each', \"hasn't\", 'no', \"didn't\", 'under', 'about', \"wouldn't\", 'my', 'its', 'did', 've', 'o', 'now', 'needn', 'but', 'hadn', 'with', \"it's\", \"you've\", \"doesn't\", 'own', 'being', 'some', \"hadn't\", 'until', 'or', 'at', 'his', 'nor', 'them', 'that', 'it', 'had', 'over', 'so', \"don't\", 'not', 'was', 'mustn', 'having', 'wouldn', \"needn't\", 'on', 'above', \"should've\", 'does', 'are', 'we', 'whom', 'in', 'mightn', 'am', \"mightn't\", 'myself', 'into', 'ourselves', 'isn', 'who', \"you're\", 'don', 'before', \"couldn't\", 'too', 'then', 'herself', 'hers', 'our', 'all', 'ours', 'an', 'more', 'out', 'by', \"won't\", 'while', \"you'd\", 'these', 're', 'shouldn', 'y', 'she', 'than', 'your', 'ain', 'why', 'only', 'they', 'you', 'd', 'of', 'a', 'where', 'what', \"she's\", 'were', 'has', 'themselves', 'if', 'most', 'been', 'should', \"shouldn't\", 'through', 'just', 'to', 'down', 't', 'how', 'between', 'because', 'will', 'weren', 'yourselves', 'won', \"that'll\", 'the', 'wasn', 'have', 'yourself', 'here', 'aren', 'theirs', \"shan't\", 'shan', 'which', \"haven't\", 'i'}\n"
     ]
    }
   ],
   "source": [
    "#Import English Stopwords\n",
    "from nltk.corpus import stopwords\n",
    "stop_words=set(stopwords.words(\"english\"))\n",
    "print(stop_words)"
   ]
  },
  {
   "cell_type": "code",
   "execution_count": 15,
   "metadata": {},
   "outputs": [
    {
     "name": "stdout",
     "output_type": "stream",
     "text": [
      "Tokenized Sentence: ['BNP Paribas to pay $115 mln to settle currency-rigging lawsuit - source']\n",
      "Filterd Sentence: ['BNP Paribas to pay $115 mln to settle currency-rigging lawsuit - source']\n"
     ]
    }
   ],
   "source": [
    "#Filter Stopwords\n",
    "filtered_sent=[]\n",
    "for w in tokenized_text:\n",
    "    if w not in stop_words:\n",
    "        filtered_sent.append(w)\n",
    "print(\"Tokenized Sentence:\",tokenized_text)\n",
    "print(\"Filterd Sentence:\",filtered_sent)"
   ]
  },
  {
   "cell_type": "markdown",
   "metadata": {},
   "source": [
    "https://github.com/Currie32/Predicting-the-Dow-Jones-with-Headlines/blob/master/Predict_Dow_with_News.ipynb\n",
    "# A list of contractions from http://stackoverflow.com/questions/19790188/expanding-english-language-contractions-in-python\n",
    "contractions = { \n",
    "\"ain't\": \"am not\",\n",
    "\"aren't\": \"are not\",\n",
    "\"can't\": \"cannot\",\n",
    "\"can't've\": \"cannot have\",\n",
    "\"'cause\": \"because\",\n",
    "\"could've\": \"could have\",\n",
    "\"couldn't\": \"could not\",\n",
    "\"couldn't've\": \"could not have\",\n",
    "\"didn't\": \"did not\",\n",
    "\"doesn't\": \"does not\",\n",
    "\"don't\": \"do not\",\n",
    "\"hadn't\": \"had not\",\n",
    "\"hadn't've\": \"had not have\",\n",
    "\"hasn't\": \"has not\",\n",
    "\"haven't\": \"have not\",\n",
    "\"he'd\": \"he would\",\n",
    "\"he'd've\": \"he would have\",\n",
    "\"he'll\": \"he will\",\n",
    "\"he's\": \"he is\",\n",
    "\"how'd\": \"how did\",\n",
    "\"how'll\": \"how will\",\n",
    "\"how's\": \"how is\",\n",
    "\"i'd\": \"i would\",\n",
    "\"i'll\": \"i will\",\n",
    "\"i'm\": \"i am\",\n",
    "\"i've\": \"i have\",\n",
    "\"isn't\": \"is not\",\n",
    "\"it'd\": \"it would\",\n",
    "\"it'll\": \"it will\",\n",
    "\"it's\": \"it is\",\n",
    "\"let's\": \"let us\",\n",
    "\"ma'am\": \"madam\",\n",
    "\"mayn't\": \"may not\",\n",
    "\"might've\": \"might have\",\n",
    "\"mightn't\": \"might not\",\n",
    "\"must've\": \"must have\",\n",
    "\"mustn't\": \"must not\",\n",
    "\"needn't\": \"need not\",\n",
    "\"oughtn't\": \"ought not\",\n",
    "\"shan't\": \"shall not\",\n",
    "\"sha'n't\": \"shall not\",\n",
    "\"she'd\": \"she would\",\n",
    "\"she'll\": \"she will\",\n",
    "\"she's\": \"she is\",\n",
    "\"should've\": \"should have\",\n",
    "\"shouldn't\": \"should not\",\n",
    "\"that'd\": \"that would\",\n",
    "\"that's\": \"that is\",\n",
    "\"there'd\": \"there had\",\n",
    "\"there's\": \"there is\",\n",
    "\"they'd\": \"they would\",\n",
    "\"they'll\": \"they will\",\n",
    "\"they're\": \"they are\",\n",
    "\"they've\": \"they have\",\n",
    "\"wasn't\": \"was not\",\n",
    "\"we'd\": \"we would\",\n",
    "\"we'll\": \"we will\",\n",
    "\"we're\": \"we are\",\n",
    "\"we've\": \"we have\",\n",
    "\"weren't\": \"were not\",\n",
    "\"what'll\": \"what will\",\n",
    "\"what're\": \"what are\",\n",
    "\"what's\": \"what is\",\n",
    "\"what've\": \"what have\",\n",
    "\"where'd\": \"where did\",\n",
    "\"where's\": \"where is\",\n",
    "\"who'll\": \"who will\",\n",
    "\"who's\": \"who is\",\n",
    "\"won't\": \"will not\",\n",
    "\"wouldn't\": \"would not\",\n",
    "\"you'd\": \"you would\",\n",
    "\"you'll\": \"you will\",\n",
    "\"you're\": \"you are\"\n",
    "}"
   ]
  },
  {
   "cell_type": "markdown",
   "metadata": {},
   "source": [
    "def clean_text(text, remove_stopwords = True):\n",
    "    '''Remove unwanted characters and format the text to create fewer nulls word embeddings'''\n",
    "    \n",
    "    # Convert words to lower case\n",
    "    text = text.lower()\n",
    "    \n",
    "    # Replace contractions with their longer forms \n",
    "    if True:\n",
    "        text = text.split()\n",
    "        new_text = []\n",
    "        for word in text:\n",
    "            if word in contractions:\n",
    "                new_text.append(contractions[word])\n",
    "            else:\n",
    "                new_text.append(word)\n",
    "        text = \" \".join(new_text)\n",
    "    \n",
    "    # Format words and remove unwanted characters\n",
    "    text = re.sub(r'&amp;', '', text) \n",
    "    text = re.sub(r'0,0', '00', text) \n",
    "    text = re.sub(r'[_\"\\-;%()|.,+&=*%.,!?:#@\\[\\]]', ' ', text)\n",
    "    text = re.sub(r'\\'', ' ', text)\n",
    "    text = re.sub(r'\\$', ' $ ', text)\n",
    "    text = re.sub(r'u s ', ' united states ', text)\n",
    "    text = re.sub(r'u n ', ' united nations ', text)\n",
    "    text = re.sub(r'u k ', ' united kingdom ', text)\n",
    "    text = re.sub(r'j k ', ' jk ', text)\n",
    "    text = re.sub(r' s ', ' ', text)\n",
    "    text = re.sub(r' yr ', ' year ', text)\n",
    "    text = re.sub(r' l g b t ', ' lgbt ', text)\n",
    "    text = re.sub(r'0km ', '0 km ', text)\n",
    "    \n",
    "    # Optionally, remove stop words\n",
    "    if remove_stopwords:\n",
    "        text = text.split()\n",
    "        stops = set(stopwords.words(\"english\"))\n",
    "        text = [w for w in text if not w in stops]\n",
    "        text = \" \".join(text)\n",
    "\n",
    "    return text"
   ]
  },
  {
   "cell_type": "markdown",
   "metadata": {},
   "source": [
    "# Clean the headlines\n",
    "clean_headlines = []\n",
    "\n",
    "for daily_headlines in data[\"summary\"]:\n",
    "    clean_daily_headlines = []\n",
    "    for headline in daily_headlines:\n",
    "        clean_daily_headlines.append(clean_text(headline))\n",
    "    clean_headlines.append(clean_daily_headlines)"
   ]
  },
  {
   "cell_type": "code",
   "execution_count": 16,
   "metadata": {},
   "outputs": [
    {
     "data": {
      "text/plain": [
       "\"publication_date\\n2015-07-21 19:12:17    Citi ordered to pay $770 million over credit c...\\n2015-08-14 17:16:07    BNP Paribas to pay $115 mln to settle currency...\\n2015-09-17 22:39:02    Wall Street banks eye December for Fed liftoff...\\n2015-10-05 16:43:23    Global business growth at weakest pace this ye...\\n2015-10-13 14:09:06    Barclays set to name former JPMorgan banker St...\\n2015-10-14 00:17:23        JPMorgan goes on a diet to appease regulators\\n2015-10-15 18:19:27    Goldman profit plunges as market turmoil hits ...\\n2015-12-02 22:37:26    Exclusive: Barclays' boss wants Blythe Masters...\\n2015-12-28 21:14:43    JPMorgan to raise deposit rates for some big c...\\n2016-01-14 17:54:08    JPMorgan strikes confident tone after better-t...\\n2016-01-29 00:20:44    Wells Fargo, BofA look to integrate Apple Pay ...\\n2016-02-22 10:06:00    JPMorgan may hold steady on cost target despit...\\n2016-03-16 22:11:24    JPMorgan, Citi shareholders to vote on potenti...\\n2016-03-22 14:11:33    Edelweiss buys J.P. Morgan's India mutual fund...\\n2016-05-05 15:47:13    JPMorgan becomes first global bank to fall fou...\\n2016-06-01 16:53:13    JPMorgan exec sees 'mid-teens' percentage rise...\\n2016-06-23 22:54:27      US bank JPMorgan says UK jobs could move abroad\\n2016-06-27 14:51:01    JPMorgan Chase & Co. Announces $175,000 to Hel...\\n2016-06-28 16:06:02    France's Macron demands quick EDF decision on ...\\n2016-06-30 06:00:00           JPMorgan Chase announces 2016 CCAR results\\n2016-07-01 10:38:36    JPMorgan wins approval to open three new branc...\\n2016-07-04 16:51:02    Overseas regulatory announcement JPMorgan Chas...\\n2016-07-05 01:31:03    Overseas regulatory announcement JPMorgan Chas...\\n2016-07-06 15:21:03    Overseas regulatory announcement JPMorgan Chas...\\n2016-07-07 01:31:05    Overseas regulatory announcement JPMorgan Chas...\\n2016-07-07 07:20:04    JPMorgan could move thousands of staff out of ...\\n2016-07-07 11:03:50    Investment banks tell UK's Osborne they will h...\\n2016-07-07 14:45:49    Germany predicts drop in exports to Britain du...\\n2016-07-07 20:14:33    The Latest: EU's Tusk hints at chance for UK t...\\n2016-07-12 06:25:59    After recent declines, are Barclays plc and St...\\n                                             ...                        \\n2019-08-06 05:29:41    JPMorgan wins auction for majority stake in Ch...\\n2019-08-06 10:00:16            Deals of the day-Mergers and acquisitions\\n2019-08-06 10:18:00    JPMorgan Chase Files Form 10-Q for the Quarter...\\n2019-08-06 11:33:11    Is Fidelity High Dividend ETF (FDVV) a Strong ...\\n2019-08-06 12:54:26                Top 3 Books to Learn About Blockchain\\n2019-08-06 13:16:30    Heritage Commerce Corp (HTBK) Ex-Dividend Date...\\n2019-08-06 13:16:52    Luther Burbank Corporation (LBC) Ex-Dividend D...\\n2019-08-06 13:17:09    First Interstate BancSystem, Inc. (FIBK) Ex-Di...\\n2019-08-06 13:17:27    WSFS Financial Corporation (WSFS) Ex-Dividend ...\\n2019-08-06 13:17:43    Wintrust Financial Corporation (WTFC) Ex-Divid...\\n2019-08-06 13:17:49    Veritex Holdings, Inc. (VBTX) Ex-Dividend Date...\\n2019-08-06 13:21:46    RPT-WeWork obtains commitments for US$6bn IPO-...\\n2019-08-06 13:34:01    Exploit the Short-Term Dip With These 5 Great ...\\n2019-08-06 13:41:01    Will JPM, MS Get Nod for Majority Stake in Chi...\\n2019-08-06 13:43:20    JPMorgan’s WeWork IPO Pursuit Was Many Years a...\\n2019-08-06 14:15:39    4 Stocks to Win Big as Bitcoin Flirts With $12...\\n2019-08-06 16:07:45    Notable ETF Inflow Detected - SPY, JPM, BAC, INTC\\n2019-08-06 21:58:14    ADM Falls to Three-Year Low as China Digs In o...\\n2019-08-07 09:04:12    Edited Transcript of JPM earnings conference c...\\n2019-08-07 09:22:44    China's Yuan Weakens After PBOC Sets Fixing Cl...\\n2019-08-07 11:00:58    Market Morning: Gold Breaks $1,500, World Watc...\\n2019-08-07 12:46:53    Cybersecurity Pros Name Their Price as Hacker ...\\n2019-08-07 13:27:01    HSBC to Resolve Belgium Money Laundering Lawsu...\\n2019-08-07 14:41:02    The Zacks Analyst Blog Highlights: JPMorgan Ch...\\n2019-08-07 17:29:00    Stocks -  Wall Street Roars Back from Big Earl...\\n2019-08-07 18:06:54    JPMorgan Chase opens its first North Carolina ...\\n2019-08-07 19:01:00    Jim Cramer: In America, Lower Rates Are Nirvan...\\n2019-08-07 19:20:02    5 Big Bank Stocks to Sell as Central Banks Cut...\\n2019-08-07 19:47:50    Expanding Their Reach: Top 6 Institutions Oper...\\n2019-08-07 22:03:39    US Indexes Close Mostly Higher for a 2nd Day o...\\nName: title, Length: 13933, dtype: object\""
      ]
     },
     "execution_count": 16,
     "metadata": {},
     "output_type": "execute_result"
    }
   ],
   "source": [
    "str(data[\"title\"])"
   ]
  },
  {
   "cell_type": "code",
   "execution_count": null,
   "metadata": {},
   "outputs": [],
   "source": []
  },
  {
   "cell_type": "code",
   "execution_count": 17,
   "metadata": {
    "scrolled": true
   },
   "outputs": [
    {
     "name": "stdout",
     "output_type": "stream",
     "text": [
      "publication_date\n",
      "2015-07-21 19:12:17    Citi ordered to pay $770 million over credit c...\n",
      "2015-08-14 17:16:07    BNP Paribas to pay $115 mln to settle currency...\n",
      "2015-09-17 22:39:02    Wall Street banks eye December for Fed liftoff...\n",
      "2015-10-05 16:43:23    Global business growth at weakest pace this ye...\n",
      "2015-10-13 14:09:06    Barclays set to name former JPMorgan banker St...\n",
      "2015-10-14 00:17:23        JPMorgan goes on a diet to appease regulators\n",
      "2015-10-15 18:19:27    Goldman profit plunges as market turmoil hits ...\n",
      "2015-12-02 22:37:26    Exclusive: Barclays' boss wants Blythe Masters...\n",
      "2015-12-28 21:14:43    JPMorgan to raise deposit rates for some big c...\n",
      "2016-01-14 17:54:08    JPMorgan strikes confident tone after better-t...\n",
      "2016-01-29 00:20:44    Wells Fargo, BofA look to integrate Apple Pay ...\n",
      "2016-02-22 10:06:00    JPMorgan may hold steady on cost target despit...\n",
      "2016-03-16 22:11:24    JPMorgan, Citi shareholders to vote on potenti...\n",
      "2016-03-22 14:11:33    Edelweiss buys J.P. Morgan's India mutual fund...\n",
      "2016-05-05 15:47:13    JPMorgan becomes first global bank to fall fou...\n",
      "2016-06-01 16:53:13    JPMorgan exec sees 'mid-teens' percentage rise...\n",
      "2016-06-23 22:54:27    [AFP] - US investment bank JPMorgan Chase on F...\n",
      "2016-06-27 14:51:01    [at noodls] - New support will help Baltimore'...\n",
      "2016-06-28 16:06:02    France's Macron demands quick EDF decision on ...\n",
      "2016-06-30 06:00:00           JPMorgan Chase announces 2016 CCAR results\n",
      "2016-07-01 10:38:36    JPMorgan wins approval to open three new branc...\n",
      "2016-07-04 16:51:02    [at noodls] - Overseas regulatory announcement...\n",
      "2016-07-05 01:31:03    [at noodls] - Overseas regulatory announcement...\n",
      "2016-07-06 15:21:03    [at noodls] - Overseas regulatory announcement...\n",
      "2016-07-07 01:31:05    [at noodls] - Overseas regulatory announcement...\n",
      "2016-07-07 07:20:04    JPMorgan could move thousands of staff out of ...\n",
      "2016-07-07 11:03:50    [Reuters - UK Focus] - Major investment banks ...\n",
      "2016-07-07 14:45:49    Germany predicts drop in exports to Britain du...\n",
      "2016-07-07 20:14:33    The Latest: EU's Tusk hints at chance for UK t...\n",
      "2016-07-12 06:25:59    After recent declines, are Barclays plc and St...\n",
      "                                             ...                        \n",
      "2019-08-06 05:29:41    JPMorgan confirmed on Tuesday that it had succ...\n",
      "2019-08-06 10:00:16    **  Payments processor Mastercard Inc said on ...\n",
      "2019-08-06 10:18:00    JPMorgan Chase & Co. has filed its Quarterly R...\n",
      "2019-08-06 11:33:11                       Smart Beta ETF report for FDVV\n",
      "2019-08-06 12:54:26    Here are reviews of three of the best availabl...\n",
      "2019-08-06 13:16:30    Heritage Commerce Corp HTBK will begin trading...\n",
      "2019-08-06 13:16:52    Luther Burbank Corporation LBC will begin trad...\n",
      "2019-08-06 13:17:09    First Interstate BancSystem Inc FIBK will begi...\n",
      "2019-08-06 13:17:27    WSFS Financial Corporation WSFS will begin tra...\n",
      "2019-08-06 13:17:43    Wintrust Financial Corporation WTFC will begin...\n",
      "2019-08-06 13:17:49    Veritex Holdings Inc VBTX will begin trading e...\n",
      "2019-08-06 13:21:46    Workspace provider WeWork has obtained commitm...\n",
      "2019-08-06 13:34:01    Despite recent reverses, leading market watche...\n",
      "2019-08-06 13:41:01    JPMorgan (JPM) and Morgan Stanley (MS) acquire...\n",
      "2019-08-06 13:43:20    (Bloomberg) -- When WeWork Cos.’ Adam Neumann ...\n",
      "2019-08-06 14:15:39    Bitcoin is zooming up The world s numero uno c...\n",
      "2019-08-06 16:07:45    Looking today at week over week shares outstan...\n",
      "2019-08-06 21:58:14    (Bloomberg) -- Archer-Daniels-Midland Co. shar...\n",
      "2019-08-07 09:04:12            Q2 2019 JPMorgan Chase & Co Earnings Call\n",
      "2019-08-07 09:22:44    (Bloomberg) -- China’s central bank set its da...\n",
      "2019-08-07 11:00:58    Gold Briefly Breaks Through $1,500, JPMorgan S...\n",
      "2019-08-07 12:46:53    (Bloomberg) -- It took a $650,000 salary for M...\n",
      "2019-08-07 13:27:01    HSBC Holdings' (HSBC) agreement to settle Belg...\n",
      "2019-08-07 14:41:02    The Zacks Analyst Blog Highlights: JPMorgan Ch...\n",
      "2019-08-07 17:29:00    Investing.com – Stocks found a footing after p...\n",
      "2019-08-07 18:06:54    JPMorgan Chase opened the doors to its new Cha...\n",
      "2019-08-07 19:01:00    Lower rates are terrible unless you spend mone...\n",
      "2019-08-07 19:20:02    Global equities are reeling again on Wednesday...\n",
      "2019-08-07 19:47:50    Love it or hate it - research and development ...\n",
      "2019-08-07 22:03:39                S&P; 500 up 0.08% Continue reading...\n",
      "Name: summary, Length: 13933, dtype: object\n"
     ]
    }
   ],
   "source": [
    "print(data[\"summary\"])"
   ]
  },
  {
   "cell_type": "markdown",
   "metadata": {},
   "source": [
    "### SIA compound score Calculation \n",
    "https://www.learndatasci.com/tutorials/sentiment-analysis-reddit-headlines-pythons-nltk/\n"
   ]
  },
  {
   "cell_type": "code",
   "execution_count": 20,
   "metadata": {},
   "outputs": [
    {
     "name": "stdout",
     "output_type": "stream",
     "text": [
      "[{'neg': 0.117, 'neu': 0.667, 'pos': 0.217, 'compound': 0.296, 'headline': 'Citi ordered to pay $770 million over credit card practices'}, {'neg': 0.268, 'neu': 0.732, 'pos': 0.0, 'compound': -0.3182, 'headline': 'BNP Paribas to pay $115 mln to settle currency-rigging lawsuit - source'}, {'neg': 0.0, 'neu': 1.0, 'pos': 0.0, 'compound': 0.0, 'headline': 'Wall Street banks eye December for Fed liftoff - Reuters poll'}]\n"
     ]
    }
   ],
   "source": [
    "sia = SIA()\n",
    "results = []\n",
    "\n",
    "for line in data[\"title\"]:\n",
    "    pol_score = sia.polarity_scores(line)\n",
    "    pol_score['headline'] = line\n",
    "    results.append(pol_score)\n",
    "\n",
    "print(results[:3])"
   ]
  },
  {
   "cell_type": "code",
   "execution_count": 21,
   "metadata": {
    "scrolled": false
   },
   "outputs": [
    {
     "data": {
      "text/html": [
       "<div>\n",
       "<style scoped>\n",
       "    .dataframe tbody tr th:only-of-type {\n",
       "        vertical-align: middle;\n",
       "    }\n",
       "\n",
       "    .dataframe tbody tr th {\n",
       "        vertical-align: top;\n",
       "    }\n",
       "\n",
       "    .dataframe thead th {\n",
       "        text-align: right;\n",
       "    }\n",
       "</style>\n",
       "<table border=\"1\" class=\"dataframe\">\n",
       "  <thead>\n",
       "    <tr style=\"text-align: right;\">\n",
       "      <th></th>\n",
       "      <th>compound</th>\n",
       "      <th>headline</th>\n",
       "      <th>neg</th>\n",
       "      <th>neu</th>\n",
       "      <th>pos</th>\n",
       "    </tr>\n",
       "  </thead>\n",
       "  <tbody>\n",
       "    <tr>\n",
       "      <th>0</th>\n",
       "      <td>0.2960</td>\n",
       "      <td>Citi ordered to pay $770 million over credit c...</td>\n",
       "      <td>0.117</td>\n",
       "      <td>0.667</td>\n",
       "      <td>0.217</td>\n",
       "    </tr>\n",
       "    <tr>\n",
       "      <th>1</th>\n",
       "      <td>-0.3182</td>\n",
       "      <td>BNP Paribas to pay $115 mln to settle currency...</td>\n",
       "      <td>0.268</td>\n",
       "      <td>0.732</td>\n",
       "      <td>0.000</td>\n",
       "    </tr>\n",
       "    <tr>\n",
       "      <th>2</th>\n",
       "      <td>0.0000</td>\n",
       "      <td>Wall Street banks eye December for Fed liftoff...</td>\n",
       "      <td>0.000</td>\n",
       "      <td>1.000</td>\n",
       "      <td>0.000</td>\n",
       "    </tr>\n",
       "    <tr>\n",
       "      <th>3</th>\n",
       "      <td>-0.1779</td>\n",
       "      <td>Global business growth at weakest pace this ye...</td>\n",
       "      <td>0.221</td>\n",
       "      <td>0.604</td>\n",
       "      <td>0.174</td>\n",
       "    </tr>\n",
       "    <tr>\n",
       "      <th>4</th>\n",
       "      <td>0.0000</td>\n",
       "      <td>Barclays set to name former JPMorgan banker St...</td>\n",
       "      <td>0.000</td>\n",
       "      <td>1.000</td>\n",
       "      <td>0.000</td>\n",
       "    </tr>\n",
       "  </tbody>\n",
       "</table>\n",
       "</div>"
      ],
      "text/plain": [
       "   compound                                           headline    neg    neu  \\\n",
       "0    0.2960  Citi ordered to pay $770 million over credit c...  0.117  0.667   \n",
       "1   -0.3182  BNP Paribas to pay $115 mln to settle currency...  0.268  0.732   \n",
       "2    0.0000  Wall Street banks eye December for Fed liftoff...  0.000  1.000   \n",
       "3   -0.1779  Global business growth at weakest pace this ye...  0.221  0.604   \n",
       "4    0.0000  Barclays set to name former JPMorgan banker St...  0.000  1.000   \n",
       "\n",
       "     pos  \n",
       "0  0.217  \n",
       "1  0.000  \n",
       "2  0.000  \n",
       "3  0.174  \n",
       "4  0.000  "
      ]
     },
     "execution_count": 21,
     "metadata": {},
     "output_type": "execute_result"
    }
   ],
   "source": [
    "df123 = pd.DataFrame(results)\n",
    "#df123['publication_date'] = data['publication_date']\n",
    "#df123.Date = pd.to_datetime(df123.publication_date)\n",
    "#df123.set_index('publication_date', inplace=True)\n",
    "df123.head()"
   ]
  },
  {
   "cell_type": "code",
   "execution_count": 22,
   "metadata": {},
   "outputs": [
    {
     "name": "stdout",
     "output_type": "stream",
     "text": [
      "BNP Paribas to pay $115 mln to settle currency-rigging lawsuit - source\n"
     ]
    }
   ],
   "source": [
    "print(df123['headline'][1])"
   ]
  },
  {
   "cell_type": "code",
   "execution_count": 23,
   "metadata": {
    "scrolled": false
   },
   "outputs": [
    {
     "data": {
      "text/html": [
       "<div>\n",
       "<style scoped>\n",
       "    .dataframe tbody tr th:only-of-type {\n",
       "        vertical-align: middle;\n",
       "    }\n",
       "\n",
       "    .dataframe tbody tr th {\n",
       "        vertical-align: top;\n",
       "    }\n",
       "\n",
       "    .dataframe thead th {\n",
       "        text-align: right;\n",
       "    }\n",
       "</style>\n",
       "<table border=\"1\" class=\"dataframe\">\n",
       "  <thead>\n",
       "    <tr style=\"text-align: right;\">\n",
       "      <th></th>\n",
       "      <th>compound</th>\n",
       "      <th>neg</th>\n",
       "      <th>neu</th>\n",
       "      <th>pos</th>\n",
       "    </tr>\n",
       "  </thead>\n",
       "  <tbody>\n",
       "    <tr>\n",
       "      <th>count</th>\n",
       "      <td>13933.000000</td>\n",
       "      <td>13933.000000</td>\n",
       "      <td>13933.000000</td>\n",
       "      <td>13933.000000</td>\n",
       "    </tr>\n",
       "    <tr>\n",
       "      <th>mean</th>\n",
       "      <td>0.078308</td>\n",
       "      <td>0.044418</td>\n",
       "      <td>0.862003</td>\n",
       "      <td>0.093579</td>\n",
       "    </tr>\n",
       "    <tr>\n",
       "      <th>std</th>\n",
       "      <td>0.286697</td>\n",
       "      <td>0.103161</td>\n",
       "      <td>0.168421</td>\n",
       "      <td>0.141857</td>\n",
       "    </tr>\n",
       "    <tr>\n",
       "      <th>min</th>\n",
       "      <td>-0.925300</td>\n",
       "      <td>0.000000</td>\n",
       "      <td>0.146000</td>\n",
       "      <td>0.000000</td>\n",
       "    </tr>\n",
       "    <tr>\n",
       "      <th>25%</th>\n",
       "      <td>0.000000</td>\n",
       "      <td>0.000000</td>\n",
       "      <td>0.738000</td>\n",
       "      <td>0.000000</td>\n",
       "    </tr>\n",
       "    <tr>\n",
       "      <th>50%</th>\n",
       "      <td>0.000000</td>\n",
       "      <td>0.000000</td>\n",
       "      <td>1.000000</td>\n",
       "      <td>0.000000</td>\n",
       "    </tr>\n",
       "    <tr>\n",
       "      <th>75%</th>\n",
       "      <td>0.250000</td>\n",
       "      <td>0.000000</td>\n",
       "      <td>1.000000</td>\n",
       "      <td>0.196000</td>\n",
       "    </tr>\n",
       "    <tr>\n",
       "      <th>max</th>\n",
       "      <td>0.920600</td>\n",
       "      <td>0.737000</td>\n",
       "      <td>1.000000</td>\n",
       "      <td>0.854000</td>\n",
       "    </tr>\n",
       "  </tbody>\n",
       "</table>\n",
       "</div>"
      ],
      "text/plain": [
       "           compound           neg           neu           pos\n",
       "count  13933.000000  13933.000000  13933.000000  13933.000000\n",
       "mean       0.078308      0.044418      0.862003      0.093579\n",
       "std        0.286697      0.103161      0.168421      0.141857\n",
       "min       -0.925300      0.000000      0.146000      0.000000\n",
       "25%        0.000000      0.000000      0.738000      0.000000\n",
       "50%        0.000000      0.000000      1.000000      0.000000\n",
       "75%        0.250000      0.000000      1.000000      0.196000\n",
       "max        0.920600      0.737000      1.000000      0.854000"
      ]
     },
     "execution_count": 23,
     "metadata": {},
     "output_type": "execute_result"
    }
   ],
   "source": [
    "df123.describe()"
   ]
  },
  {
   "cell_type": "code",
   "execution_count": 24,
   "metadata": {
    "scrolled": false
   },
   "outputs": [
    {
     "name": "stdout",
     "output_type": "stream",
     "text": [
      "<class 'pandas.core.frame.DataFrame'>\n",
      "RangeIndex: 13933 entries, 0 to 13932\n",
      "Data columns (total 5 columns):\n",
      "compound    13933 non-null float64\n",
      "headline    13933 non-null object\n",
      "neg         13933 non-null float64\n",
      "neu         13933 non-null float64\n",
      "pos         13933 non-null float64\n",
      "dtypes: float64(4), object(1)\n",
      "memory usage: 544.3+ KB\n"
     ]
    }
   ],
   "source": [
    "df123.info()"
   ]
  },
  {
   "cell_type": "code",
   "execution_count": 25,
   "metadata": {
    "scrolled": true
   },
   "outputs": [
    {
     "data": {
      "text/html": [
       "<div>\n",
       "<style scoped>\n",
       "    .dataframe tbody tr th:only-of-type {\n",
       "        vertical-align: middle;\n",
       "    }\n",
       "\n",
       "    .dataframe tbody tr th {\n",
       "        vertical-align: top;\n",
       "    }\n",
       "\n",
       "    .dataframe thead th {\n",
       "        text-align: right;\n",
       "    }\n",
       "</style>\n",
       "<table border=\"1\" class=\"dataframe\">\n",
       "  <thead>\n",
       "    <tr style=\"text-align: right;\">\n",
       "      <th></th>\n",
       "      <th>compound</th>\n",
       "      <th>headline</th>\n",
       "      <th>neg</th>\n",
       "      <th>neu</th>\n",
       "      <th>pos</th>\n",
       "      <th>label</th>\n",
       "    </tr>\n",
       "  </thead>\n",
       "  <tbody>\n",
       "    <tr>\n",
       "      <th>0</th>\n",
       "      <td>0.2960</td>\n",
       "      <td>Citi ordered to pay $770 million over credit c...</td>\n",
       "      <td>0.117</td>\n",
       "      <td>0.667</td>\n",
       "      <td>0.217</td>\n",
       "      <td>1</td>\n",
       "    </tr>\n",
       "    <tr>\n",
       "      <th>1</th>\n",
       "      <td>-0.3182</td>\n",
       "      <td>BNP Paribas to pay $115 mln to settle currency...</td>\n",
       "      <td>0.268</td>\n",
       "      <td>0.732</td>\n",
       "      <td>0.000</td>\n",
       "      <td>-1</td>\n",
       "    </tr>\n",
       "    <tr>\n",
       "      <th>2</th>\n",
       "      <td>0.0000</td>\n",
       "      <td>Wall Street banks eye December for Fed liftoff...</td>\n",
       "      <td>0.000</td>\n",
       "      <td>1.000</td>\n",
       "      <td>0.000</td>\n",
       "      <td>0</td>\n",
       "    </tr>\n",
       "    <tr>\n",
       "      <th>3</th>\n",
       "      <td>-0.1779</td>\n",
       "      <td>Global business growth at weakest pace this ye...</td>\n",
       "      <td>0.221</td>\n",
       "      <td>0.604</td>\n",
       "      <td>0.174</td>\n",
       "      <td>-1</td>\n",
       "    </tr>\n",
       "    <tr>\n",
       "      <th>4</th>\n",
       "      <td>0.0000</td>\n",
       "      <td>Barclays set to name former JPMorgan banker St...</td>\n",
       "      <td>0.000</td>\n",
       "      <td>1.000</td>\n",
       "      <td>0.000</td>\n",
       "      <td>0</td>\n",
       "    </tr>\n",
       "  </tbody>\n",
       "</table>\n",
       "</div>"
      ],
      "text/plain": [
       "   compound                                           headline    neg    neu  \\\n",
       "0    0.2960  Citi ordered to pay $770 million over credit c...  0.117  0.667   \n",
       "1   -0.3182  BNP Paribas to pay $115 mln to settle currency...  0.268  0.732   \n",
       "2    0.0000  Wall Street banks eye December for Fed liftoff...  0.000  1.000   \n",
       "3   -0.1779  Global business growth at weakest pace this ye...  0.221  0.604   \n",
       "4    0.0000  Barclays set to name former JPMorgan banker St...  0.000  1.000   \n",
       "\n",
       "     pos  label  \n",
       "0  0.217      1  \n",
       "1  0.000     -1  \n",
       "2  0.000      0  \n",
       "3  0.174     -1  \n",
       "4  0.000      0  "
      ]
     },
     "execution_count": 25,
     "metadata": {},
     "output_type": "execute_result"
    }
   ],
   "source": [
    "df123['label'] = 0\n",
    "df123.loc[df123['compound'] > 0.1, 'label'] = 1\n",
    "df123.loc[df123['compound'] < -0.1, 'label'] = -1\n",
    "df123.head()"
   ]
  },
  {
   "cell_type": "code",
   "execution_count": 26,
   "metadata": {},
   "outputs": [
    {
     "name": "stdout",
     "output_type": "stream",
     "text": [
      "Positive headlines:\n",
      "\n",
      "['Citi ordered to pay $770 million over credit card practices', 'JPMorgan goes on a diet to appease regulators', 'Goldman profit plunges as market turmoil hits bond trading', \"Exclusive: Barclays' boss wants Blythe Masters to run investment bank - source\", 'JPMorgan strikes confident tone after better-than-expected results']\n"
     ]
    }
   ],
   "source": [
    "print(\"Positive headlines:\\n\")\n",
    "print(list(df123[df123['label'] == 1].headline)[:5])\n"
   ]
  },
  {
   "cell_type": "code",
   "execution_count": 27,
   "metadata": {},
   "outputs": [
    {
     "name": "stdout",
     "output_type": "stream",
     "text": [
      "\n",
      "Negative headlines:\n",
      "\n",
      "['BNP Paribas to pay $115 mln to settle currency-rigging lawsuit - source', 'Global business growth at weakest pace this year in Sept - PMI', 'JPMorgan may hold steady on cost target despite low interest rates', 'Germany predicts drop in exports to Britain due to EU exit', 'UK must consider pace of deficit reduction - finance minister Hammond']\n"
     ]
    }
   ],
   "source": [
    "print(\"\\nNegative headlines:\\n\")\n",
    "print(list(df123[df123['label'] == -1].headline)[:5])"
   ]
  },
  {
   "cell_type": "code",
   "execution_count": 28,
   "metadata": {
    "scrolled": true
   },
   "outputs": [
    {
     "name": "stdout",
     "output_type": "stream",
     "text": [
      " 0    7754\n",
      " 1    4275\n",
      "-1    1904\n",
      "Name: label, dtype: int64\n",
      " 0    55.652049\n",
      " 1    30.682552\n",
      "-1    13.665399\n",
      "Name: label, dtype: float64\n"
     ]
    }
   ],
   "source": [
    "print(df123.label.value_counts())\n",
    "\n",
    "print(df123.label.value_counts(normalize=True) * 100)"
   ]
  },
  {
   "cell_type": "code",
   "execution_count": 29,
   "metadata": {
    "scrolled": true
   },
   "outputs": [
    {
     "data": {
      "image/png": "[encoded data removed]",
      "text/plain": [
       "<Figure size 576x576 with 1 Axes>"
      ]
     },
     "metadata": {},
     "output_type": "display_data"
    }
   ],
   "source": [
    "import seaborn as sns\n",
    "fig, ax = plt.subplots(figsize=(8, 8))\n",
    "\n",
    "counts = df123.label.value_counts(normalize=True) * 100\n",
    "\n",
    "sns.barplot(x=counts.index, y=counts, ax=ax)\n",
    "\n",
    "ax.set_xticklabels(['Negative', 'Neutral', 'Positive'])\n",
    "ax.set_ylabel(\"Percentage\")\n",
    "\n",
    "plt.show()"
   ]
  },
  {
   "cell_type": "code",
   "execution_count": 30,
   "metadata": {},
   "outputs": [
    {
     "name": "stderr",
     "output_type": "stream",
     "text": [
      "/anaconda3/lib/python3.6/site-packages/matplotlib/axes/_axes.py:6462: UserWarning: The 'normed' kwarg is deprecated, and has been replaced by the 'density' kwarg.\n",
      "  warnings.warn(\"The 'normed' kwarg is deprecated, and has been \"\n"
     ]
    },
    {
     "data": {
      "text/plain": [
       "Text(0,0.5,'Count')"
      ]
     },
     "execution_count": 30,
     "metadata": {},
     "output_type": "execute_result"
    },
    {
     "data": {
      "image/png": "[encoded data removed]",
      "text/plain": [
       "<Figure size 432x288 with 1 Axes>"
      ]
     },
     "metadata": {},
     "output_type": "display_data"
    }
   ],
   "source": [
    "\n",
    "# seaborn histogram\n",
    "sns.distplot(df123['compound'], hist=True, kde=False, \n",
    "             bins=int(180/5), color = 'blue',\n",
    "             hist_kws={'edgecolor':'black'})\n",
    "# Add labels\n",
    "plt.title('Histogram of Compound Sentiment')\n",
    "plt.xlabel('Score')\n",
    "plt.ylabel('Count')"
   ]
  },
  {
   "cell_type": "code",
   "execution_count": 31,
   "metadata": {
    "scrolled": true
   },
   "outputs": [],
   "source": [
    "#https://github.com/llSourcell/Stock_Market_Prediction/blob/master/Generating%20Different%20Models.ipynb\n",
    "#import numpy as np\n",
    "#import pandas as pd\n",
    "#from nltk.classify import NaiveBayesClassifier\n",
    "#from nltk.corpus import subjectivity\n",
    "#from nltk.sentiment import SentimentAnalyzer\n",
    "#from nltk.sentiment.util import *\n",
    "#import nltk\n",
    "#nltk.downloader.download('vader_lexicon')\n",
    "\n",
    "#sentence = 'paris shootout police officer suspected guman dead'\n",
    "#from nltk.sentiment.vader import SentimentIntensityAnalyzer\n",
    "#import unicodedata\n",
    "#sid = SentimentIntensityAnalyzer()\n",
    "#ss = sid.polarity_scores(sentence)\n",
    "#ss"
   ]
  },
  {
   "cell_type": "code",
   "execution_count": 32,
   "metadata": {},
   "outputs": [
    {
     "data": {
      "text/html": [
       "<div>\n",
       "<style scoped>\n",
       "    .dataframe tbody tr th:only-of-type {\n",
       "        vertical-align: middle;\n",
       "    }\n",
       "\n",
       "    .dataframe tbody tr th {\n",
       "        vertical-align: top;\n",
       "    }\n",
       "\n",
       "    .dataframe thead th {\n",
       "        text-align: right;\n",
       "    }\n",
       "</style>\n",
       "<table border=\"1\" class=\"dataframe\">\n",
       "  <thead>\n",
       "    <tr style=\"text-align: right;\">\n",
       "      <th></th>\n",
       "      <th>compound</th>\n",
       "      <th>headline</th>\n",
       "      <th>neg</th>\n",
       "      <th>neu</th>\n",
       "      <th>pos</th>\n",
       "      <th>label</th>\n",
       "    </tr>\n",
       "    <tr>\n",
       "      <th>publication_date</th>\n",
       "      <th></th>\n",
       "      <th></th>\n",
       "      <th></th>\n",
       "      <th></th>\n",
       "      <th></th>\n",
       "      <th></th>\n",
       "    </tr>\n",
       "  </thead>\n",
       "  <tbody>\n",
       "    <tr>\n",
       "      <th>2015-07-21 19:12:17</th>\n",
       "      <td>0.2960</td>\n",
       "      <td>Citi ordered to pay $770 million over credit c...</td>\n",
       "      <td>0.117</td>\n",
       "      <td>0.667</td>\n",
       "      <td>0.217</td>\n",
       "      <td>1</td>\n",
       "    </tr>\n",
       "    <tr>\n",
       "      <th>2015-08-14 17:16:07</th>\n",
       "      <td>-0.3182</td>\n",
       "      <td>BNP Paribas to pay $115 mln to settle currency...</td>\n",
       "      <td>0.268</td>\n",
       "      <td>0.732</td>\n",
       "      <td>0.000</td>\n",
       "      <td>-1</td>\n",
       "    </tr>\n",
       "    <tr>\n",
       "      <th>2015-09-17 22:39:02</th>\n",
       "      <td>0.0000</td>\n",
       "      <td>Wall Street banks eye December for Fed liftoff...</td>\n",
       "      <td>0.000</td>\n",
       "      <td>1.000</td>\n",
       "      <td>0.000</td>\n",
       "      <td>0</td>\n",
       "    </tr>\n",
       "    <tr>\n",
       "      <th>2015-10-05 16:43:23</th>\n",
       "      <td>-0.1779</td>\n",
       "      <td>Global business growth at weakest pace this ye...</td>\n",
       "      <td>0.221</td>\n",
       "      <td>0.604</td>\n",
       "      <td>0.174</td>\n",
       "      <td>-1</td>\n",
       "    </tr>\n",
       "    <tr>\n",
       "      <th>2015-10-13 14:09:06</th>\n",
       "      <td>0.0000</td>\n",
       "      <td>Barclays set to name former JPMorgan banker St...</td>\n",
       "      <td>0.000</td>\n",
       "      <td>1.000</td>\n",
       "      <td>0.000</td>\n",
       "      <td>0</td>\n",
       "    </tr>\n",
       "  </tbody>\n",
       "</table>\n",
       "</div>"
      ],
      "text/plain": [
       "                     compound  \\\n",
       "publication_date                \n",
       "2015-07-21 19:12:17    0.2960   \n",
       "2015-08-14 17:16:07   -0.3182   \n",
       "2015-09-17 22:39:02    0.0000   \n",
       "2015-10-05 16:43:23   -0.1779   \n",
       "2015-10-13 14:09:06    0.0000   \n",
       "\n",
       "                                                              headline    neg  \\\n",
       "publication_date                                                                \n",
       "2015-07-21 19:12:17  Citi ordered to pay $770 million over credit c...  0.117   \n",
       "2015-08-14 17:16:07  BNP Paribas to pay $115 mln to settle currency...  0.268   \n",
       "2015-09-17 22:39:02  Wall Street banks eye December for Fed liftoff...  0.000   \n",
       "2015-10-05 16:43:23  Global business growth at weakest pace this ye...  0.221   \n",
       "2015-10-13 14:09:06  Barclays set to name former JPMorgan banker St...  0.000   \n",
       "\n",
       "                       neu    pos  label  \n",
       "publication_date                          \n",
       "2015-07-21 19:12:17  0.667  0.217      1  \n",
       "2015-08-14 17:16:07  0.732  0.000     -1  \n",
       "2015-09-17 22:39:02  1.000  0.000      0  \n",
       "2015-10-05 16:43:23  0.604  0.174     -1  \n",
       "2015-10-13 14:09:06  1.000  0.000      0  "
      ]
     },
     "execution_count": 32,
     "metadata": {},
     "output_type": "execute_result"
    }
   ],
   "source": [
    "df123.index =data['publication_date']\n",
    "df123.head()"
   ]
  },
  {
   "cell_type": "code",
   "execution_count": 33,
   "metadata": {},
   "outputs": [],
   "source": [
    "df123.to_csv('JPM_sent_news.csv')"
   ]
  },
  {
   "cell_type": "code",
   "execution_count": null,
   "metadata": {},
   "outputs": [],
   "source": []
  }
 ],
 "metadata": {
  "kernelspec": {
   "display_name": "Python 3",
   "language": "python",
   "name": "python3"
  },
  "language_info": {
   "codemirror_mode": {
    "name": "ipython",
    "version": 3
   },
   "file_extension": ".py",
   "mimetype": "text/x-python",
   "name": "python",
   "nbconvert_exporter": "python",
   "pygments_lexer": "ipython3",
   "version": "3.6.5"
  }
 },
 "nbformat": 4,
 "nbformat_minor": 2
}
