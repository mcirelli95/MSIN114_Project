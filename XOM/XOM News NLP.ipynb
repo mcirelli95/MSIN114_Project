{
 "cells": [
  {
   "cell_type": "code",
   "execution_count": 67,
   "metadata": {},
   "outputs": [],
   "source": [
    "import pandas as pd\n",
    "import matplotlib.pyplot as plt\n",
    "import numpy as np\n",
    "import seaborn as sns\n",
    "from sklearn.feature_extraction.text import CountVectorizer\n",
    "from sklearn.linear_model import LogisticRegression\n",
    "from sklearn import preprocessing\n",
    "from nltk.sentiment.vader import SentimentIntensityAnalyzer as SIA\n",
    "import math\n",
    "import pprint\n",
    "from sklearn import preprocessing\n",
    "import re"
   ]
  },
  {
   "cell_type": "code",
   "execution_count": 68,
   "metadata": {},
   "outputs": [
    {
     "name": "stdout",
     "output_type": "stream",
     "text": [
      "[nltk_data] Downloading package punkt to\n",
      "[nltk_data]     /Users/mattcirelli/nltk_data...\n",
      "[nltk_data]   Package punkt is already up-to-date!\n"
     ]
    }
   ],
   "source": [
    "from vaderSentiment.vaderSentiment import SentimentIntensityAnalyzer\n",
    "from nltk.tokenize import RegexpTokenizer, sent_tokenize\n",
    "import nltk\n",
    "nltk.download('punkt')\n",
    "from nltk import word_tokenize\n",
    "\n",
    "sia = SentimentIntensityAnalyzer()"
   ]
  },
  {
   "cell_type": "code",
   "execution_count": 69,
   "metadata": {},
   "outputs": [],
   "source": [
    "# Update SIA with Loughran McDonald Dictionary\n",
    "\n",
    "import csv\n",
    "import pandas as pd\n",
    "\n",
    "# stock market lexicon\n",
    "stock_lex = pd.read_csv('stock_lex.csv')\n",
    "\n",
    "stock_lex['sentiment'] = (stock_lex['Aff_Score'] + stock_lex['Neg_Score'])/2\n",
    "stock_lex = dict(zip(stock_lex.Item, stock_lex.sentiment))\n",
    "stock_lex = {k:v for k,v in stock_lex.items() if len(k.split(' '))==1}\n",
    "stock_lex_scaled = {}\n",
    "for k, v in stock_lex.items():\n",
    "    if v > 0:\n",
    "        stock_lex_scaled[k] = v / max(stock_lex.values()) * 4\n",
    "    else:\n",
    "        stock_lex_scaled[k] = v / min(stock_lex.values()) * -4\n",
    "\n",
    "#update the positive and negative dictionaries\n",
    "positive = []\n",
    "reader = csv.reader('lm_positive.csv')\n",
    "for row in reader:\n",
    "    positive.append(row[0].strip())\n",
    "    \n",
    "negative = []\n",
    "reader = csv.reader('lm_negative.csv')\n",
    "for row in reader:\n",
    "    entry = row[0].strip().split(\" \")\n",
    "    if len(entry) > 1:\n",
    "        negative.extend(entry)\n",
    "    else:\n",
    "        negative.append(entry[0])\n",
    "\n",
    "final_lex = {}\n",
    "final_lex.update({word:2.0 for word in positive})\n",
    "final_lex.update({word:-2.0 for word in negative})\n",
    "final_lex.update(stock_lex_scaled)\n",
    "final_lex.update(sia.lexicon)\n",
    "sia.lexicon = final_lex"
   ]
  },
  {
   "cell_type": "code",
   "execution_count": 70,
   "metadata": {},
   "outputs": [],
   "source": [
    "data = pd.read_csv('XOM_news.csv')"
   ]
  },
  {
   "cell_type": "code",
   "execution_count": 71,
   "metadata": {
    "scrolled": false
   },
   "outputs": [
    {
     "data": {
      "text/html": [
       "<div>\n",
       "<style scoped>\n",
       "    .dataframe tbody tr th:only-of-type {\n",
       "        vertical-align: middle;\n",
       "    }\n",
       "\n",
       "    .dataframe tbody tr th {\n",
       "        vertical-align: top;\n",
       "    }\n",
       "\n",
       "    .dataframe thead th {\n",
       "        text-align: right;\n",
       "    }\n",
       "</style>\n",
       "<table border=\"1\" class=\"dataframe\">\n",
       "  <thead>\n",
       "    <tr style=\"text-align: right;\">\n",
       "      <th></th>\n",
       "      <th>Unnamed: 0</th>\n",
       "      <th>company</th>\n",
       "      <th>id</th>\n",
       "      <th>publication_date</th>\n",
       "      <th>summary</th>\n",
       "      <th>title</th>\n",
       "      <th>url</th>\n",
       "    </tr>\n",
       "  </thead>\n",
       "  <tbody>\n",
       "    <tr>\n",
       "      <th>0</th>\n",
       "      <td>0</td>\n",
       "      <td>NaN</td>\n",
       "      <td>nws_JbvxWa</td>\n",
       "      <td>2019-08-07 23:00:00+00:00</td>\n",
       "      <td>TOKYO/SINGAPORE, Aug 7 (Reuters) - An inexorab...</td>\n",
       "      <td>RPT-Japan LNG buyers talk tough as spot prices...</td>\n",
       "      <td>https://finance.yahoo.com/news/rpt-japan-lng-b...</td>\n",
       "    </tr>\n",
       "    <tr>\n",
       "      <th>1</th>\n",
       "      <td>1</td>\n",
       "      <td>NaN</td>\n",
       "      <td>nws_PQOxJP</td>\n",
       "      <td>2019-08-07 23:00:00+00:00</td>\n",
       "      <td>Markets took a beating this week, with a numbe...</td>\n",
       "      <td>The Worst Is Still To Come In Energy Markets</td>\n",
       "      <td>https://finance.yahoo.com/news/worst-still-com...</td>\n",
       "    </tr>\n",
       "    <tr>\n",
       "      <th>2</th>\n",
       "      <td>2</td>\n",
       "      <td>NaN</td>\n",
       "      <td>nws_KkLDpo</td>\n",
       "      <td>2019-08-07 20:12:27+00:00</td>\n",
       "      <td>After opening lower in dramatic fashion, stock...</td>\n",
       "      <td>Dow Jones Today: Sliding Bond Yields Lift Divi...</td>\n",
       "      <td>https://finance.yahoo.com/news/dow-jones-today...</td>\n",
       "    </tr>\n",
       "    <tr>\n",
       "      <th>3</th>\n",
       "      <td>3</td>\n",
       "      <td>NaN</td>\n",
       "      <td>nws_GrjbeV</td>\n",
       "      <td>2019-08-07 17:52:05+00:00</td>\n",
       "      <td>Style Box ETF report for IWX</td>\n",
       "      <td>Should iShares Russell Top 200 Value ETF (IWX)...</td>\n",
       "      <td>https://finance.yahoo.com/news/ishares-russell...</td>\n",
       "    </tr>\n",
       "    <tr>\n",
       "      <th>4</th>\n",
       "      <td>4</td>\n",
       "      <td>NaN</td>\n",
       "      <td>nws_035E9w</td>\n",
       "      <td>2019-08-07 15:19:03+00:00</td>\n",
       "      <td>Integrated majors ExxonMobil (XOM), Chevron (C...</td>\n",
       "      <td>Oil &amp; Gas Stock Roundup: Exxon, Chevron, Shell...</td>\n",
       "      <td>https://finance.yahoo.com/news/oil-gas-stock-r...</td>\n",
       "    </tr>\n",
       "  </tbody>\n",
       "</table>\n",
       "</div>"
      ],
      "text/plain": [
       "   Unnamed: 0  company          id           publication_date  \\\n",
       "0           0      NaN  nws_JbvxWa  2019-08-07 23:00:00+00:00   \n",
       "1           1      NaN  nws_PQOxJP  2019-08-07 23:00:00+00:00   \n",
       "2           2      NaN  nws_KkLDpo  2019-08-07 20:12:27+00:00   \n",
       "3           3      NaN  nws_GrjbeV  2019-08-07 17:52:05+00:00   \n",
       "4           4      NaN  nws_035E9w  2019-08-07 15:19:03+00:00   \n",
       "\n",
       "                                             summary  \\\n",
       "0  TOKYO/SINGAPORE, Aug 7 (Reuters) - An inexorab...   \n",
       "1  Markets took a beating this week, with a numbe...   \n",
       "2  After opening lower in dramatic fashion, stock...   \n",
       "3                       Style Box ETF report for IWX   \n",
       "4  Integrated majors ExxonMobil (XOM), Chevron (C...   \n",
       "\n",
       "                                               title  \\\n",
       "0  RPT-Japan LNG buyers talk tough as spot prices...   \n",
       "1       The Worst Is Still To Come In Energy Markets   \n",
       "2  Dow Jones Today: Sliding Bond Yields Lift Divi...   \n",
       "3  Should iShares Russell Top 200 Value ETF (IWX)...   \n",
       "4  Oil & Gas Stock Roundup: Exxon, Chevron, Shell...   \n",
       "\n",
       "                                                 url  \n",
       "0  https://finance.yahoo.com/news/rpt-japan-lng-b...  \n",
       "1  https://finance.yahoo.com/news/worst-still-com...  \n",
       "2  https://finance.yahoo.com/news/dow-jones-today...  \n",
       "3  https://finance.yahoo.com/news/ishares-russell...  \n",
       "4  https://finance.yahoo.com/news/oil-gas-stock-r...  "
      ]
     },
     "execution_count": 71,
     "metadata": {},
     "output_type": "execute_result"
    }
   ],
   "source": [
    "data.head()"
   ]
  },
  {
   "cell_type": "code",
   "execution_count": 72,
   "metadata": {},
   "outputs": [],
   "source": [
    "data['publication_date']=pd.to_datetime(data.publication_date,format='%Y-%m-%d')\n",
    "data.index =data['publication_date']\n"
   ]
  },
  {
   "cell_type": "code",
   "execution_count": 73,
   "metadata": {
    "scrolled": true
   },
   "outputs": [
    {
     "name": "stdout",
     "output_type": "stream",
     "text": [
      "<class 'pandas.core.frame.DataFrame'>\n",
      "DatetimeIndex: 12846 entries, 2019-08-07 23:00:00 to 2015-04-08 20:21:06\n",
      "Data columns (total 7 columns):\n",
      "Unnamed: 0          12846 non-null int64\n",
      "company             0 non-null float64\n",
      "id                  12846 non-null object\n",
      "publication_date    12846 non-null datetime64[ns]\n",
      "summary             12844 non-null object\n",
      "title               12846 non-null object\n",
      "url                 12846 non-null object\n",
      "dtypes: datetime64[ns](1), float64(1), int64(1), object(4)\n",
      "memory usage: 802.9+ KB\n"
     ]
    }
   ],
   "source": [
    "data.info()"
   ]
  },
  {
   "cell_type": "code",
   "execution_count": 74,
   "metadata": {},
   "outputs": [
    {
     "data": {
      "text/html": [
       "<div>\n",
       "<style scoped>\n",
       "    .dataframe tbody tr th:only-of-type {\n",
       "        vertical-align: middle;\n",
       "    }\n",
       "\n",
       "    .dataframe tbody tr th {\n",
       "        vertical-align: top;\n",
       "    }\n",
       "\n",
       "    .dataframe thead th {\n",
       "        text-align: right;\n",
       "    }\n",
       "</style>\n",
       "<table border=\"1\" class=\"dataframe\">\n",
       "  <thead>\n",
       "    <tr style=\"text-align: right;\">\n",
       "      <th></th>\n",
       "      <th>Unnamed: 0</th>\n",
       "      <th>company</th>\n",
       "      <th>id</th>\n",
       "      <th>publication_date</th>\n",
       "      <th>summary</th>\n",
       "      <th>title</th>\n",
       "      <th>url</th>\n",
       "    </tr>\n",
       "    <tr>\n",
       "      <th>publication_date</th>\n",
       "      <th></th>\n",
       "      <th></th>\n",
       "      <th></th>\n",
       "      <th></th>\n",
       "      <th></th>\n",
       "      <th></th>\n",
       "      <th></th>\n",
       "    </tr>\n",
       "  </thead>\n",
       "  <tbody>\n",
       "    <tr>\n",
       "      <th>2019-08-07 23:00:00</th>\n",
       "      <td>0</td>\n",
       "      <td>NaN</td>\n",
       "      <td>nws_JbvxWa</td>\n",
       "      <td>2019-08-07 23:00:00</td>\n",
       "      <td>TOKYO/SINGAPORE, Aug 7 (Reuters) - An inexorab...</td>\n",
       "      <td>RPT-Japan LNG buyers talk tough as spot prices...</td>\n",
       "      <td>https://finance.yahoo.com/news/rpt-japan-lng-b...</td>\n",
       "    </tr>\n",
       "    <tr>\n",
       "      <th>2019-08-07 23:00:00</th>\n",
       "      <td>1</td>\n",
       "      <td>NaN</td>\n",
       "      <td>nws_PQOxJP</td>\n",
       "      <td>2019-08-07 23:00:00</td>\n",
       "      <td>Markets took a beating this week, with a numbe...</td>\n",
       "      <td>The Worst Is Still To Come In Energy Markets</td>\n",
       "      <td>https://finance.yahoo.com/news/worst-still-com...</td>\n",
       "    </tr>\n",
       "    <tr>\n",
       "      <th>2019-08-07 20:12:27</th>\n",
       "      <td>2</td>\n",
       "      <td>NaN</td>\n",
       "      <td>nws_KkLDpo</td>\n",
       "      <td>2019-08-07 20:12:27</td>\n",
       "      <td>After opening lower in dramatic fashion, stock...</td>\n",
       "      <td>Dow Jones Today: Sliding Bond Yields Lift Divi...</td>\n",
       "      <td>https://finance.yahoo.com/news/dow-jones-today...</td>\n",
       "    </tr>\n",
       "    <tr>\n",
       "      <th>2019-08-07 17:52:05</th>\n",
       "      <td>3</td>\n",
       "      <td>NaN</td>\n",
       "      <td>nws_GrjbeV</td>\n",
       "      <td>2019-08-07 17:52:05</td>\n",
       "      <td>Style Box ETF report for IWX</td>\n",
       "      <td>Should iShares Russell Top 200 Value ETF (IWX)...</td>\n",
       "      <td>https://finance.yahoo.com/news/ishares-russell...</td>\n",
       "    </tr>\n",
       "    <tr>\n",
       "      <th>2019-08-07 15:19:03</th>\n",
       "      <td>4</td>\n",
       "      <td>NaN</td>\n",
       "      <td>nws_035E9w</td>\n",
       "      <td>2019-08-07 15:19:03</td>\n",
       "      <td>Integrated majors ExxonMobil (XOM), Chevron (C...</td>\n",
       "      <td>Oil &amp; Gas Stock Roundup: Exxon, Chevron, Shell...</td>\n",
       "      <td>https://finance.yahoo.com/news/oil-gas-stock-r...</td>\n",
       "    </tr>\n",
       "  </tbody>\n",
       "</table>\n",
       "</div>"
      ],
      "text/plain": [
       "                     Unnamed: 0  company          id    publication_date  \\\n",
       "publication_date                                                           \n",
       "2019-08-07 23:00:00           0      NaN  nws_JbvxWa 2019-08-07 23:00:00   \n",
       "2019-08-07 23:00:00           1      NaN  nws_PQOxJP 2019-08-07 23:00:00   \n",
       "2019-08-07 20:12:27           2      NaN  nws_KkLDpo 2019-08-07 20:12:27   \n",
       "2019-08-07 17:52:05           3      NaN  nws_GrjbeV 2019-08-07 17:52:05   \n",
       "2019-08-07 15:19:03           4      NaN  nws_035E9w 2019-08-07 15:19:03   \n",
       "\n",
       "                                                               summary  \\\n",
       "publication_date                                                         \n",
       "2019-08-07 23:00:00  TOKYO/SINGAPORE, Aug 7 (Reuters) - An inexorab...   \n",
       "2019-08-07 23:00:00  Markets took a beating this week, with a numbe...   \n",
       "2019-08-07 20:12:27  After opening lower in dramatic fashion, stock...   \n",
       "2019-08-07 17:52:05                       Style Box ETF report for IWX   \n",
       "2019-08-07 15:19:03  Integrated majors ExxonMobil (XOM), Chevron (C...   \n",
       "\n",
       "                                                                 title  \\\n",
       "publication_date                                                         \n",
       "2019-08-07 23:00:00  RPT-Japan LNG buyers talk tough as spot prices...   \n",
       "2019-08-07 23:00:00       The Worst Is Still To Come In Energy Markets   \n",
       "2019-08-07 20:12:27  Dow Jones Today: Sliding Bond Yields Lift Divi...   \n",
       "2019-08-07 17:52:05  Should iShares Russell Top 200 Value ETF (IWX)...   \n",
       "2019-08-07 15:19:03  Oil & Gas Stock Roundup: Exxon, Chevron, Shell...   \n",
       "\n",
       "                                                                   url  \n",
       "publication_date                                                        \n",
       "2019-08-07 23:00:00  https://finance.yahoo.com/news/rpt-japan-lng-b...  \n",
       "2019-08-07 23:00:00  https://finance.yahoo.com/news/worst-still-com...  \n",
       "2019-08-07 20:12:27  https://finance.yahoo.com/news/dow-jones-today...  \n",
       "2019-08-07 17:52:05  https://finance.yahoo.com/news/ishares-russell...  \n",
       "2019-08-07 15:19:03  https://finance.yahoo.com/news/oil-gas-stock-r...  "
      ]
     },
     "execution_count": 74,
     "metadata": {},
     "output_type": "execute_result"
    }
   ],
   "source": [
    "data.head()"
   ]
  },
  {
   "cell_type": "code",
   "execution_count": 75,
   "metadata": {},
   "outputs": [
    {
     "data": {
      "text/plain": [
       "\"publication_date\\n2019-08-07 23:00:00    TOKYO/SINGAPORE, Aug 7 (Reuters) - An inexorab...\\n2019-08-07 23:00:00    Markets took a beating this week, with a numbe...\\n2019-08-07 20:12:27    After opening lower in dramatic fashion, stock...\\n2019-08-07 17:52:05                         Style Box ETF report for IWX\\n2019-08-07 15:19:03    Integrated majors ExxonMobil (XOM), Chevron (C...\\n2019-08-07 08:20:58    TOKYO/SINGAPORE, Aug 7 (Reuters) - An inexorab...\\n2019-08-07 04:01:13    (Bloomberg Markets) -- Earlier this year, one ...\\n2019-08-06 23:00:00    The oil majors posted mixed results when they ...\\n2019-08-06 16:27:34    Energy sector players ExxonMobil, Chevron, Roy...\\n2019-08-06 14:14:33    (Bloomberg Opinion) -- So, energy investors, t...\\n2019-08-06 14:06:52    Top Energy Stocks Top Energy Stocks XOM 0 57 X...\\n2019-08-06 14:06:52    Top Energy Stocks Top Energy Stocks XOM 0 57 X...\\n2019-08-06 11:52:08    Energy sector stocks including ExxonMobil (XOM...\\n2019-08-06 11:49:05    Ari Wald said that energy stocks haven't captu...\\n2019-08-06 03:46:49               Q2 2019 Exxon Mobil Corp Earnings Call\\n2019-08-05 20:46:27    The NASDAQ 100 After Hours Indicator is down 3...\\n2019-08-05 20:46:27    The NASDAQ 100 After Hours Indicator is down 3...\\n2019-08-05 19:31:12    Credit Suisse's William Featherston maintains ...\\n2019-08-05 15:35:19    When the history of this year is written, one ...\\n2019-08-05 15:10:29    ExxonMobil’s (XOM) earnings fell in the second...\\n2019-08-05 14:29:02    Imperial Oil (IMO) generates cash flow from op...\\n2019-08-05 14:28:02    Companies in the news are: XOM, NWL, QSR and APHA\\n2019-08-05 14:11:53    Crude oil is continuing a steep three-month do...\\n2019-08-05 14:08:49    To become a Dividend Aristocrat a dividend pay...\\n2019-08-05 14:08:49    To become a Dividend Aristocrat a dividend pay...\\n2019-08-05 14:06:41    Top Energy Stocks Top Energy Stocks XOM 1 37 X...\\n2019-08-05 14:06:41    Top Energy Stocks Top Energy Stocks XOM 1 37 X...\\n2019-08-05 13:43:18    Chevron stock has moved with volatile oil pric...\\n2019-08-05 13:15:01    Exxon Mobil beat on both earnings and revenues...\\n2019-08-04 18:07:38    ExxonMobil NYSE XOM and BP NYSE BP are two of ...\\n                                             ...                        \\n2016-07-20 18:33:00    ExxonMobil to Expand Specialty Elastomers Capa...\\n2016-07-20 08:39:35    [Reuters] - Total SA (TOTF.PA) is unlikely to ...\\n2016-07-18 07:49:57    [AAP] - Australian oil and gas producer Oil Se...\\n2016-07-18 03:23:37    ExxonMobil launches bidding war for InterOil i...\\n2016-07-18 03:18:02    [at noodls] - 719da466-c766-4ccd-8913-fc986349...\\n2016-07-18 02:54:11    [AAP] - Australian oil and gas producer Oil Se...\\n2016-07-14 00:14:48    House GOP subpoenas NY, Mass. AGs on climate c...\\n2016-07-13 17:59:22    NY attorney general rejects GOP lawmaker's req...\\n2016-07-12 15:01:35    Exxon refutes Nigeria oil militants' pipeline ...\\n2016-07-07 11:03:46    Norway union warns of oil service strike, may ...\\n2016-07-07 09:53:06    Norway labour union warns of oil service strik...\\n2016-07-07 01:08:41    The oil industry is losing the burn of Asian d...\\n2016-07-02 01:54:42     Norway oil workers agree wage deal, avoid strike\\n2016-07-01 10:50:13    Exclusive: BP-Exxon impasse blocks renewal of ...\\n2016-06-30 00:02:37       Exxon Mobil wins a round in climate litigation\\n2016-06-29 12:11:49    Indonesia's Pertamina picks Shell to process I...\\n2016-06-29 11:32:02    Indonesia's Pertamina to appoint Shell to proc...\\n2016-06-27 14:11:32    Engie says would have to shut output at Norway...\\n2016-06-24 13:05:21    Dutch lower Groningen gas production cap to 24...\\n2016-06-24 12:49:56     Netherlands to cut more Groningen gas production\\n2016-06-23 18:34:49    Aera Energy says it was not owner of spilled C...\\n2016-06-23 16:07:44    California pipeline leaks 700 barrels of oil -...\\n2016-04-29 12:09:44    Exxon Mobil first-quarter profit drops 63 percent\\n2016-03-23 21:32:04    Exclusive - Exxon Mobil must allow climate cha...\\n2016-02-07 08:14:33    As Big Oil shrinks, boards plot different path...\\n2016-02-02 20:20:41    Exxon, tops in stock buybacks, now saving its ...\\n2015-10-30 18:15:02    Exxon 3rd-qtr profit falls 47 pct but beats ex...\\n2015-07-31 23:12:49    Tumbling oil prices slam profit at Exxon Mobil...\\n2015-04-17 21:57:33    Exclusive - Anadarko considers selling Mozambi...\\n2015-04-08 20:21:06    Analysis - Shell's BG purchase could be cataly...\\nName: summary, Length: 12846, dtype: object\""
      ]
     },
     "execution_count": 75,
     "metadata": {},
     "output_type": "execute_result"
    }
   ],
   "source": [
    "str(data[\"summary\"])"
   ]
  },
  {
   "cell_type": "code",
   "execution_count": 76,
   "metadata": {},
   "outputs": [
    {
     "name": "stderr",
     "output_type": "stream",
     "text": [
      "/anaconda3/lib/python3.6/site-packages/ipykernel_launcher.py:3: FutureWarning: 'publication_date' is both an index level and a column label.\n",
      "Defaulting to column, but this will raise an ambiguity error in a future version\n",
      "  This is separate from the ipykernel package so we can avoid doing imports until\n"
     ]
    }
   ],
   "source": [
    "#drop any duplicated headlines\n",
    "data = data.sort_values(['summary']).drop_duplicates(subset='title')\n",
    "data = data.sort_values(['publication_date'])"
   ]
  },
  {
   "cell_type": "code",
   "execution_count": 77,
   "metadata": {},
   "outputs": [],
   "source": [
    "# Concatenate all news into one\n",
    "#data[\"summary\"] = data.filter(regex=(\"Top.*\")).apply(lambda x: ''.join(str(x.values)), axis=1)"
   ]
  },
  {
   "cell_type": "code",
   "execution_count": 78,
   "metadata": {
    "scrolled": true
   },
   "outputs": [
    {
     "name": "stdout",
     "output_type": "stream",
     "text": [
      "['Exclusive', '-', 'Anadarko', 'considers', 'selling', 'Mozambique', 'gas', 'assets', 'to', 'Exxon']\n"
     ]
    }
   ],
   "source": [
    "#Tokenize Words Data \n",
    "text=data[\"summary\"][1]\n",
    "from nltk.tokenize import word_tokenize\n",
    "tokenized_word=word_tokenize(text)\n",
    "print(tokenized_word)"
   ]
  },
  {
   "cell_type": "code",
   "execution_count": 79,
   "metadata": {},
   "outputs": [
    {
     "name": "stdout",
     "output_type": "stream",
     "text": [
      "['Exclusive - Anadarko considers selling Mozambique gas assets to Exxon']\n"
     ]
    }
   ],
   "source": [
    "##Tokenize Sentences Data\n",
    "from nltk.tokenize import sent_tokenize\n",
    "tokenized_text=sent_tokenize(text)\n",
    "print(tokenized_text)"
   ]
  },
  {
   "cell_type": "code",
   "execution_count": 80,
   "metadata": {
    "scrolled": true
   },
   "outputs": [
    {
     "name": "stdout",
     "output_type": "stream",
     "text": [
      "{'or', \"needn't\", 'mustn', 'themselves', 'only', 'you', 'have', 'this', 'other', \"doesn't\", 'me', 'while', \"didn't\", 'through', 'aren', 'than', \"you've\", 'whom', 'out', 'with', 'himself', 'what', 'our', \"wasn't\", 'own', 'doesn', 'too', 'for', 'their', 'just', \"mightn't\", 'mightn', 'any', 'a', 'above', 'we', 'off', \"that'll\", 'all', 'that', \"you're\", 'down', \"won't\", 'then', 'hers', 'they', 'up', 'yourself', 'few', \"aren't\", 'it', 'again', 'yourselves', 'i', 'and', \"haven't\", \"don't\", 'wouldn', 'has', 'why', 'my', 'being', 'll', 'didn', \"you'd\", 'am', 'will', 'not', \"you'll\", 'very', 'below', 'same', 'those', 'an', 'such', 'more', 'wasn', 'he', 'him', 'there', \"hadn't\", 'theirs', 'won', 'the', \"weren't\", 'as', 'these', 'when', 't', 'were', 'but', \"mustn't\", 'his', 'during', 'them', 'couldn', 'o', 'itself', 'both', 'if', 'can', 'doing', 'her', 'now', \"shan't\", 'do', \"isn't\", 'herself', 'on', \"wouldn't\", 're', 'nor', 'having', 'about', 'needn', 'is', 'hadn', 'because', 'haven', 'had', 'which', \"she's\", \"shouldn't\", \"couldn't\", 'under', 'shouldn', 'no', 'don', 'in', 'been', 'of', 'does', 'its', 'should', 'here', 'be', 'ours', 'to', 'are', 'some', 'over', 'yours', 'your', \"should've\", 'm', 'so', 'into', 'ain', 'weren', 'hasn', 'y', 'where', 'after', 'by', \"it's\", 'until', 'how', 'before', 'isn', 've', 'd', 'she', 'against', 'most', 's', 'from', 'ourselves', 'each', 'who', 'at', 'once', 'shan', 'was', 'ma', 'did', 'myself', 'further', \"hasn't\", 'between'}\n"
     ]
    }
   ],
   "source": [
    "#Import English Stopwords\n",
    "from nltk.corpus import stopwords\n",
    "stop_words=set(stopwords.words(\"english\"))\n",
    "print(stop_words)"
   ]
  },
  {
   "cell_type": "code",
   "execution_count": 81,
   "metadata": {},
   "outputs": [
    {
     "name": "stdout",
     "output_type": "stream",
     "text": [
      "Tokenized Sentence: ['Exclusive - Anadarko considers selling Mozambique gas assets to Exxon']\n",
      "Filterd Sentence: ['Exclusive - Anadarko considers selling Mozambique gas assets to Exxon']\n"
     ]
    }
   ],
   "source": [
    "#Filter Stopwords\n",
    "filtered_sent=[]\n",
    "for w in tokenized_text:\n",
    "    if w not in stop_words:\n",
    "        filtered_sent.append(w)\n",
    "print(\"Tokenized Sentence:\",tokenized_text)\n",
    "print(\"Filterd Sentence:\",filtered_sent)"
   ]
  },
  {
   "cell_type": "markdown",
   "metadata": {},
   "source": [
    "https://github.com/Currie32/Predicting-the-Dow-Jones-with-Headlines/blob/master/Predict_Dow_with_News.ipynb\n",
    "# A list of contractions from http://stackoverflow.com/questions/19790188/expanding-english-language-contractions-in-python\n",
    "contractions = { \n",
    "\"ain't\": \"am not\",\n",
    "\"aren't\": \"are not\",\n",
    "\"can't\": \"cannot\",\n",
    "\"can't've\": \"cannot have\",\n",
    "\"'cause\": \"because\",\n",
    "\"could've\": \"could have\",\n",
    "\"couldn't\": \"could not\",\n",
    "\"couldn't've\": \"could not have\",\n",
    "\"didn't\": \"did not\",\n",
    "\"doesn't\": \"does not\",\n",
    "\"don't\": \"do not\",\n",
    "\"hadn't\": \"had not\",\n",
    "\"hadn't've\": \"had not have\",\n",
    "\"hasn't\": \"has not\",\n",
    "\"haven't\": \"have not\",\n",
    "\"he'd\": \"he would\",\n",
    "\"he'd've\": \"he would have\",\n",
    "\"he'll\": \"he will\",\n",
    "\"he's\": \"he is\",\n",
    "\"how'd\": \"how did\",\n",
    "\"how'll\": \"how will\",\n",
    "\"how's\": \"how is\",\n",
    "\"i'd\": \"i would\",\n",
    "\"i'll\": \"i will\",\n",
    "\"i'm\": \"i am\",\n",
    "\"i've\": \"i have\",\n",
    "\"isn't\": \"is not\",\n",
    "\"it'd\": \"it would\",\n",
    "\"it'll\": \"it will\",\n",
    "\"it's\": \"it is\",\n",
    "\"let's\": \"let us\",\n",
    "\"ma'am\": \"madam\",\n",
    "\"mayn't\": \"may not\",\n",
    "\"might've\": \"might have\",\n",
    "\"mightn't\": \"might not\",\n",
    "\"must've\": \"must have\",\n",
    "\"mustn't\": \"must not\",\n",
    "\"needn't\": \"need not\",\n",
    "\"oughtn't\": \"ought not\",\n",
    "\"shan't\": \"shall not\",\n",
    "\"sha'n't\": \"shall not\",\n",
    "\"she'd\": \"she would\",\n",
    "\"she'll\": \"she will\",\n",
    "\"she's\": \"she is\",\n",
    "\"should've\": \"should have\",\n",
    "\"shouldn't\": \"should not\",\n",
    "\"that'd\": \"that would\",\n",
    "\"that's\": \"that is\",\n",
    "\"there'd\": \"there had\",\n",
    "\"there's\": \"there is\",\n",
    "\"they'd\": \"they would\",\n",
    "\"they'll\": \"they will\",\n",
    "\"they're\": \"they are\",\n",
    "\"they've\": \"they have\",\n",
    "\"wasn't\": \"was not\",\n",
    "\"we'd\": \"we would\",\n",
    "\"we'll\": \"we will\",\n",
    "\"we're\": \"we are\",\n",
    "\"we've\": \"we have\",\n",
    "\"weren't\": \"were not\",\n",
    "\"what'll\": \"what will\",\n",
    "\"what're\": \"what are\",\n",
    "\"what's\": \"what is\",\n",
    "\"what've\": \"what have\",\n",
    "\"where'd\": \"where did\",\n",
    "\"where's\": \"where is\",\n",
    "\"who'll\": \"who will\",\n",
    "\"who's\": \"who is\",\n",
    "\"won't\": \"will not\",\n",
    "\"wouldn't\": \"would not\",\n",
    "\"you'd\": \"you would\",\n",
    "\"you'll\": \"you will\",\n",
    "\"you're\": \"you are\"\n",
    "}"
   ]
  },
  {
   "cell_type": "markdown",
   "metadata": {},
   "source": [
    "def clean_text(text, remove_stopwords = True):\n",
    "    '''Remove unwanted characters and format the text to create fewer nulls word embeddings'''\n",
    "    \n",
    "    # Convert words to lower case\n",
    "    text = text.lower()\n",
    "    \n",
    "    # Replace contractions with their longer forms \n",
    "    if True:\n",
    "        text = text.split()\n",
    "        new_text = []\n",
    "        for word in text:\n",
    "            if word in contractions:\n",
    "                new_text.append(contractions[word])\n",
    "            else:\n",
    "                new_text.append(word)\n",
    "        text = \" \".join(new_text)\n",
    "    \n",
    "    # Format words and remove unwanted characters\n",
    "    text = re.sub(r'&amp;', '', text) \n",
    "    text = re.sub(r'0,0', '00', text) \n",
    "    text = re.sub(r'[_\"\\-;%()|.,+&=*%.,!?:#@\\[\\]]', ' ', text)\n",
    "    text = re.sub(r'\\'', ' ', text)\n",
    "    text = re.sub(r'\\$', ' $ ', text)\n",
    "    text = re.sub(r'u s ', ' united states ', text)\n",
    "    text = re.sub(r'u n ', ' united nations ', text)\n",
    "    text = re.sub(r'u k ', ' united kingdom ', text)\n",
    "    text = re.sub(r'j k ', ' jk ', text)\n",
    "    text = re.sub(r' s ', ' ', text)\n",
    "    text = re.sub(r' yr ', ' year ', text)\n",
    "    text = re.sub(r' l g b t ', ' lgbt ', text)\n",
    "    text = re.sub(r'0km ', '0 km ', text)\n",
    "    \n",
    "    # Optionally, remove stop words\n",
    "    if remove_stopwords:\n",
    "        text = text.split()\n",
    "        stops = set(stopwords.words(\"english\"))\n",
    "        text = [w for w in text if not w in stops]\n",
    "        text = \" \".join(text)\n",
    "\n",
    "    return text"
   ]
  },
  {
   "cell_type": "markdown",
   "metadata": {},
   "source": [
    "# Clean the headlines\n",
    "clean_headlines = []\n",
    "\n",
    "for daily_headlines in data[\"summary\"]:\n",
    "    clean_daily_headlines = []\n",
    "    for headline in daily_headlines:\n",
    "        clean_daily_headlines.append(clean_text(headline))\n",
    "    clean_headlines.append(clean_daily_headlines)"
   ]
  },
  {
   "cell_type": "code",
   "execution_count": 82,
   "metadata": {},
   "outputs": [
    {
     "data": {
      "text/plain": [
       "\"publication_date\\n2015-04-08 20:21:06    Analysis - Shell's BG purchase could be cataly...\\n2015-04-17 21:57:33    Exclusive - Anadarko considers selling Mozambi...\\n2015-07-31 23:12:49    Tumbling oil prices slam profit at Exxon Mobil...\\n2015-10-30 18:15:02    Exxon 3rd-qtr profit falls 47 pct but beats ex...\\n2016-02-02 20:20:41    Exxon, tops in stock buybacks, now saving its ...\\n2016-02-07 08:14:33    As Big Oil shrinks, boards plot different path...\\n2016-03-23 21:32:04    Exclusive - Exxon Mobil must allow climate cha...\\n2016-04-29 12:09:44    Exxon Mobil first-quarter profit drops 63 percent\\n2016-06-23 16:07:44    California pipeline leaks 700 barrels of oil -...\\n2016-06-23 18:34:49    Aera Energy says it was not owner of spilled C...\\n2016-06-24 12:49:56     Netherlands to cut more Groningen gas production\\n2016-06-24 13:05:21    Dutch lower Groningen gas production cap to 24...\\n2016-06-27 14:11:32    Engie says would have to shut output at Norway...\\n2016-06-29 11:32:02    Indonesia's Pertamina to appoint Shell to proc...\\n2016-06-29 12:11:49    Indonesia's Pertamina picks Shell to process I...\\n2016-06-30 00:02:37       Exxon Mobil wins a round in climate litigation\\n2016-07-01 10:50:13    Exclusive: BP-Exxon impasse blocks renewal of ...\\n2016-07-02 01:54:42     Norway oil workers agree wage deal, avoid strike\\n2016-07-07 01:08:41    The oil industry is losing the burn of Asian d...\\n2016-07-07 09:53:06    Norway labour union warns of oil service strik...\\n2016-07-07 11:03:46    Norway union warns of oil service strike, may ...\\n2016-07-12 15:01:35    Exxon refutes Nigeria oil militants' pipeline ...\\n2016-07-13 17:59:22    NY attorney general rejects GOP lawmaker's req...\\n2016-07-14 00:14:48    House GOP subpoenas NY, Mass. AGs on climate c...\\n2016-07-18 02:54:11            Oil Search mulls revised bid for InterOil\\n2016-07-18 03:18:02    InterOil Board of Directors Determines Unsolic...\\n2016-07-18 03:23:37    ExxonMobil launches bidding war for InterOil i...\\n2016-07-18 07:49:57             Oil Search faces challenge over InterOil\\n2016-07-20 08:39:35    Total seen unlikely to fight ExxonMobil over S...\\n2016-07-20 18:33:00    ExxonMobil to Expand Specialty Elastomers Capa...\\n                                             ...                        \\n2019-08-02 23:56:55    6 Top Stock Trades for Monday: X, APHA, XOM, ETSY\\n2019-08-03 00:57:05    Stock Market Today: Fight the Fed or Fight the...\\n2019-08-03 01:14:51    Stock Market Today: Fight the Fed or Fight the...\\n2019-08-03 06:56:51    Exxon Mobil Corp (XOM) Q2 2019 Earnings Call T...\\n2019-08-03 12:00:00    Big Oil’s Big Bet on Natural Gas Has Been a Bi...\\n2019-08-04 14:27:34    Oil Stocks To Buy: Here Are U.S. Shale, Market...\\n2019-08-04 18:07:38                       Better Buy: Exxon Mobil vs. BP\\n2019-08-05 13:15:01    Can Exxon, Chevron's Solid Q2 Earnings Revive ...\\n2019-08-05 13:43:18    Is Chevron Stock A Buy Right Now? Here's What ...\\n2019-08-05 14:06:41    Energy Sector Update for 08/05/2019: DO, DK, D...\\n2019-08-05 14:11:53                        Growing trade worries hit oil\\n2019-08-05 14:28:02                         Company News For Aug 5, 2019\\n2019-08-05 14:29:02    Imperial Oil (IMO) Tops Earnings and Sales Est...\\n2019-08-05 15:10:29    ExxonMobil Stock: JPMorgan Chase Cut Its Targe...\\n2019-08-05 15:35:19        Exxon Mobil Stock: The Bears Come for Big Oil\\n2019-08-05 19:31:12     2 Analysts Weigh In On Exxon Mobil's Q2 Earnings\\n2019-08-05 20:46:27    After Hours Most Active for Aug 2, 2019 :  FE,...\\n2019-08-06 03:46:49    Edited Transcript of XOM earnings conference c...\\n2019-08-06 11:49:05    Energy Stocks: Expert Says to Avoid the Free Fall\\n2019-08-06 11:52:08    Energy Sector Stocks Fell: XOM, CVX, RDS.A, an...\\n2019-08-06 14:06:52    Energy Sector Update for 08/06/2019: LONE, VLO...\\n2019-08-06 14:14:33    Careful Choosing Your Oil Supertanker in the T...\\n2019-08-06 16:27:34       Do Analysts Like Energy Sector Stocks Post-Q2?\\n2019-08-06 23:00:00        Big Oil Profits Lag Despite Rising Production\\n2019-08-07 04:01:13    Big Money Starts to Dump Stocks That Pose Clim...\\n2019-08-07 08:20:58    Japan LNG buyers talk tough as spot prices dro...\\n2019-08-07 15:19:03    Oil & Gas Stock Roundup: Exxon, Chevron, Shell...\\n2019-08-07 20:12:27    Dow Jones Today: Sliding Bond Yields Lift Divi...\\n2019-08-07 23:00:00         The Worst Is Still To Come In Energy Markets\\n2019-08-07 23:00:00    RPT-Japan LNG buyers talk tough as spot prices...\\nName: title, Length: 9835, dtype: object\""
      ]
     },
     "execution_count": 82,
     "metadata": {},
     "output_type": "execute_result"
    }
   ],
   "source": [
    "str(data[\"title\"])"
   ]
  },
  {
   "cell_type": "code",
   "execution_count": null,
   "metadata": {},
   "outputs": [],
   "source": []
  },
  {
   "cell_type": "code",
   "execution_count": 83,
   "metadata": {
    "scrolled": true
   },
   "outputs": [
    {
     "name": "stdout",
     "output_type": "stream",
     "text": [
      "publication_date\n",
      "2015-04-08 20:21:06    Analysis - Shell's BG purchase could be cataly...\n",
      "2015-04-17 21:57:33    Exclusive - Anadarko considers selling Mozambi...\n",
      "2015-07-31 23:12:49    Tumbling oil prices slam profit at Exxon Mobil...\n",
      "2015-10-30 18:15:02    Exxon 3rd-qtr profit falls 47 pct but beats ex...\n",
      "2016-02-02 20:20:41    Exxon, tops in stock buybacks, now saving its ...\n",
      "2016-02-07 08:14:33    As Big Oil shrinks, boards plot different path...\n",
      "2016-03-23 21:32:04    Exclusive - Exxon Mobil must allow climate cha...\n",
      "2016-04-29 12:09:44    Exxon Mobil first-quarter profit drops 63 percent\n",
      "2016-06-23 16:07:44    California pipeline leaks 700 barrels of oil -...\n",
      "2016-06-23 18:34:49    Aera Energy says it was not owner of spilled C...\n",
      "2016-06-24 12:49:56     Netherlands to cut more Groningen gas production\n",
      "2016-06-24 13:05:21    Dutch lower Groningen gas production cap to 24...\n",
      "2016-06-27 14:11:32    Engie says would have to shut output at Norway...\n",
      "2016-06-29 11:32:02    Indonesia's Pertamina to appoint Shell to proc...\n",
      "2016-06-29 12:11:49    Indonesia's Pertamina picks Shell to process I...\n",
      "2016-06-30 00:02:37       Exxon Mobil wins a round in climate litigation\n",
      "2016-07-01 10:50:13    Exclusive: BP-Exxon impasse blocks renewal of ...\n",
      "2016-07-02 01:54:42     Norway oil workers agree wage deal, avoid strike\n",
      "2016-07-07 01:08:41    The oil industry is losing the burn of Asian d...\n",
      "2016-07-07 09:53:06    Norway labour union warns of oil service strik...\n",
      "2016-07-07 11:03:46    Norway union warns of oil service strike, may ...\n",
      "2016-07-12 15:01:35    Exxon refutes Nigeria oil militants' pipeline ...\n",
      "2016-07-13 17:59:22    NY attorney general rejects GOP lawmaker's req...\n",
      "2016-07-14 00:14:48    House GOP subpoenas NY, Mass. AGs on climate c...\n",
      "2016-07-18 02:54:11    [AAP] - Australian oil and gas producer Oil Se...\n",
      "2016-07-18 03:18:02    [at noodls] - 719da466-c766-4ccd-8913-fc986349...\n",
      "2016-07-18 03:23:37    ExxonMobil launches bidding war for InterOil i...\n",
      "2016-07-18 07:49:57    [AAP] - Australian oil and gas producer Oil Se...\n",
      "2016-07-20 08:39:35    [Reuters] - Total SA (TOTF.PA) is unlikely to ...\n",
      "2016-07-20 18:33:00    ExxonMobil to Expand Specialty Elastomers Capa...\n",
      "                                             ...                        \n",
      "2019-08-02 23:56:55    InvestorPlace Stock Market News Stock Advice a...\n",
      "2019-08-03 00:57:05    InvestorPlace Stock Market News Stock Advice a...\n",
      "2019-08-03 01:14:51    There's one common theme in the stock market t...\n",
      "2019-08-03 06:56:51    Image source The Motley Fool ExxonMobil Corp N...\n",
      "2019-08-03 12:00:00    (Bloomberg) -- The world’s biggest oil compani...\n",
      "2019-08-04 14:27:34    When weighing which oil stocks to buy, conside...\n",
      "2019-08-04 18:07:38    ExxonMobil NYSE XOM and BP NYSE BP are two of ...\n",
      "2019-08-05 13:15:01    Exxon Mobil beat on both earnings and revenues...\n",
      "2019-08-05 13:43:18    Chevron stock has moved with volatile oil pric...\n",
      "2019-08-05 14:06:41    Top Energy Stocks Top Energy Stocks XOM 1 37 X...\n",
      "2019-08-05 14:11:53    Crude oil is continuing a steep three-month do...\n",
      "2019-08-05 14:28:02    Companies in the news are: XOM, NWL, QSR and APHA\n",
      "2019-08-05 14:29:02    Imperial Oil (IMO) generates cash flow from op...\n",
      "2019-08-05 15:10:29    ExxonMobil’s (XOM) earnings fell in the second...\n",
      "2019-08-05 15:35:19    When the history of this year is written, one ...\n",
      "2019-08-05 19:31:12    Credit Suisse's William Featherston maintains ...\n",
      "2019-08-05 20:46:27    The NASDAQ 100 After Hours Indicator is down 3...\n",
      "2019-08-06 03:46:49               Q2 2019 Exxon Mobil Corp Earnings Call\n",
      "2019-08-06 11:49:05    Ari Wald said that energy stocks haven't captu...\n",
      "2019-08-06 11:52:08    Energy sector stocks including ExxonMobil (XOM...\n",
      "2019-08-06 14:06:52    Top Energy Stocks Top Energy Stocks XOM 0 57 X...\n",
      "2019-08-06 14:14:33    (Bloomberg Opinion) -- So, energy investors, t...\n",
      "2019-08-06 16:27:34    Energy sector players ExxonMobil, Chevron, Roy...\n",
      "2019-08-06 23:00:00    The oil majors posted mixed results when they ...\n",
      "2019-08-07 04:01:13    (Bloomberg Markets) -- Earlier this year, one ...\n",
      "2019-08-07 08:20:58    TOKYO/SINGAPORE, Aug 7 (Reuters) - An inexorab...\n",
      "2019-08-07 15:19:03    Integrated majors ExxonMobil (XOM), Chevron (C...\n",
      "2019-08-07 20:12:27    After opening lower in dramatic fashion, stock...\n",
      "2019-08-07 23:00:00    Markets took a beating this week, with a numbe...\n",
      "2019-08-07 23:00:00    TOKYO/SINGAPORE, Aug 7 (Reuters) - An inexorab...\n",
      "Name: summary, Length: 9835, dtype: object\n"
     ]
    }
   ],
   "source": [
    "print(data[\"summary\"])"
   ]
  },
  {
   "cell_type": "markdown",
   "metadata": {},
   "source": [
    "### SIA compound score Calculation \n",
    "https://www.learndatasci.com/tutorials/sentiment-analysis-reddit-headlines-pythons-nltk/\n"
   ]
  },
  {
   "cell_type": "code",
   "execution_count": 84,
   "metadata": {},
   "outputs": [
    {
     "name": "stdout",
     "output_type": "stream",
     "text": [
      "[{'neg': 0.0, 'neu': 1.0, 'pos': 0.0, 'compound': 0.0, 'headline': \"Analysis - Shell's BG purchase could be catalyst needed for U.S. shale deals\"}, {'neg': 0.0, 'neu': 0.686, 'pos': 0.314, 'compound': 0.296, 'headline': 'Exclusive - Anadarko considers selling Mozambique gas assets to Exxon'}, {'neg': 0.208, 'neu': 0.56, 'pos': 0.232, 'compound': 0.0772, 'headline': 'Tumbling oil prices slam profit at Exxon Mobil, Chevron'}]\n"
     ]
    }
   ],
   "source": [
    "sia = SIA()\n",
    "results = []\n",
    "\n",
    "for line in data[\"title\"]:\n",
    "    pol_score = sia.polarity_scores(line)\n",
    "    pol_score['headline'] = line\n",
    "    results.append(pol_score)\n",
    "\n",
    "print(results[:3])"
   ]
  },
  {
   "cell_type": "code",
   "execution_count": 85,
   "metadata": {
    "scrolled": false
   },
   "outputs": [
    {
     "data": {
      "text/html": [
       "<div>\n",
       "<style scoped>\n",
       "    .dataframe tbody tr th:only-of-type {\n",
       "        vertical-align: middle;\n",
       "    }\n",
       "\n",
       "    .dataframe tbody tr th {\n",
       "        vertical-align: top;\n",
       "    }\n",
       "\n",
       "    .dataframe thead th {\n",
       "        text-align: right;\n",
       "    }\n",
       "</style>\n",
       "<table border=\"1\" class=\"dataframe\">\n",
       "  <thead>\n",
       "    <tr style=\"text-align: right;\">\n",
       "      <th></th>\n",
       "      <th>compound</th>\n",
       "      <th>headline</th>\n",
       "      <th>neg</th>\n",
       "      <th>neu</th>\n",
       "      <th>pos</th>\n",
       "    </tr>\n",
       "  </thead>\n",
       "  <tbody>\n",
       "    <tr>\n",
       "      <th>0</th>\n",
       "      <td>0.0000</td>\n",
       "      <td>Analysis - Shell's BG purchase could be cataly...</td>\n",
       "      <td>0.000</td>\n",
       "      <td>1.000</td>\n",
       "      <td>0.000</td>\n",
       "    </tr>\n",
       "    <tr>\n",
       "      <th>1</th>\n",
       "      <td>0.2960</td>\n",
       "      <td>Exclusive - Anadarko considers selling Mozambi...</td>\n",
       "      <td>0.000</td>\n",
       "      <td>0.686</td>\n",
       "      <td>0.314</td>\n",
       "    </tr>\n",
       "    <tr>\n",
       "      <th>2</th>\n",
       "      <td>0.0772</td>\n",
       "      <td>Tumbling oil prices slam profit at Exxon Mobil...</td>\n",
       "      <td>0.208</td>\n",
       "      <td>0.560</td>\n",
       "      <td>0.232</td>\n",
       "    </tr>\n",
       "    <tr>\n",
       "      <th>3</th>\n",
       "      <td>0.2382</td>\n",
       "      <td>Exxon 3rd-qtr profit falls 47 pct but beats ex...</td>\n",
       "      <td>0.000</td>\n",
       "      <td>0.804</td>\n",
       "      <td>0.196</td>\n",
       "    </tr>\n",
       "    <tr>\n",
       "      <th>4</th>\n",
       "      <td>0.5106</td>\n",
       "      <td>Exxon, tops in stock buybacks, now saving its ...</td>\n",
       "      <td>0.000</td>\n",
       "      <td>0.708</td>\n",
       "      <td>0.292</td>\n",
       "    </tr>\n",
       "  </tbody>\n",
       "</table>\n",
       "</div>"
      ],
      "text/plain": [
       "   compound                                           headline    neg    neu  \\\n",
       "0    0.0000  Analysis - Shell's BG purchase could be cataly...  0.000  1.000   \n",
       "1    0.2960  Exclusive - Anadarko considers selling Mozambi...  0.000  0.686   \n",
       "2    0.0772  Tumbling oil prices slam profit at Exxon Mobil...  0.208  0.560   \n",
       "3    0.2382  Exxon 3rd-qtr profit falls 47 pct but beats ex...  0.000  0.804   \n",
       "4    0.5106  Exxon, tops in stock buybacks, now saving its ...  0.000  0.708   \n",
       "\n",
       "     pos  \n",
       "0  0.000  \n",
       "1  0.314  \n",
       "2  0.232  \n",
       "3  0.196  \n",
       "4  0.292  "
      ]
     },
     "execution_count": 85,
     "metadata": {},
     "output_type": "execute_result"
    }
   ],
   "source": [
    "df123 = pd.DataFrame(results)\n",
    "#df123['publication_date'] = data['publication_date']\n",
    "#df123.Date = pd.to_datetime(df123.publication_date)\n",
    "#df123.set_index('publication_date', inplace=True)\n",
    "df123.head()"
   ]
  },
  {
   "cell_type": "code",
   "execution_count": 86,
   "metadata": {},
   "outputs": [
    {
     "name": "stdout",
     "output_type": "stream",
     "text": [
      "Exclusive - Anadarko considers selling Mozambique gas assets to Exxon\n"
     ]
    }
   ],
   "source": [
    "print(df123['headline'][1])"
   ]
  },
  {
   "cell_type": "code",
   "execution_count": 87,
   "metadata": {
    "scrolled": false
   },
   "outputs": [
    {
     "data": {
      "text/html": [
       "<div>\n",
       "<style scoped>\n",
       "    .dataframe tbody tr th:only-of-type {\n",
       "        vertical-align: middle;\n",
       "    }\n",
       "\n",
       "    .dataframe tbody tr th {\n",
       "        vertical-align: top;\n",
       "    }\n",
       "\n",
       "    .dataframe thead th {\n",
       "        text-align: right;\n",
       "    }\n",
       "</style>\n",
       "<table border=\"1\" class=\"dataframe\">\n",
       "  <thead>\n",
       "    <tr style=\"text-align: right;\">\n",
       "      <th></th>\n",
       "      <th>compound</th>\n",
       "      <th>neg</th>\n",
       "      <th>neu</th>\n",
       "      <th>pos</th>\n",
       "    </tr>\n",
       "  </thead>\n",
       "  <tbody>\n",
       "    <tr>\n",
       "      <th>count</th>\n",
       "      <td>9835.000000</td>\n",
       "      <td>9835.000000</td>\n",
       "      <td>9835.000000</td>\n",
       "      <td>9835.000000</td>\n",
       "    </tr>\n",
       "    <tr>\n",
       "      <th>mean</th>\n",
       "      <td>0.064159</td>\n",
       "      <td>0.058116</td>\n",
       "      <td>0.839990</td>\n",
       "      <td>0.101895</td>\n",
       "    </tr>\n",
       "    <tr>\n",
       "      <th>std</th>\n",
       "      <td>0.301198</td>\n",
       "      <td>0.116882</td>\n",
       "      <td>0.167725</td>\n",
       "      <td>0.139585</td>\n",
       "    </tr>\n",
       "    <tr>\n",
       "      <th>min</th>\n",
       "      <td>-0.927400</td>\n",
       "      <td>0.000000</td>\n",
       "      <td>0.128000</td>\n",
       "      <td>0.000000</td>\n",
       "    </tr>\n",
       "    <tr>\n",
       "      <th>25%</th>\n",
       "      <td>0.000000</td>\n",
       "      <td>0.000000</td>\n",
       "      <td>0.721000</td>\n",
       "      <td>0.000000</td>\n",
       "    </tr>\n",
       "    <tr>\n",
       "      <th>50%</th>\n",
       "      <td>0.000000</td>\n",
       "      <td>0.000000</td>\n",
       "      <td>0.846000</td>\n",
       "      <td>0.000000</td>\n",
       "    </tr>\n",
       "    <tr>\n",
       "      <th>75%</th>\n",
       "      <td>0.273200</td>\n",
       "      <td>0.000000</td>\n",
       "      <td>1.000000</td>\n",
       "      <td>0.204000</td>\n",
       "    </tr>\n",
       "    <tr>\n",
       "      <th>max</th>\n",
       "      <td>0.888500</td>\n",
       "      <td>0.808000</td>\n",
       "      <td>1.000000</td>\n",
       "      <td>0.872000</td>\n",
       "    </tr>\n",
       "  </tbody>\n",
       "</table>\n",
       "</div>"
      ],
      "text/plain": [
       "          compound          neg          neu          pos\n",
       "count  9835.000000  9835.000000  9835.000000  9835.000000\n",
       "mean      0.064159     0.058116     0.839990     0.101895\n",
       "std       0.301198     0.116882     0.167725     0.139585\n",
       "min      -0.927400     0.000000     0.128000     0.000000\n",
       "25%       0.000000     0.000000     0.721000     0.000000\n",
       "50%       0.000000     0.000000     0.846000     0.000000\n",
       "75%       0.273200     0.000000     1.000000     0.204000\n",
       "max       0.888500     0.808000     1.000000     0.872000"
      ]
     },
     "execution_count": 87,
     "metadata": {},
     "output_type": "execute_result"
    }
   ],
   "source": [
    "df123.describe()"
   ]
  },
  {
   "cell_type": "code",
   "execution_count": 88,
   "metadata": {
    "scrolled": false
   },
   "outputs": [
    {
     "name": "stdout",
     "output_type": "stream",
     "text": [
      "<class 'pandas.core.frame.DataFrame'>\n",
      "RangeIndex: 9835 entries, 0 to 9834\n",
      "Data columns (total 5 columns):\n",
      "compound    9835 non-null float64\n",
      "headline    9835 non-null object\n",
      "neg         9835 non-null float64\n",
      "neu         9835 non-null float64\n",
      "pos         9835 non-null float64\n",
      "dtypes: float64(4), object(1)\n",
      "memory usage: 384.3+ KB\n"
     ]
    }
   ],
   "source": [
    "df123.info()"
   ]
  },
  {
   "cell_type": "code",
   "execution_count": 89,
   "metadata": {
    "scrolled": true
   },
   "outputs": [
    {
     "data": {
      "text/html": [
       "<div>\n",
       "<style scoped>\n",
       "    .dataframe tbody tr th:only-of-type {\n",
       "        vertical-align: middle;\n",
       "    }\n",
       "\n",
       "    .dataframe tbody tr th {\n",
       "        vertical-align: top;\n",
       "    }\n",
       "\n",
       "    .dataframe thead th {\n",
       "        text-align: right;\n",
       "    }\n",
       "</style>\n",
       "<table border=\"1\" class=\"dataframe\">\n",
       "  <thead>\n",
       "    <tr style=\"text-align: right;\">\n",
       "      <th></th>\n",
       "      <th>compound</th>\n",
       "      <th>headline</th>\n",
       "      <th>neg</th>\n",
       "      <th>neu</th>\n",
       "      <th>pos</th>\n",
       "      <th>label</th>\n",
       "    </tr>\n",
       "  </thead>\n",
       "  <tbody>\n",
       "    <tr>\n",
       "      <th>0</th>\n",
       "      <td>0.0000</td>\n",
       "      <td>Analysis - Shell's BG purchase could be cataly...</td>\n",
       "      <td>0.000</td>\n",
       "      <td>1.000</td>\n",
       "      <td>0.000</td>\n",
       "      <td>0</td>\n",
       "    </tr>\n",
       "    <tr>\n",
       "      <th>1</th>\n",
       "      <td>0.2960</td>\n",
       "      <td>Exclusive - Anadarko considers selling Mozambi...</td>\n",
       "      <td>0.000</td>\n",
       "      <td>0.686</td>\n",
       "      <td>0.314</td>\n",
       "      <td>1</td>\n",
       "    </tr>\n",
       "    <tr>\n",
       "      <th>2</th>\n",
       "      <td>0.0772</td>\n",
       "      <td>Tumbling oil prices slam profit at Exxon Mobil...</td>\n",
       "      <td>0.208</td>\n",
       "      <td>0.560</td>\n",
       "      <td>0.232</td>\n",
       "      <td>0</td>\n",
       "    </tr>\n",
       "    <tr>\n",
       "      <th>3</th>\n",
       "      <td>0.2382</td>\n",
       "      <td>Exxon 3rd-qtr profit falls 47 pct but beats ex...</td>\n",
       "      <td>0.000</td>\n",
       "      <td>0.804</td>\n",
       "      <td>0.196</td>\n",
       "      <td>1</td>\n",
       "    </tr>\n",
       "    <tr>\n",
       "      <th>4</th>\n",
       "      <td>0.5106</td>\n",
       "      <td>Exxon, tops in stock buybacks, now saving its ...</td>\n",
       "      <td>0.000</td>\n",
       "      <td>0.708</td>\n",
       "      <td>0.292</td>\n",
       "      <td>1</td>\n",
       "    </tr>\n",
       "  </tbody>\n",
       "</table>\n",
       "</div>"
      ],
      "text/plain": [
       "   compound                                           headline    neg    neu  \\\n",
       "0    0.0000  Analysis - Shell's BG purchase could be cataly...  0.000  1.000   \n",
       "1    0.2960  Exclusive - Anadarko considers selling Mozambi...  0.000  0.686   \n",
       "2    0.0772  Tumbling oil prices slam profit at Exxon Mobil...  0.208  0.560   \n",
       "3    0.2382  Exxon 3rd-qtr profit falls 47 pct but beats ex...  0.000  0.804   \n",
       "4    0.5106  Exxon, tops in stock buybacks, now saving its ...  0.000  0.708   \n",
       "\n",
       "     pos  label  \n",
       "0  0.000      0  \n",
       "1  0.314      1  \n",
       "2  0.232      0  \n",
       "3  0.196      1  \n",
       "4  0.292      1  "
      ]
     },
     "execution_count": 89,
     "metadata": {},
     "output_type": "execute_result"
    }
   ],
   "source": [
    "df123['label'] = 0\n",
    "df123.loc[df123['compound'] > 0.1, 'label'] = 1\n",
    "df123.loc[df123['compound'] < -0.1, 'label'] = -1\n",
    "df123.head()"
   ]
  },
  {
   "cell_type": "code",
   "execution_count": 90,
   "metadata": {},
   "outputs": [
    {
     "name": "stdout",
     "output_type": "stream",
     "text": [
      "Positive headlines:\n",
      "\n",
      "['Exclusive - Anadarko considers selling Mozambique gas assets to Exxon', 'Exxon 3rd-qtr profit falls 47 pct but beats expectations', 'Exxon, tops in stock buybacks, now saving its cash', 'Exclusive - Exxon Mobil must allow climate change vote: SEC', 'Exxon Mobil first-quarter profit drops 63 percent']\n"
     ]
    }
   ],
   "source": [
    "print(\"Positive headlines:\\n\")\n",
    "print(list(df123[df123['label'] == 1].headline)[:5])\n"
   ]
  },
  {
   "cell_type": "code",
   "execution_count": 91,
   "metadata": {},
   "outputs": [
    {
     "name": "stdout",
     "output_type": "stream",
     "text": [
      "\n",
      "Negative headlines:\n",
      "\n",
      "['As Big Oil shrinks, boards plot different paths out of crisis', 'California pipeline leaks 700 barrels of oil - fire department', 'Netherlands to cut more Groningen gas production', 'Dutch lower Groningen gas production cap to 24 bcm', \"Engie says would have to shut output at Norway's Gjoea field if strike goes ahead\"]\n"
     ]
    }
   ],
   "source": [
    "print(\"\\nNegative headlines:\\n\")\n",
    "print(list(df123[df123['label'] == -1].headline)[:5])"
   ]
  },
  {
   "cell_type": "code",
   "execution_count": 92,
   "metadata": {
    "scrolled": true
   },
   "outputs": [
    {
     "name": "stdout",
     "output_type": "stream",
     "text": [
      " 0    4570\n",
      " 1    3464\n",
      "-1    1801\n",
      "Name: label, dtype: int64\n",
      " 0    46.466701\n",
      " 1    35.221149\n",
      "-1    18.312150\n",
      "Name: label, dtype: float64\n"
     ]
    }
   ],
   "source": [
    "print(df123.label.value_counts())\n",
    "\n",
    "print(df123.label.value_counts(normalize=True) * 100)"
   ]
  },
  {
   "cell_type": "code",
   "execution_count": 93,
   "metadata": {
    "scrolled": true
   },
   "outputs": [
    {
     "data": {
      "image/png": "[encoded data removed]",
      "text/plain": [
       "<Figure size 576x576 with 1 Axes>"
      ]
     },
     "metadata": {},
     "output_type": "display_data"
    }
   ],
   "source": [
    "import seaborn as sns\n",
    "fig, ax = plt.subplots(figsize=(8, 8))\n",
    "\n",
    "counts = df123.label.value_counts(normalize=True) * 100\n",
    "\n",
    "sns.barplot(x=counts.index, y=counts, ax=ax)\n",
    "\n",
    "ax.set_xticklabels(['Negative', 'Neutral', 'Positive'])\n",
    "ax.set_ylabel(\"Percentage\")\n",
    "\n",
    "plt.show()"
   ]
  },
  {
   "cell_type": "code",
   "execution_count": 94,
   "metadata": {},
   "outputs": [
    {
     "name": "stderr",
     "output_type": "stream",
     "text": [
      "/anaconda3/lib/python3.6/site-packages/matplotlib/axes/_axes.py:6462: UserWarning: The 'normed' kwarg is deprecated, and has been replaced by the 'density' kwarg.\n",
      "  warnings.warn(\"The 'normed' kwarg is deprecated, and has been \"\n"
     ]
    },
    {
     "data": {
      "text/plain": [
       "Text(0,0.5,'Count')"
      ]
     },
     "execution_count": 94,
     "metadata": {},
     "output_type": "execute_result"
    },
    {
     "data": {
      "image/png": "[encoded data removed]",
      "text/plain": [
       "<Figure size 432x288 with 1 Axes>"
      ]
     },
     "metadata": {},
     "output_type": "display_data"
    }
   ],
   "source": [
    "\n",
    "# seaborn histogram\n",
    "sns.distplot(df123['compound'], hist=True, kde=False, \n",
    "             bins=int(180/5), color = 'blue',\n",
    "             hist_kws={'edgecolor':'black'})\n",
    "# Add labels\n",
    "plt.title('Histogram of Compound Sentiment')\n",
    "plt.xlabel('Score')\n",
    "plt.ylabel('Count')"
   ]
  },
  {
   "cell_type": "code",
   "execution_count": 95,
   "metadata": {
    "scrolled": true
   },
   "outputs": [],
   "source": [
    "#https://github.com/llSourcell/Stock_Market_Prediction/blob/master/Generating%20Different%20Models.ipynb\n",
    "#import numpy as np\n",
    "#import pandas as pd\n",
    "#from nltk.classify import NaiveBayesClassifier\n",
    "#from nltk.corpus import subjectivity\n",
    "#from nltk.sentiment import SentimentAnalyzer\n",
    "#from nltk.sentiment.util import *\n",
    "#import nltk\n",
    "#nltk.downloader.download('vader_lexicon')\n",
    "\n",
    "#sentence = 'paris shootout police officer suspected guman dead'\n",
    "#from nltk.sentiment.vader import SentimentIntensityAnalyzer\n",
    "#import unicodedata\n",
    "#sid = SentimentIntensityAnalyzer()\n",
    "#ss = sid.polarity_scores(sentence)\n",
    "#ss"
   ]
  },
  {
   "cell_type": "code",
   "execution_count": 96,
   "metadata": {},
   "outputs": [
    {
     "data": {
      "text/html": [
       "<div>\n",
       "<style scoped>\n",
       "    .dataframe tbody tr th:only-of-type {\n",
       "        vertical-align: middle;\n",
       "    }\n",
       "\n",
       "    .dataframe tbody tr th {\n",
       "        vertical-align: top;\n",
       "    }\n",
       "\n",
       "    .dataframe thead th {\n",
       "        text-align: right;\n",
       "    }\n",
       "</style>\n",
       "<table border=\"1\" class=\"dataframe\">\n",
       "  <thead>\n",
       "    <tr style=\"text-align: right;\">\n",
       "      <th></th>\n",
       "      <th>compound</th>\n",
       "      <th>headline</th>\n",
       "      <th>neg</th>\n",
       "      <th>neu</th>\n",
       "      <th>pos</th>\n",
       "      <th>label</th>\n",
       "    </tr>\n",
       "    <tr>\n",
       "      <th>publication_date</th>\n",
       "      <th></th>\n",
       "      <th></th>\n",
       "      <th></th>\n",
       "      <th></th>\n",
       "      <th></th>\n",
       "      <th></th>\n",
       "    </tr>\n",
       "  </thead>\n",
       "  <tbody>\n",
       "    <tr>\n",
       "      <th>2015-04-08 20:21:06</th>\n",
       "      <td>0.0000</td>\n",
       "      <td>Analysis - Shell's BG purchase could be cataly...</td>\n",
       "      <td>0.000</td>\n",
       "      <td>1.000</td>\n",
       "      <td>0.000</td>\n",
       "      <td>0</td>\n",
       "    </tr>\n",
       "    <tr>\n",
       "      <th>2015-04-17 21:57:33</th>\n",
       "      <td>0.2960</td>\n",
       "      <td>Exclusive - Anadarko considers selling Mozambi...</td>\n",
       "      <td>0.000</td>\n",
       "      <td>0.686</td>\n",
       "      <td>0.314</td>\n",
       "      <td>1</td>\n",
       "    </tr>\n",
       "    <tr>\n",
       "      <th>2015-07-31 23:12:49</th>\n",
       "      <td>0.0772</td>\n",
       "      <td>Tumbling oil prices slam profit at Exxon Mobil...</td>\n",
       "      <td>0.208</td>\n",
       "      <td>0.560</td>\n",
       "      <td>0.232</td>\n",
       "      <td>0</td>\n",
       "    </tr>\n",
       "    <tr>\n",
       "      <th>2015-10-30 18:15:02</th>\n",
       "      <td>0.2382</td>\n",
       "      <td>Exxon 3rd-qtr profit falls 47 pct but beats ex...</td>\n",
       "      <td>0.000</td>\n",
       "      <td>0.804</td>\n",
       "      <td>0.196</td>\n",
       "      <td>1</td>\n",
       "    </tr>\n",
       "    <tr>\n",
       "      <th>2016-02-02 20:20:41</th>\n",
       "      <td>0.5106</td>\n",
       "      <td>Exxon, tops in stock buybacks, now saving its ...</td>\n",
       "      <td>0.000</td>\n",
       "      <td>0.708</td>\n",
       "      <td>0.292</td>\n",
       "      <td>1</td>\n",
       "    </tr>\n",
       "  </tbody>\n",
       "</table>\n",
       "</div>"
      ],
      "text/plain": [
       "                     compound  \\\n",
       "publication_date                \n",
       "2015-04-08 20:21:06    0.0000   \n",
       "2015-04-17 21:57:33    0.2960   \n",
       "2015-07-31 23:12:49    0.0772   \n",
       "2015-10-30 18:15:02    0.2382   \n",
       "2016-02-02 20:20:41    0.5106   \n",
       "\n",
       "                                                              headline    neg  \\\n",
       "publication_date                                                                \n",
       "2015-04-08 20:21:06  Analysis - Shell's BG purchase could be cataly...  0.000   \n",
       "2015-04-17 21:57:33  Exclusive - Anadarko considers selling Mozambi...  0.000   \n",
       "2015-07-31 23:12:49  Tumbling oil prices slam profit at Exxon Mobil...  0.208   \n",
       "2015-10-30 18:15:02  Exxon 3rd-qtr profit falls 47 pct but beats ex...  0.000   \n",
       "2016-02-02 20:20:41  Exxon, tops in stock buybacks, now saving its ...  0.000   \n",
       "\n",
       "                       neu    pos  label  \n",
       "publication_date                          \n",
       "2015-04-08 20:21:06  1.000  0.000      0  \n",
       "2015-04-17 21:57:33  0.686  0.314      1  \n",
       "2015-07-31 23:12:49  0.560  0.232      0  \n",
       "2015-10-30 18:15:02  0.804  0.196      1  \n",
       "2016-02-02 20:20:41  0.708  0.292      1  "
      ]
     },
     "execution_count": 96,
     "metadata": {},
     "output_type": "execute_result"
    }
   ],
   "source": [
    "df123.index =data['publication_date']\n",
    "df123.head()"
   ]
  },
  {
   "cell_type": "code",
   "execution_count": 97,
   "metadata": {},
   "outputs": [],
   "source": [
    "df123.to_csv('XOM_sent_news.csv')"
   ]
  },
  {
   "cell_type": "code",
   "execution_count": null,
   "metadata": {},
   "outputs": [],
   "source": []
  }
 ],
 "metadata": {
  "kernelspec": {
   "display_name": "Python 3",
   "language": "python",
   "name": "python3"
  },
  "language_info": {
   "codemirror_mode": {
    "name": "ipython",
    "version": 3
   },
   "file_extension": ".py",
   "mimetype": "text/x-python",
   "name": "python",
   "nbconvert_exporter": "python",
   "pygments_lexer": "ipython3",
   "version": "3.6.5"
  }
 },
 "nbformat": 4,
 "nbformat_minor": 2
}
