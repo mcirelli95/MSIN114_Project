{
 "cells": [
  {
   "cell_type": "code",
   "execution_count": 1,
   "metadata": {},
   "outputs": [],
   "source": [
    "import pandas as pd\n",
    "import matplotlib.pyplot as plt\n",
    "import numpy as np\n",
    "import seaborn as sns\n",
    "from sklearn.feature_extraction.text import CountVectorizer\n",
    "from sklearn.linear_model import LogisticRegression\n",
    "from sklearn import preprocessing\n",
    "from nltk.sentiment.vader import SentimentIntensityAnalyzer as SIA\n",
    "import math\n",
    "import pprint\n",
    "from sklearn import preprocessing\n",
    "import re"
   ]
  },
  {
   "cell_type": "code",
   "execution_count": 2,
   "metadata": {},
   "outputs": [
    {
     "name": "stdout",
     "output_type": "stream",
     "text": [
      "[nltk_data] Downloading package punkt to\n",
      "[nltk_data]     /Users/mattcirelli/nltk_data...\n",
      "[nltk_data]   Package punkt is already up-to-date!\n"
     ]
    }
   ],
   "source": [
    "from vaderSentiment.vaderSentiment import SentimentIntensityAnalyzer\n",
    "from nltk.tokenize import RegexpTokenizer, sent_tokenize\n",
    "import nltk\n",
    "nltk.download('punkt')\n",
    "from nltk import word_tokenize\n",
    "\n",
    "sia = SentimentIntensityAnalyzer()"
   ]
  },
  {
   "cell_type": "code",
   "execution_count": 3,
   "metadata": {},
   "outputs": [],
   "source": [
    "# Update SIA with Loughran McDonald Dictionary\n",
    "\n",
    "import csv\n",
    "import pandas as pd\n",
    "\n",
    "# stock market lexicon\n",
    "stock_lex = pd.read_csv('stock_lex.csv')\n",
    "\n",
    "stock_lex['sentiment'] = (stock_lex['Aff_Score'] + stock_lex['Neg_Score'])/2\n",
    "stock_lex = dict(zip(stock_lex.Item, stock_lex.sentiment))\n",
    "stock_lex = {k:v for k,v in stock_lex.items() if len(k.split(' '))==1}\n",
    "stock_lex_scaled = {}\n",
    "for k, v in stock_lex.items():\n",
    "    if v > 0:\n",
    "        stock_lex_scaled[k] = v / max(stock_lex.values()) * 4\n",
    "    else:\n",
    "        stock_lex_scaled[k] = v / min(stock_lex.values()) * -4\n",
    "\n",
    "#update the positive and negative dictionaries\n",
    "positive = []\n",
    "reader = csv.reader('lm_positive.csv')\n",
    "for row in reader:\n",
    "    positive.append(row[0].strip())\n",
    "    \n",
    "negative = []\n",
    "reader = csv.reader('lm_negative.csv')\n",
    "for row in reader:\n",
    "    entry = row[0].strip().split(\" \")\n",
    "    if len(entry) > 1:\n",
    "        negative.extend(entry)\n",
    "    else:\n",
    "        negative.append(entry[0])\n",
    "\n",
    "final_lex = {}\n",
    "final_lex.update({word:2.0 for word in positive})\n",
    "final_lex.update({word:-2.0 for word in negative})\n",
    "final_lex.update(stock_lex_scaled)\n",
    "final_lex.update(sia.lexicon)\n",
    "sia.lexicon = final_lex"
   ]
  },
  {
   "cell_type": "code",
   "execution_count": 4,
   "metadata": {},
   "outputs": [],
   "source": [
    "data = pd.read_csv('MSFT_news.csv')"
   ]
  },
  {
   "cell_type": "code",
   "execution_count": 5,
   "metadata": {
    "scrolled": false
   },
   "outputs": [
    {
     "data": {
      "text/html": [
       "<div>\n",
       "<style scoped>\n",
       "    .dataframe tbody tr th:only-of-type {\n",
       "        vertical-align: middle;\n",
       "    }\n",
       "\n",
       "    .dataframe tbody tr th {\n",
       "        vertical-align: top;\n",
       "    }\n",
       "\n",
       "    .dataframe thead th {\n",
       "        text-align: right;\n",
       "    }\n",
       "</style>\n",
       "<table border=\"1\" class=\"dataframe\">\n",
       "  <thead>\n",
       "    <tr style=\"text-align: right;\">\n",
       "      <th></th>\n",
       "      <th>Unnamed: 0</th>\n",
       "      <th>company</th>\n",
       "      <th>id</th>\n",
       "      <th>publication_date</th>\n",
       "      <th>summary</th>\n",
       "      <th>title</th>\n",
       "      <th>url</th>\n",
       "    </tr>\n",
       "  </thead>\n",
       "  <tbody>\n",
       "    <tr>\n",
       "      <th>0</th>\n",
       "      <td>0</td>\n",
       "      <td>NaN</td>\n",
       "      <td>nws_PQOjwL</td>\n",
       "      <td>2019-08-19 21:20:09+00:00</td>\n",
       "      <td>It's time to check out 3 tech stocks that came...</td>\n",
       "      <td>3 Tech Stocks for Growth Investors to Buy in A...</td>\n",
       "      <td>https://finance.yahoo.com/news/3-tech-stocks-g...</td>\n",
       "    </tr>\n",
       "    <tr>\n",
       "      <th>1</th>\n",
       "      <td>1</td>\n",
       "      <td>NaN</td>\n",
       "      <td>nws_LJWGLO</td>\n",
       "      <td>2019-08-19 20:35:46+00:00</td>\n",
       "      <td>How do you make sure a car is really safe to d...</td>\n",
       "      <td>Cybersecurity Stocks: Why Companies ‘Crash Tes...</td>\n",
       "      <td>https://finance.yahoo.com/news/cybersecurity-s...</td>\n",
       "    </tr>\n",
       "    <tr>\n",
       "      <th>2</th>\n",
       "      <td>2</td>\n",
       "      <td>NaN</td>\n",
       "      <td>nws_7KV5pl</td>\n",
       "      <td>2019-08-19 20:06:08+00:00</td>\n",
       "      <td>Good news about tariffs on iPhone, iPads, Macs...</td>\n",
       "      <td>Apple Roundup: Tariffs, FAA, Russia, Music, Ap...</td>\n",
       "      <td>https://finance.yahoo.com/news/apple-roundup-t...</td>\n",
       "    </tr>\n",
       "    <tr>\n",
       "      <th>3</th>\n",
       "      <td>3</td>\n",
       "      <td>NaN</td>\n",
       "      <td>nws_ol3xpZ</td>\n",
       "      <td>2019-08-19 19:05:53+00:00</td>\n",
       "      <td>Microsoft Corporation (NASDAQ: MSFT) shares ha...</td>\n",
       "      <td>Large Microsoft Option Traders Selling Friday ...</td>\n",
       "      <td>https://finance.yahoo.com/news/large-microsoft...</td>\n",
       "    </tr>\n",
       "    <tr>\n",
       "      <th>4</th>\n",
       "      <td>4</td>\n",
       "      <td>NaN</td>\n",
       "      <td>nws_EbxeR1</td>\n",
       "      <td>2019-08-19 17:50:12+00:00</td>\n",
       "      <td>If you want to invest with a clean conscience,...</td>\n",
       "      <td>5 Top ESG Stocks on RBC Capital&amp;rsquo;s &amp;lsquo...</td>\n",
       "      <td>https://finance.yahoo.com/news/5-top-esg-stock...</td>\n",
       "    </tr>\n",
       "  </tbody>\n",
       "</table>\n",
       "</div>"
      ],
      "text/plain": [
       "   Unnamed: 0  company          id           publication_date  \\\n",
       "0           0      NaN  nws_PQOjwL  2019-08-19 21:20:09+00:00   \n",
       "1           1      NaN  nws_LJWGLO  2019-08-19 20:35:46+00:00   \n",
       "2           2      NaN  nws_7KV5pl  2019-08-19 20:06:08+00:00   \n",
       "3           3      NaN  nws_ol3xpZ  2019-08-19 19:05:53+00:00   \n",
       "4           4      NaN  nws_EbxeR1  2019-08-19 17:50:12+00:00   \n",
       "\n",
       "                                             summary  \\\n",
       "0  It's time to check out 3 tech stocks that came...   \n",
       "1  How do you make sure a car is really safe to d...   \n",
       "2  Good news about tariffs on iPhone, iPads, Macs...   \n",
       "3  Microsoft Corporation (NASDAQ: MSFT) shares ha...   \n",
       "4  If you want to invest with a clean conscience,...   \n",
       "\n",
       "                                               title  \\\n",
       "0  3 Tech Stocks for Growth Investors to Buy in A...   \n",
       "1  Cybersecurity Stocks: Why Companies ‘Crash Tes...   \n",
       "2  Apple Roundup: Tariffs, FAA, Russia, Music, Ap...   \n",
       "3  Large Microsoft Option Traders Selling Friday ...   \n",
       "4  5 Top ESG Stocks on RBC Capital&rsquo;s &lsquo...   \n",
       "\n",
       "                                                 url  \n",
       "0  https://finance.yahoo.com/news/3-tech-stocks-g...  \n",
       "1  https://finance.yahoo.com/news/cybersecurity-s...  \n",
       "2  https://finance.yahoo.com/news/apple-roundup-t...  \n",
       "3  https://finance.yahoo.com/news/large-microsoft...  \n",
       "4  https://finance.yahoo.com/news/5-top-esg-stock...  "
      ]
     },
     "execution_count": 5,
     "metadata": {},
     "output_type": "execute_result"
    }
   ],
   "source": [
    "data.head()"
   ]
  },
  {
   "cell_type": "code",
   "execution_count": 6,
   "metadata": {},
   "outputs": [],
   "source": [
    "data['publication_date']=pd.to_datetime(data.publication_date,format='%Y-%m-%d')\n",
    "data.index =data['publication_date']\n"
   ]
  },
  {
   "cell_type": "code",
   "execution_count": 7,
   "metadata": {
    "scrolled": true
   },
   "outputs": [
    {
     "name": "stdout",
     "output_type": "stream",
     "text": [
      "<class 'pandas.core.frame.DataFrame'>\n",
      "DatetimeIndex: 30200 entries, 2019-08-19 21:20:09 to 2016-04-22 01:05:08\n",
      "Data columns (total 7 columns):\n",
      "Unnamed: 0          30200 non-null int64\n",
      "company             0 non-null float64\n",
      "id                  30200 non-null object\n",
      "publication_date    30200 non-null datetime64[ns]\n",
      "summary             30180 non-null object\n",
      "title               30200 non-null object\n",
      "url                 30199 non-null object\n",
      "dtypes: datetime64[ns](1), float64(1), int64(1), object(4)\n",
      "memory usage: 1.8+ MB\n"
     ]
    }
   ],
   "source": [
    "data.info()"
   ]
  },
  {
   "cell_type": "code",
   "execution_count": 8,
   "metadata": {},
   "outputs": [
    {
     "data": {
      "text/html": [
       "<div>\n",
       "<style scoped>\n",
       "    .dataframe tbody tr th:only-of-type {\n",
       "        vertical-align: middle;\n",
       "    }\n",
       "\n",
       "    .dataframe tbody tr th {\n",
       "        vertical-align: top;\n",
       "    }\n",
       "\n",
       "    .dataframe thead th {\n",
       "        text-align: right;\n",
       "    }\n",
       "</style>\n",
       "<table border=\"1\" class=\"dataframe\">\n",
       "  <thead>\n",
       "    <tr style=\"text-align: right;\">\n",
       "      <th></th>\n",
       "      <th>Unnamed: 0</th>\n",
       "      <th>company</th>\n",
       "      <th>id</th>\n",
       "      <th>publication_date</th>\n",
       "      <th>summary</th>\n",
       "      <th>title</th>\n",
       "      <th>url</th>\n",
       "    </tr>\n",
       "    <tr>\n",
       "      <th>publication_date</th>\n",
       "      <th></th>\n",
       "      <th></th>\n",
       "      <th></th>\n",
       "      <th></th>\n",
       "      <th></th>\n",
       "      <th></th>\n",
       "      <th></th>\n",
       "    </tr>\n",
       "  </thead>\n",
       "  <tbody>\n",
       "    <tr>\n",
       "      <th>2019-08-19 21:20:09</th>\n",
       "      <td>0</td>\n",
       "      <td>NaN</td>\n",
       "      <td>nws_PQOjwL</td>\n",
       "      <td>2019-08-19 21:20:09</td>\n",
       "      <td>It's time to check out 3 tech stocks that came...</td>\n",
       "      <td>3 Tech Stocks for Growth Investors to Buy in A...</td>\n",
       "      <td>https://finance.yahoo.com/news/3-tech-stocks-g...</td>\n",
       "    </tr>\n",
       "    <tr>\n",
       "      <th>2019-08-19 20:35:46</th>\n",
       "      <td>1</td>\n",
       "      <td>NaN</td>\n",
       "      <td>nws_LJWGLO</td>\n",
       "      <td>2019-08-19 20:35:46</td>\n",
       "      <td>How do you make sure a car is really safe to d...</td>\n",
       "      <td>Cybersecurity Stocks: Why Companies ‘Crash Tes...</td>\n",
       "      <td>https://finance.yahoo.com/news/cybersecurity-s...</td>\n",
       "    </tr>\n",
       "    <tr>\n",
       "      <th>2019-08-19 20:06:08</th>\n",
       "      <td>2</td>\n",
       "      <td>NaN</td>\n",
       "      <td>nws_7KV5pl</td>\n",
       "      <td>2019-08-19 20:06:08</td>\n",
       "      <td>Good news about tariffs on iPhone, iPads, Macs...</td>\n",
       "      <td>Apple Roundup: Tariffs, FAA, Russia, Music, Ap...</td>\n",
       "      <td>https://finance.yahoo.com/news/apple-roundup-t...</td>\n",
       "    </tr>\n",
       "    <tr>\n",
       "      <th>2019-08-19 19:05:53</th>\n",
       "      <td>3</td>\n",
       "      <td>NaN</td>\n",
       "      <td>nws_ol3xpZ</td>\n",
       "      <td>2019-08-19 19:05:53</td>\n",
       "      <td>Microsoft Corporation (NASDAQ: MSFT) shares ha...</td>\n",
       "      <td>Large Microsoft Option Traders Selling Friday ...</td>\n",
       "      <td>https://finance.yahoo.com/news/large-microsoft...</td>\n",
       "    </tr>\n",
       "    <tr>\n",
       "      <th>2019-08-19 17:50:12</th>\n",
       "      <td>4</td>\n",
       "      <td>NaN</td>\n",
       "      <td>nws_EbxeR1</td>\n",
       "      <td>2019-08-19 17:50:12</td>\n",
       "      <td>If you want to invest with a clean conscience,...</td>\n",
       "      <td>5 Top ESG Stocks on RBC Capital&amp;rsquo;s &amp;lsquo...</td>\n",
       "      <td>https://finance.yahoo.com/news/5-top-esg-stock...</td>\n",
       "    </tr>\n",
       "  </tbody>\n",
       "</table>\n",
       "</div>"
      ],
      "text/plain": [
       "                     Unnamed: 0  company          id    publication_date  \\\n",
       "publication_date                                                           \n",
       "2019-08-19 21:20:09           0      NaN  nws_PQOjwL 2019-08-19 21:20:09   \n",
       "2019-08-19 20:35:46           1      NaN  nws_LJWGLO 2019-08-19 20:35:46   \n",
       "2019-08-19 20:06:08           2      NaN  nws_7KV5pl 2019-08-19 20:06:08   \n",
       "2019-08-19 19:05:53           3      NaN  nws_ol3xpZ 2019-08-19 19:05:53   \n",
       "2019-08-19 17:50:12           4      NaN  nws_EbxeR1 2019-08-19 17:50:12   \n",
       "\n",
       "                                                               summary  \\\n",
       "publication_date                                                         \n",
       "2019-08-19 21:20:09  It's time to check out 3 tech stocks that came...   \n",
       "2019-08-19 20:35:46  How do you make sure a car is really safe to d...   \n",
       "2019-08-19 20:06:08  Good news about tariffs on iPhone, iPads, Macs...   \n",
       "2019-08-19 19:05:53  Microsoft Corporation (NASDAQ: MSFT) shares ha...   \n",
       "2019-08-19 17:50:12  If you want to invest with a clean conscience,...   \n",
       "\n",
       "                                                                 title  \\\n",
       "publication_date                                                         \n",
       "2019-08-19 21:20:09  3 Tech Stocks for Growth Investors to Buy in A...   \n",
       "2019-08-19 20:35:46  Cybersecurity Stocks: Why Companies ‘Crash Tes...   \n",
       "2019-08-19 20:06:08  Apple Roundup: Tariffs, FAA, Russia, Music, Ap...   \n",
       "2019-08-19 19:05:53  Large Microsoft Option Traders Selling Friday ...   \n",
       "2019-08-19 17:50:12  5 Top ESG Stocks on RBC Capital&rsquo;s &lsquo...   \n",
       "\n",
       "                                                                   url  \n",
       "publication_date                                                        \n",
       "2019-08-19 21:20:09  https://finance.yahoo.com/news/3-tech-stocks-g...  \n",
       "2019-08-19 20:35:46  https://finance.yahoo.com/news/cybersecurity-s...  \n",
       "2019-08-19 20:06:08  https://finance.yahoo.com/news/apple-roundup-t...  \n",
       "2019-08-19 19:05:53  https://finance.yahoo.com/news/large-microsoft...  \n",
       "2019-08-19 17:50:12  https://finance.yahoo.com/news/5-top-esg-stock...  "
      ]
     },
     "execution_count": 8,
     "metadata": {},
     "output_type": "execute_result"
    }
   ],
   "source": [
    "data.head()"
   ]
  },
  {
   "cell_type": "code",
   "execution_count": 9,
   "metadata": {},
   "outputs": [
    {
     "data": {
      "text/plain": [
       "\"publication_date\\n2019-08-19 21:20:09    It's time to check out 3 tech stocks that came...\\n2019-08-19 20:35:46    How do you make sure a car is really safe to d...\\n2019-08-19 20:06:08    Good news about tariffs on iPhone, iPads, Macs...\\n2019-08-19 19:05:53    Microsoft Corporation (NASDAQ: MSFT) shares ha...\\n2019-08-19 17:50:12    If you want to invest with a clean conscience,...\\n2019-08-19 17:05:34    Microsoft Corporation (NASDAQ: MSFT) shares ar...\\n2019-08-19 16:38:32    Recessions in the semiconductor industry heark...\\n2019-08-19 14:52:51    Two big events took place in July for investor...\\n2019-08-19 14:45:42    Despite an initially negative response after e...\\n2019-08-19 14:21:02    Alphabet's (GOOGL) Google launches iOS version...\\n2019-08-19 13:50:00    Investing.com - Micron (NASDAQ:MU) led semicon...\\n2019-08-19 13:19:01    Domestic firms seem to be gaining in this U.S....\\n2019-08-19 13:14:01    Amazon's (AMZN) AWS is chosen by The Globe and...\\n2019-08-19 13:05:46    Until a couple weeks ago, IBM (NYSE:IBM) stock...\\n2019-08-19 12:49:12    Some members of the Dow 30 Index have offered ...\\n2019-08-19 12:24:06    Amazon's (NASDAQ:AMZN) valuation used to be a ...\\n2019-08-19 11:40:25    Stock futures soared amid President Trump's Ch...\\n2019-08-19 11:31:00    Nvidia  was rising Monday in premarket trading...\\n2019-08-19 09:08:20    (Bloomberg) -- Want the lowdown on European ma...\\n2019-08-19 07:04:17    Real-time ray tracing, or the ability for the ...\\n2019-08-19 05:16:48    The Dow Jones Industrial Average - that elite ...\\n2019-08-19 04:55:02    (Bloomberg) -- ByteDance Inc. has invested in ...\\n2019-08-19 04:03:28    (Bloomberg Opinion) -- It looks like SoftBank ...\\n2019-08-18 19:11:18    Moody's just downgraded China's credit rating....\\n2019-08-18 14:00:00    The Business Journal Untucked catches you up o...\\n2019-08-17 15:10:30    It has been about a month since the las t earn...\\n2019-08-17 15:10:30    It has been about a month since the las t earn...\\n2019-08-17 13:30:01    Microsoft (MSFT) reported earnings 30 days ago...\\n2019-08-17 05:00:00    To help light a fire under you to complete a m...\\n2019-08-16 23:11:13    The 18-acre estate — which includes an art gal...\\n                                             ...                        \\n2016-07-21 02:08:39    Asians stocks mostly higher as Japan leads on ...\\n2016-07-20 23:12:23    France serves notice to Microsoft on data trac...\\n2016-07-20 20:22:15    [Reuters - UK Focus] - Wall Street gained on W...\\n2016-07-20 18:52:06    [Reuters - UK Focus] - Wall Street gained on W...\\n2016-07-20 18:32:53    France serves notice to Mircosoft on data trac...\\n2016-07-20 12:05:00    [Business Wire] - The round, which brings the ...\\n2016-07-20 04:14:25    Cloud business boosts Microsoft's quarterly re...\\n2016-07-19 21:52:40    Microsoft delivers earnings surprise, stock rises\\n2016-07-19 21:49:14    Strong cloud business boosts Microsoft's quart...\\n2016-07-19 20:52:32    Microsoft returns to profit one year after big...\\n2016-07-18 14:00:00    Autotask Helps MSPs Improve Efficiency and Pro...\\n2016-07-15 20:52:58    Windows 10 to take longer to reach billion-dev...\\n2016-07-14 21:06:25       Microsoft wins appeal to protect overseas data\\n2016-07-14 19:11:06    [Reuters - UK Focus] - A federal appeals court...\\n2016-07-07 17:12:37    Microsoft leadership shake-up as veteran exec ...\\n2016-07-07 12:00:00    SoftwareONE recognized as Winner for 2016 Micr...\\n2016-06-29 17:43:46         Windows 10 anniversary update set for August\\n2016-06-29 04:38:04    All may not be lost for struggling Nokia, Blac...\\n2016-06-22 12:26:04    Microsoft showcases SaaS cloud solutions in India\\n2016-06-21 12:54:04    Edge is most power-efficient browser on Window...\\n2016-06-16 22:22:43       Microsoft puts its cloud into cannabis startup\\n2016-06-14 00:19:02    Microsoft to buy LinkedIn for $26.2 billion in...\\n2016-06-13 10:12:03    Microsoft launches its online store with Tata ...\\n2016-05-31 11:26:04    Newgen Software's unique app now on Windows pl...\\n2016-05-30 07:50:04    Microsoft seeks to empower every Indian: Satya...\\n2016-05-25 21:13:59    Microsoft to cut 1,850 jobs at struggling smar...\\n2016-05-11 06:32:13    Are we ready for chatbots, the next technology...\\n2016-04-27 07:36:08        Is India ready for the 'thinnest' laptop age?\\n2016-04-22 02:18:28           Microsoft revenue, profit misses estimates\\n2016-04-22 01:05:08    Intel and Microsoft face different challenges ...\\nName: summary, Length: 30200, dtype: object\""
      ]
     },
     "execution_count": 9,
     "metadata": {},
     "output_type": "execute_result"
    }
   ],
   "source": [
    "str(data[\"summary\"])"
   ]
  },
  {
   "cell_type": "code",
   "execution_count": 10,
   "metadata": {},
   "outputs": [
    {
     "name": "stderr",
     "output_type": "stream",
     "text": [
      "/anaconda3/lib/python3.6/site-packages/ipykernel_launcher.py:3: FutureWarning: 'publication_date' is both an index level and a column label.\n",
      "Defaulting to column, but this will raise an ambiguity error in a future version\n",
      "  This is separate from the ipykernel package so we can avoid doing imports until\n"
     ]
    }
   ],
   "source": [
    "#drop any duplicated headlines\n",
    "data = data.sort_values(['summary']).drop_duplicates(subset='title')\n",
    "data = data.sort_values(['publication_date'])"
   ]
  },
  {
   "cell_type": "code",
   "execution_count": 11,
   "metadata": {},
   "outputs": [],
   "source": [
    "# Concatenate all news into one\n",
    "#data[\"summary\"] = data.filter(regex=(\"Top.*\")).apply(lambda x: ''.join(str(x.values)), axis=1)"
   ]
  },
  {
   "cell_type": "code",
   "execution_count": 12,
   "metadata": {
    "scrolled": true
   },
   "outputs": [
    {
     "name": "stdout",
     "output_type": "stream",
     "text": [
      "['Microsoft', 'revenue', ',', 'profit', 'misses', 'estimates']\n"
     ]
    }
   ],
   "source": [
    "#Tokenize Words Data \n",
    "text=data[\"summary\"][1]\n",
    "from nltk.tokenize import word_tokenize\n",
    "tokenized_word=word_tokenize(text)\n",
    "print(tokenized_word)"
   ]
  },
  {
   "cell_type": "code",
   "execution_count": 13,
   "metadata": {},
   "outputs": [
    {
     "name": "stdout",
     "output_type": "stream",
     "text": [
      "['Microsoft revenue, profit misses estimates']\n"
     ]
    }
   ],
   "source": [
    "##Tokenize Sentences Data\n",
    "from nltk.tokenize import sent_tokenize\n",
    "tokenized_text=sent_tokenize(text)\n",
    "print(tokenized_text)"
   ]
  },
  {
   "cell_type": "code",
   "execution_count": 14,
   "metadata": {
    "scrolled": true
   },
   "outputs": [
    {
     "name": "stdout",
     "output_type": "stream",
     "text": [
      "{'will', 'was', 'such', 'through', 'don', \"needn't\", 'few', 'off', 'do', 'why', 'o', 'out', \"couldn't\", \"she's\", \"weren't\", \"won't\", 'you', 'to', 'his', 'has', 'couldn', \"wasn't\", 'y', 'isn', 'nor', 'shan', 'am', 'own', 'how', 'your', 'of', 'at', 'that', 't', 'here', 'hers', 'each', 'm', 'most', 'needn', 'doing', 'be', 'not', 'now', 'were', 'a', 'any', 'hadn', 'd', 'with', 'in', 'some', 'for', 'have', 'yourselves', 'after', 'above', 'doesn', 'before', 'hasn', 'weren', 'if', 'i', 'those', 'mightn', 'there', \"hasn't\", 'these', \"you're\", 'does', 'ourselves', 'against', 'until', 'are', 've', 'on', 'from', 'below', 'once', 'should', \"should've\", 'because', \"don't\", 'who', 'mustn', 'shouldn', 'same', 'very', 'this', 'over', 'wasn', 'so', 'yours', \"aren't\", 'me', 'all', 'themselves', 'more', 'haven', 'didn', 'him', 'again', \"shan't\", 'just', 's', 'wouldn', 'she', 'them', 'only', 'we', 'yourself', 'while', 'is', 'further', \"didn't\", 'had', \"isn't\", 'other', 'ours', 'our', 'himself', 'he', 'when', 'down', 'than', \"you've\", 'its', 'll', 'no', 'did', 'won', 'under', 'they', 'their', 'about', 'an', \"shouldn't\", 'which', 'by', 'both', 'my', \"it's\", 'being', 'the', 'but', \"that'll\", 'and', 'having', 'can', 'it', 'theirs', 'myself', 'whom', 'herself', 'then', \"wouldn't\", 'her', \"mightn't\", \"hadn't\", 'or', 'ain', 'what', 'between', 'into', \"you'd\", \"doesn't\", 'during', 'too', \"mustn't\", 'as', 'itself', 'up', 'been', 're', \"you'll\", \"haven't\", 'ma', 'where', 'aren'}\n"
     ]
    }
   ],
   "source": [
    "#Import English Stopwords\n",
    "from nltk.corpus import stopwords\n",
    "stop_words=set(stopwords.words(\"english\"))\n",
    "print(stop_words)"
   ]
  },
  {
   "cell_type": "code",
   "execution_count": 15,
   "metadata": {},
   "outputs": [
    {
     "name": "stdout",
     "output_type": "stream",
     "text": [
      "Tokenized Sentence: ['Microsoft revenue, profit misses estimates']\n",
      "Filterd Sentence: ['Microsoft revenue, profit misses estimates']\n"
     ]
    }
   ],
   "source": [
    "#Filter Stopwords\n",
    "filtered_sent=[]\n",
    "for w in tokenized_text:\n",
    "    if w not in stop_words:\n",
    "        filtered_sent.append(w)\n",
    "print(\"Tokenized Sentence:\",tokenized_text)\n",
    "print(\"Filterd Sentence:\",filtered_sent)"
   ]
  },
  {
   "cell_type": "markdown",
   "metadata": {},
   "source": [
    "https://github.com/Currie32/Predicting-the-Dow-Jones-with-Headlines/blob/master/Predict_Dow_with_News.ipynb\n",
    "# A list of contractions from http://stackoverflow.com/questions/19790188/expanding-english-language-contractions-in-python\n",
    "contractions = { \n",
    "\"ain't\": \"am not\",\n",
    "\"aren't\": \"are not\",\n",
    "\"can't\": \"cannot\",\n",
    "\"can't've\": \"cannot have\",\n",
    "\"'cause\": \"because\",\n",
    "\"could've\": \"could have\",\n",
    "\"couldn't\": \"could not\",\n",
    "\"couldn't've\": \"could not have\",\n",
    "\"didn't\": \"did not\",\n",
    "\"doesn't\": \"does not\",\n",
    "\"don't\": \"do not\",\n",
    "\"hadn't\": \"had not\",\n",
    "\"hadn't've\": \"had not have\",\n",
    "\"hasn't\": \"has not\",\n",
    "\"haven't\": \"have not\",\n",
    "\"he'd\": \"he would\",\n",
    "\"he'd've\": \"he would have\",\n",
    "\"he'll\": \"he will\",\n",
    "\"he's\": \"he is\",\n",
    "\"how'd\": \"how did\",\n",
    "\"how'll\": \"how will\",\n",
    "\"how's\": \"how is\",\n",
    "\"i'd\": \"i would\",\n",
    "\"i'll\": \"i will\",\n",
    "\"i'm\": \"i am\",\n",
    "\"i've\": \"i have\",\n",
    "\"isn't\": \"is not\",\n",
    "\"it'd\": \"it would\",\n",
    "\"it'll\": \"it will\",\n",
    "\"it's\": \"it is\",\n",
    "\"let's\": \"let us\",\n",
    "\"ma'am\": \"madam\",\n",
    "\"mayn't\": \"may not\",\n",
    "\"might've\": \"might have\",\n",
    "\"mightn't\": \"might not\",\n",
    "\"must've\": \"must have\",\n",
    "\"mustn't\": \"must not\",\n",
    "\"needn't\": \"need not\",\n",
    "\"oughtn't\": \"ought not\",\n",
    "\"shan't\": \"shall not\",\n",
    "\"sha'n't\": \"shall not\",\n",
    "\"she'd\": \"she would\",\n",
    "\"she'll\": \"she will\",\n",
    "\"she's\": \"she is\",\n",
    "\"should've\": \"should have\",\n",
    "\"shouldn't\": \"should not\",\n",
    "\"that'd\": \"that would\",\n",
    "\"that's\": \"that is\",\n",
    "\"there'd\": \"there had\",\n",
    "\"there's\": \"there is\",\n",
    "\"they'd\": \"they would\",\n",
    "\"they'll\": \"they will\",\n",
    "\"they're\": \"they are\",\n",
    "\"they've\": \"they have\",\n",
    "\"wasn't\": \"was not\",\n",
    "\"we'd\": \"we would\",\n",
    "\"we'll\": \"we will\",\n",
    "\"we're\": \"we are\",\n",
    "\"we've\": \"we have\",\n",
    "\"weren't\": \"were not\",\n",
    "\"what'll\": \"what will\",\n",
    "\"what're\": \"what are\",\n",
    "\"what's\": \"what is\",\n",
    "\"what've\": \"what have\",\n",
    "\"where'd\": \"where did\",\n",
    "\"where's\": \"where is\",\n",
    "\"who'll\": \"who will\",\n",
    "\"who's\": \"who is\",\n",
    "\"won't\": \"will not\",\n",
    "\"wouldn't\": \"would not\",\n",
    "\"you'd\": \"you would\",\n",
    "\"you'll\": \"you will\",\n",
    "\"you're\": \"you are\"\n",
    "}"
   ]
  },
  {
   "cell_type": "markdown",
   "metadata": {},
   "source": [
    "def clean_text(text, remove_stopwords = True):\n",
    "    '''Remove unwanted characters and format the text to create fewer nulls word embeddings'''\n",
    "    \n",
    "    # Convert words to lower case\n",
    "    text = text.lower()\n",
    "    \n",
    "    # Replace contractions with their longer forms \n",
    "    if True:\n",
    "        text = text.split()\n",
    "        new_text = []\n",
    "        for word in text:\n",
    "            if word in contractions:\n",
    "                new_text.append(contractions[word])\n",
    "            else:\n",
    "                new_text.append(word)\n",
    "        text = \" \".join(new_text)\n",
    "    \n",
    "    # Format words and remove unwanted characters\n",
    "    text = re.sub(r'&amp;', '', text) \n",
    "    text = re.sub(r'0,0', '00', text) \n",
    "    text = re.sub(r'[_\"\\-;%()|.,+&=*%.,!?:#@\\[\\]]', ' ', text)\n",
    "    text = re.sub(r'\\'', ' ', text)\n",
    "    text = re.sub(r'\\$', ' $ ', text)\n",
    "    text = re.sub(r'u s ', ' united states ', text)\n",
    "    text = re.sub(r'u n ', ' united nations ', text)\n",
    "    text = re.sub(r'u k ', ' united kingdom ', text)\n",
    "    text = re.sub(r'j k ', ' jk ', text)\n",
    "    text = re.sub(r' s ', ' ', text)\n",
    "    text = re.sub(r' yr ', ' year ', text)\n",
    "    text = re.sub(r' l g b t ', ' lgbt ', text)\n",
    "    text = re.sub(r'0km ', '0 km ', text)\n",
    "    \n",
    "    # Optionally, remove stop words\n",
    "    if remove_stopwords:\n",
    "        text = text.split()\n",
    "        stops = set(stopwords.words(\"english\"))\n",
    "        text = [w for w in text if not w in stops]\n",
    "        text = \" \".join(text)\n",
    "\n",
    "    return text"
   ]
  },
  {
   "cell_type": "markdown",
   "metadata": {},
   "source": [
    "# Clean the headlines\n",
    "clean_headlines = []\n",
    "\n",
    "for daily_headlines in data[\"summary\"]:\n",
    "    clean_daily_headlines = []\n",
    "    for headline in daily_headlines:\n",
    "        clean_daily_headlines.append(clean_text(headline))\n",
    "    clean_headlines.append(clean_daily_headlines)"
   ]
  },
  {
   "cell_type": "code",
   "execution_count": 16,
   "metadata": {},
   "outputs": [
    {
     "data": {
      "text/plain": [
       "\"publication_date\\n2016-04-22 01:05:08    Intel and Microsoft face different challenges ...\\n2016-04-22 02:18:28           Microsoft revenue, profit misses estimates\\n2016-04-27 07:36:08        Is India ready for the 'thinnest' laptop age?\\n2016-05-11 06:32:13    Are we ready for chatbots, the next technology...\\n2016-05-25 21:13:59    Microsoft to cut 1,850 jobs at struggling smar...\\n2016-05-30 07:50:04    Microsoft seeks to empower every Indian: Satya...\\n2016-05-31 11:26:04    Newgen Software's unique app now on Windows pl...\\n2016-06-13 10:12:03    Microsoft launches its online store with Tata ...\\n2016-06-14 00:19:02    Microsoft to buy LinkedIn for $26.2 billion in...\\n2016-06-16 22:22:43       Microsoft puts its cloud into cannabis startup\\n2016-06-21 12:54:04    Edge is most power-efficient browser on Window...\\n2016-06-22 12:26:04    Microsoft showcases SaaS cloud solutions in India\\n2016-06-29 04:38:04    All may not be lost for struggling Nokia, Blac...\\n2016-06-29 17:43:46         Windows 10 anniversary update set for August\\n2016-07-07 12:00:00    SoftwareONE recognized as Winner for 2016 Micr...\\n2016-07-07 17:12:37    Microsoft leadership shake-up as veteran exec ...\\n2016-07-14 19:11:06    Microsoft wins landmark appeal over seizure of...\\n2016-07-14 21:06:25       Microsoft wins appeal to protect overseas data\\n2016-07-15 20:52:58    Windows 10 to take longer to reach billion-dev...\\n2016-07-18 14:00:00    Autotask Helps MSPs Improve Efficiency and Pro...\\n2016-07-19 20:52:32    Microsoft returns to profit one year after big...\\n2016-07-19 21:49:14    Strong cloud business boosts Microsoft's quart...\\n2016-07-19 21:52:40    Microsoft delivers earnings surprise, stock rises\\n2016-07-20 04:14:25    Cloud business boosts Microsoft's quarterly re...\\n2016-07-20 12:05:00    Sprinklr Raises $105 Million at $1.8 Billion V...\\n2016-07-20 18:32:53    France serves notice to Mircosoft on data trac...\\n2016-07-20 18:52:06    US STOCKS-Microsoft propels Wall Street to new...\\n2016-07-20 20:22:15    US STOCKS-Microsoft helps Wall St to another d...\\n2016-07-20 23:12:23    France serves notice to Microsoft on data trac...\\n2016-07-21 02:08:39    Asians stocks mostly higher as Japan leads on ...\\n                                             ...                        \\n2019-08-16 20:01:08    How Does Fortnite Make Money: Online Gaming, e...\\n2019-08-16 20:55:14    Tom Gibbons goes from video games to jet wings...\\n2019-08-16 22:48:15        Julian Robertson Buys 3 Stocks in 2nd Quarter\\n2019-08-16 23:11:13    Patti Payne's Cool Pads: Former Microsoft exec...\\n2019-08-17 15:10:30    Why Is Microsoft (MSFT) Down 0.2% Since Last E...\\n2019-08-18 14:00:00    Need to know: The plane paparazzi, Facebook's ...\\n2019-08-18 19:11:18             What Do AA+ and AAA Credit Ratings Mean?\\n2019-08-19 04:03:28         Masa’s Visionary Sequel Has a Desperate Look\\n2019-08-19 04:55:02    ByteDance Invests in Chinese Wikipedia-like Si...\\n2019-08-19 05:16:48      All 30 Dow Stocks Ranked: The Analysts Weigh In\\n2019-08-19 07:04:17    Microsoft, Nvidia team up for more realistic v...\\n2019-08-19 09:08:20    ECB Says the Next European Bank Hack Is Just a...\\n2019-08-19 11:31:00    [video]Nvidia Gets Boost After Microsoft Says ...\\n2019-08-19 11:40:25    Dow Jones Futures: Trump's China Trade News Fu...\\n2019-08-19 12:24:06     Do You Buy Amazon Stock Here or on a Deeper Dip?\\n2019-08-19 12:49:12    Buy 5 Dow Stocks That Have Surged Despite Mark...\\n2019-08-19 13:05:46                3 Reasons to Buy IBM Stock on the Dip\\n2019-08-19 13:14:01    Amazon's AWS Clientele Strengthens With The Gl...\\n2019-08-19 13:19:01        5 Domestic Stocks to Buy Amid Trade War Fears\\n2019-08-19 13:50:00    StockBeat: Semis Flying High, Led by Micron, a...\\n2019-08-19 14:21:02    Google Gains Edge Over AMZN, MSFT & AAPL With ...\\n2019-08-19 14:45:42    AMD Stock’s Post-Earnings Recovering Shows Inv...\\n2019-08-19 14:52:51    IBM Stock Is Only Scratching the Surface With ...\\n2019-08-19 16:38:32         Nvidia Stock Will Survive the Chip Recession\\n2019-08-19 17:05:34    Microsoft Acquires jClarity To Bolster Azure's...\\n2019-08-19 17:50:12    5 Top ESG Stocks on RBC Capital&rsquo;s &lsquo...\\n2019-08-19 19:05:53    Large Microsoft Option Traders Selling Friday ...\\n2019-08-19 20:06:08    Apple Roundup: Tariffs, FAA, Russia, Music, Ap...\\n2019-08-19 20:35:46    Cybersecurity Stocks: Why Companies ‘Crash Tes...\\n2019-08-19 21:20:09    3 Tech Stocks for Growth Investors to Buy in A...\\nName: title, Length: 23199, dtype: object\""
      ]
     },
     "execution_count": 16,
     "metadata": {},
     "output_type": "execute_result"
    }
   ],
   "source": [
    "str(data[\"title\"])"
   ]
  },
  {
   "cell_type": "code",
   "execution_count": null,
   "metadata": {},
   "outputs": [],
   "source": []
  },
  {
   "cell_type": "code",
   "execution_count": 17,
   "metadata": {
    "scrolled": true
   },
   "outputs": [
    {
     "name": "stdout",
     "output_type": "stream",
     "text": [
      "publication_date\n",
      "2016-04-22 01:05:08    Intel and Microsoft face different challenges ...\n",
      "2016-04-22 02:18:28           Microsoft revenue, profit misses estimates\n",
      "2016-04-27 07:36:08        Is India ready for the 'thinnest' laptop age?\n",
      "2016-05-11 06:32:13    Are we ready for chatbots, the next technology...\n",
      "2016-05-25 21:13:59    Microsoft to cut 1,850 jobs at struggling smar...\n",
      "2016-05-30 07:50:04    Microsoft seeks to empower every Indian: Satya...\n",
      "2016-05-31 11:26:04    Newgen Software's unique app now on Windows pl...\n",
      "2016-06-13 10:12:03    Microsoft launches its online store with Tata ...\n",
      "2016-06-14 00:19:02    Microsoft to buy LinkedIn for $26.2 billion in...\n",
      "2016-06-16 22:22:43       Microsoft puts its cloud into cannabis startup\n",
      "2016-06-21 12:54:04    Edge is most power-efficient browser on Window...\n",
      "2016-06-22 12:26:04    Microsoft showcases SaaS cloud solutions in India\n",
      "2016-06-29 04:38:04    All may not be lost for struggling Nokia, Blac...\n",
      "2016-06-29 17:43:46         Windows 10 anniversary update set for August\n",
      "2016-07-07 12:00:00    SoftwareONE recognized as Winner for 2016 Micr...\n",
      "2016-07-07 17:12:37    Microsoft leadership shake-up as veteran exec ...\n",
      "2016-07-14 19:11:06    [Reuters - UK Focus] - A federal appeals court...\n",
      "2016-07-14 21:06:25       Microsoft wins appeal to protect overseas data\n",
      "2016-07-15 20:52:58    Windows 10 to take longer to reach billion-dev...\n",
      "2016-07-18 14:00:00    Autotask Helps MSPs Improve Efficiency and Pro...\n",
      "2016-07-19 20:52:32    Microsoft returns to profit one year after big...\n",
      "2016-07-19 21:49:14    Strong cloud business boosts Microsoft's quart...\n",
      "2016-07-19 21:52:40    Microsoft delivers earnings surprise, stock rises\n",
      "2016-07-20 04:14:25    Cloud business boosts Microsoft's quarterly re...\n",
      "2016-07-20 12:05:00    [Business Wire] - The round, which brings the ...\n",
      "2016-07-20 18:32:53    France serves notice to Mircosoft on data trac...\n",
      "2016-07-20 18:52:06    [Reuters - UK Focus] - Wall Street gained on W...\n",
      "2016-07-20 20:22:15    [Reuters - UK Focus] - Wall Street gained on W...\n",
      "2016-07-20 23:12:23    France serves notice to Microsoft on data trac...\n",
      "2016-07-21 02:08:39    Asians stocks mostly higher as Japan leads on ...\n",
      "                                             ...                        \n",
      "2019-08-16 20:01:08    Fortnite is the most popular battle-royale gam...\n",
      "2019-08-16 20:55:14    After leaving Microsoft, Tom Gibbons started a...\n",
      "2019-08-16 22:48:15    New positions include David Tepper’s former to...\n",
      "2019-08-16 23:11:13    The 18-acre estate — which includes an art gal...\n",
      "2019-08-17 15:10:30    It has been about a month since the las t earn...\n",
      "2019-08-18 14:00:00    The Business Journal Untucked catches you up o...\n",
      "2019-08-18 19:11:18    Moody's just downgraded China's credit rating....\n",
      "2019-08-19 04:03:28    (Bloomberg Opinion) -- It looks like SoftBank ...\n",
      "2019-08-19 04:55:02    (Bloomberg) -- ByteDance Inc. has invested in ...\n",
      "2019-08-19 05:16:48    The Dow Jones Industrial Average - that elite ...\n",
      "2019-08-19 07:04:17    Real-time ray tracing, or the ability for the ...\n",
      "2019-08-19 09:08:20    (Bloomberg) -- Want the lowdown on European ma...\n",
      "2019-08-19 11:31:00    Nvidia  was rising Monday in premarket trading...\n",
      "2019-08-19 11:40:25    Stock futures soared amid President Trump's Ch...\n",
      "2019-08-19 12:24:06    Amazon's (NASDAQ:AMZN) valuation used to be a ...\n",
      "2019-08-19 12:49:12    Some members of the Dow 30 Index have offered ...\n",
      "2019-08-19 13:05:46    Until a couple weeks ago, IBM (NYSE:IBM) stock...\n",
      "2019-08-19 13:14:01    Amazon's (AMZN) AWS is chosen by The Globe and...\n",
      "2019-08-19 13:19:01    Domestic firms seem to be gaining in this U.S....\n",
      "2019-08-19 13:50:00    Investing.com - Micron (NASDAQ:MU) led semicon...\n",
      "2019-08-19 14:21:02    Alphabet's (GOOGL) Google launches iOS version...\n",
      "2019-08-19 14:45:42    Despite an initially negative response after e...\n",
      "2019-08-19 14:52:51    Two big events took place in July for investor...\n",
      "2019-08-19 16:38:32    Recessions in the semiconductor industry heark...\n",
      "2019-08-19 17:05:34    Microsoft Corporation (NASDAQ: MSFT) shares ar...\n",
      "2019-08-19 17:50:12    If you want to invest with a clean conscience,...\n",
      "2019-08-19 19:05:53    Microsoft Corporation (NASDAQ: MSFT) shares ha...\n",
      "2019-08-19 20:06:08    Good news about tariffs on iPhone, iPads, Macs...\n",
      "2019-08-19 20:35:46    How do you make sure a car is really safe to d...\n",
      "2019-08-19 21:20:09    It's time to check out 3 tech stocks that came...\n",
      "Name: summary, Length: 23199, dtype: object\n"
     ]
    }
   ],
   "source": [
    "print(data[\"summary\"])"
   ]
  },
  {
   "cell_type": "markdown",
   "metadata": {},
   "source": [
    "### SIA compound score Calculation \n",
    "https://www.learndatasci.com/tutorials/sentiment-analysis-reddit-headlines-pythons-nltk/\n"
   ]
  },
  {
   "cell_type": "code",
   "execution_count": 18,
   "metadata": {},
   "outputs": [
    {
     "name": "stdout",
     "output_type": "stream",
     "text": [
      "[{'neg': 0.0, 'neu': 0.874, 'pos': 0.126, 'compound': 0.0772, 'headline': 'Intel and Microsoft face different challenges in shifts to cloud'}, {'neg': 0.244, 'neu': 0.385, 'pos': 0.372, 'compound': 0.25, 'headline': 'Microsoft revenue, profit misses estimates'}, {'neg': 0.0, 'neu': 0.737, 'pos': 0.263, 'compound': 0.3612, 'headline': \"Is India ready for the 'thinnest' laptop age?\"}]\n"
     ]
    }
   ],
   "source": [
    "sia = SIA()\n",
    "results = []\n",
    "\n",
    "for line in data[\"title\"]:\n",
    "    pol_score = sia.polarity_scores(line)\n",
    "    pol_score['headline'] = line\n",
    "    results.append(pol_score)\n",
    "\n",
    "print(results[:3])"
   ]
  },
  {
   "cell_type": "code",
   "execution_count": 19,
   "metadata": {
    "scrolled": false
   },
   "outputs": [
    {
     "data": {
      "text/html": [
       "<div>\n",
       "<style scoped>\n",
       "    .dataframe tbody tr th:only-of-type {\n",
       "        vertical-align: middle;\n",
       "    }\n",
       "\n",
       "    .dataframe tbody tr th {\n",
       "        vertical-align: top;\n",
       "    }\n",
       "\n",
       "    .dataframe thead th {\n",
       "        text-align: right;\n",
       "    }\n",
       "</style>\n",
       "<table border=\"1\" class=\"dataframe\">\n",
       "  <thead>\n",
       "    <tr style=\"text-align: right;\">\n",
       "      <th></th>\n",
       "      <th>compound</th>\n",
       "      <th>headline</th>\n",
       "      <th>neg</th>\n",
       "      <th>neu</th>\n",
       "      <th>pos</th>\n",
       "    </tr>\n",
       "  </thead>\n",
       "  <tbody>\n",
       "    <tr>\n",
       "      <th>0</th>\n",
       "      <td>0.0772</td>\n",
       "      <td>Intel and Microsoft face different challenges ...</td>\n",
       "      <td>0.000</td>\n",
       "      <td>0.874</td>\n",
       "      <td>0.126</td>\n",
       "    </tr>\n",
       "    <tr>\n",
       "      <th>1</th>\n",
       "      <td>0.2500</td>\n",
       "      <td>Microsoft revenue, profit misses estimates</td>\n",
       "      <td>0.244</td>\n",
       "      <td>0.385</td>\n",
       "      <td>0.372</td>\n",
       "    </tr>\n",
       "    <tr>\n",
       "      <th>2</th>\n",
       "      <td>0.3612</td>\n",
       "      <td>Is India ready for the 'thinnest' laptop age?</td>\n",
       "      <td>0.000</td>\n",
       "      <td>0.737</td>\n",
       "      <td>0.263</td>\n",
       "    </tr>\n",
       "    <tr>\n",
       "      <th>3</th>\n",
       "      <td>0.3612</td>\n",
       "      <td>Are we ready for chatbots, the next technology...</td>\n",
       "      <td>0.000</td>\n",
       "      <td>0.762</td>\n",
       "      <td>0.238</td>\n",
       "    </tr>\n",
       "    <tr>\n",
       "      <th>4</th>\n",
       "      <td>-0.5994</td>\n",
       "      <td>Microsoft to cut 1,850 jobs at struggling smar...</td>\n",
       "      <td>0.412</td>\n",
       "      <td>0.588</td>\n",
       "      <td>0.000</td>\n",
       "    </tr>\n",
       "  </tbody>\n",
       "</table>\n",
       "</div>"
      ],
      "text/plain": [
       "   compound                                           headline    neg    neu  \\\n",
       "0    0.0772  Intel and Microsoft face different challenges ...  0.000  0.874   \n",
       "1    0.2500         Microsoft revenue, profit misses estimates  0.244  0.385   \n",
       "2    0.3612      Is India ready for the 'thinnest' laptop age?  0.000  0.737   \n",
       "3    0.3612  Are we ready for chatbots, the next technology...  0.000  0.762   \n",
       "4   -0.5994  Microsoft to cut 1,850 jobs at struggling smar...  0.412  0.588   \n",
       "\n",
       "     pos  \n",
       "0  0.126  \n",
       "1  0.372  \n",
       "2  0.263  \n",
       "3  0.238  \n",
       "4  0.000  "
      ]
     },
     "execution_count": 19,
     "metadata": {},
     "output_type": "execute_result"
    }
   ],
   "source": [
    "df123 = pd.DataFrame(results)\n",
    "#df123['publication_date'] = data['publication_date']\n",
    "#df123.Date = pd.to_datetime(df123.publication_date)\n",
    "#df123.set_index('publication_date', inplace=True)\n",
    "df123.head()"
   ]
  },
  {
   "cell_type": "code",
   "execution_count": 20,
   "metadata": {},
   "outputs": [
    {
     "name": "stdout",
     "output_type": "stream",
     "text": [
      "Microsoft revenue, profit misses estimates\n"
     ]
    }
   ],
   "source": [
    "print(df123['headline'][1])"
   ]
  },
  {
   "cell_type": "code",
   "execution_count": 21,
   "metadata": {
    "scrolled": false
   },
   "outputs": [
    {
     "data": {
      "text/html": [
       "<div>\n",
       "<style scoped>\n",
       "    .dataframe tbody tr th:only-of-type {\n",
       "        vertical-align: middle;\n",
       "    }\n",
       "\n",
       "    .dataframe tbody tr th {\n",
       "        vertical-align: top;\n",
       "    }\n",
       "\n",
       "    .dataframe thead th {\n",
       "        text-align: right;\n",
       "    }\n",
       "</style>\n",
       "<table border=\"1\" class=\"dataframe\">\n",
       "  <thead>\n",
       "    <tr style=\"text-align: right;\">\n",
       "      <th></th>\n",
       "      <th>compound</th>\n",
       "      <th>neg</th>\n",
       "      <th>neu</th>\n",
       "      <th>pos</th>\n",
       "    </tr>\n",
       "  </thead>\n",
       "  <tbody>\n",
       "    <tr>\n",
       "      <th>count</th>\n",
       "      <td>23199.000000</td>\n",
       "      <td>23199.000000</td>\n",
       "      <td>23199.000000</td>\n",
       "      <td>23199.000000</td>\n",
       "    </tr>\n",
       "    <tr>\n",
       "      <th>mean</th>\n",
       "      <td>0.089681</td>\n",
       "      <td>0.045922</td>\n",
       "      <td>0.850367</td>\n",
       "      <td>0.103712</td>\n",
       "    </tr>\n",
       "    <tr>\n",
       "      <th>std</th>\n",
       "      <td>0.300819</td>\n",
       "      <td>0.105076</td>\n",
       "      <td>0.166099</td>\n",
       "      <td>0.142722</td>\n",
       "    </tr>\n",
       "    <tr>\n",
       "      <th>min</th>\n",
       "      <td>-0.908100</td>\n",
       "      <td>0.000000</td>\n",
       "      <td>0.141000</td>\n",
       "      <td>0.000000</td>\n",
       "    </tr>\n",
       "    <tr>\n",
       "      <th>25%</th>\n",
       "      <td>0.000000</td>\n",
       "      <td>0.000000</td>\n",
       "      <td>0.729000</td>\n",
       "      <td>0.000000</td>\n",
       "    </tr>\n",
       "    <tr>\n",
       "      <th>50%</th>\n",
       "      <td>0.000000</td>\n",
       "      <td>0.000000</td>\n",
       "      <td>0.866000</td>\n",
       "      <td>0.000000</td>\n",
       "    </tr>\n",
       "    <tr>\n",
       "      <th>75%</th>\n",
       "      <td>0.318200</td>\n",
       "      <td>0.000000</td>\n",
       "      <td>1.000000</td>\n",
       "      <td>0.208000</td>\n",
       "    </tr>\n",
       "    <tr>\n",
       "      <th>max</th>\n",
       "      <td>0.908100</td>\n",
       "      <td>0.713000</td>\n",
       "      <td>1.000000</td>\n",
       "      <td>0.859000</td>\n",
       "    </tr>\n",
       "  </tbody>\n",
       "</table>\n",
       "</div>"
      ],
      "text/plain": [
       "           compound           neg           neu           pos\n",
       "count  23199.000000  23199.000000  23199.000000  23199.000000\n",
       "mean       0.089681      0.045922      0.850367      0.103712\n",
       "std        0.300819      0.105076      0.166099      0.142722\n",
       "min       -0.908100      0.000000      0.141000      0.000000\n",
       "25%        0.000000      0.000000      0.729000      0.000000\n",
       "50%        0.000000      0.000000      0.866000      0.000000\n",
       "75%        0.318200      0.000000      1.000000      0.208000\n",
       "max        0.908100      0.713000      1.000000      0.859000"
      ]
     },
     "execution_count": 21,
     "metadata": {},
     "output_type": "execute_result"
    }
   ],
   "source": [
    "df123.describe()"
   ]
  },
  {
   "cell_type": "code",
   "execution_count": 22,
   "metadata": {
    "scrolled": false
   },
   "outputs": [
    {
     "name": "stdout",
     "output_type": "stream",
     "text": [
      "<class 'pandas.core.frame.DataFrame'>\n",
      "RangeIndex: 23199 entries, 0 to 23198\n",
      "Data columns (total 5 columns):\n",
      "compound    23199 non-null float64\n",
      "headline    23199 non-null object\n",
      "neg         23199 non-null float64\n",
      "neu         23199 non-null float64\n",
      "pos         23199 non-null float64\n",
      "dtypes: float64(4), object(1)\n",
      "memory usage: 906.3+ KB\n"
     ]
    }
   ],
   "source": [
    "df123.info()"
   ]
  },
  {
   "cell_type": "code",
   "execution_count": 23,
   "metadata": {
    "scrolled": true
   },
   "outputs": [
    {
     "data": {
      "text/html": [
       "<div>\n",
       "<style scoped>\n",
       "    .dataframe tbody tr th:only-of-type {\n",
       "        vertical-align: middle;\n",
       "    }\n",
       "\n",
       "    .dataframe tbody tr th {\n",
       "        vertical-align: top;\n",
       "    }\n",
       "\n",
       "    .dataframe thead th {\n",
       "        text-align: right;\n",
       "    }\n",
       "</style>\n",
       "<table border=\"1\" class=\"dataframe\">\n",
       "  <thead>\n",
       "    <tr style=\"text-align: right;\">\n",
       "      <th></th>\n",
       "      <th>compound</th>\n",
       "      <th>headline</th>\n",
       "      <th>neg</th>\n",
       "      <th>neu</th>\n",
       "      <th>pos</th>\n",
       "      <th>label</th>\n",
       "    </tr>\n",
       "  </thead>\n",
       "  <tbody>\n",
       "    <tr>\n",
       "      <th>0</th>\n",
       "      <td>0.0772</td>\n",
       "      <td>Intel and Microsoft face different challenges ...</td>\n",
       "      <td>0.000</td>\n",
       "      <td>0.874</td>\n",
       "      <td>0.126</td>\n",
       "      <td>0</td>\n",
       "    </tr>\n",
       "    <tr>\n",
       "      <th>1</th>\n",
       "      <td>0.2500</td>\n",
       "      <td>Microsoft revenue, profit misses estimates</td>\n",
       "      <td>0.244</td>\n",
       "      <td>0.385</td>\n",
       "      <td>0.372</td>\n",
       "      <td>1</td>\n",
       "    </tr>\n",
       "    <tr>\n",
       "      <th>2</th>\n",
       "      <td>0.3612</td>\n",
       "      <td>Is India ready for the 'thinnest' laptop age?</td>\n",
       "      <td>0.000</td>\n",
       "      <td>0.737</td>\n",
       "      <td>0.263</td>\n",
       "      <td>1</td>\n",
       "    </tr>\n",
       "    <tr>\n",
       "      <th>3</th>\n",
       "      <td>0.3612</td>\n",
       "      <td>Are we ready for chatbots, the next technology...</td>\n",
       "      <td>0.000</td>\n",
       "      <td>0.762</td>\n",
       "      <td>0.238</td>\n",
       "      <td>1</td>\n",
       "    </tr>\n",
       "    <tr>\n",
       "      <th>4</th>\n",
       "      <td>-0.5994</td>\n",
       "      <td>Microsoft to cut 1,850 jobs at struggling smar...</td>\n",
       "      <td>0.412</td>\n",
       "      <td>0.588</td>\n",
       "      <td>0.000</td>\n",
       "      <td>-1</td>\n",
       "    </tr>\n",
       "  </tbody>\n",
       "</table>\n",
       "</div>"
      ],
      "text/plain": [
       "   compound                                           headline    neg    neu  \\\n",
       "0    0.0772  Intel and Microsoft face different challenges ...  0.000  0.874   \n",
       "1    0.2500         Microsoft revenue, profit misses estimates  0.244  0.385   \n",
       "2    0.3612      Is India ready for the 'thinnest' laptop age?  0.000  0.737   \n",
       "3    0.3612  Are we ready for chatbots, the next technology...  0.000  0.762   \n",
       "4   -0.5994  Microsoft to cut 1,850 jobs at struggling smar...  0.412  0.588   \n",
       "\n",
       "     pos  label  \n",
       "0  0.126      0  \n",
       "1  0.372      1  \n",
       "2  0.263      1  \n",
       "3  0.238      1  \n",
       "4  0.000     -1  "
      ]
     },
     "execution_count": 23,
     "metadata": {},
     "output_type": "execute_result"
    }
   ],
   "source": [
    "df123['label'] = 0\n",
    "df123.loc[df123['compound'] > 0.1, 'label'] = 1\n",
    "df123.loc[df123['compound'] < -0.1, 'label'] = -1\n",
    "df123.head()"
   ]
  },
  {
   "cell_type": "code",
   "execution_count": 24,
   "metadata": {},
   "outputs": [
    {
     "name": "stdout",
     "output_type": "stream",
     "text": [
      "Positive headlines:\n",
      "\n",
      "['Microsoft revenue, profit misses estimates', \"Is India ready for the 'thinnest' laptop age?\", 'Are we ready for chatbots, the next technology wave?', 'Microsoft showcases SaaS cloud solutions in India', 'SoftwareONE recognized as Winner for 2016 Microsoft Volume Licensing Partner']\n"
     ]
    }
   ],
   "source": [
    "print(\"Positive headlines:\\n\")\n",
    "print(list(df123[df123['label'] == 1].headline)[:5])\n"
   ]
  },
  {
   "cell_type": "code",
   "execution_count": 25,
   "metadata": {},
   "outputs": [
    {
     "name": "stdout",
     "output_type": "stream",
     "text": [
      "\n",
      "Negative headlines:\n",
      "\n",
      "['Microsoft to cut 1,850 jobs at struggling smartphone unit', 'All may not be lost for struggling Nokia, BlackBerry', 'France orders Microsoft to stop collecting excessive user data', \"Silicon Valley's Yahoo diaspora mourns company's decline\", \"The identity crisis that led to Yahoo's demise\"]\n"
     ]
    }
   ],
   "source": [
    "print(\"\\nNegative headlines:\\n\")\n",
    "print(list(df123[df123['label'] == -1].headline)[:5])"
   ]
  },
  {
   "cell_type": "code",
   "execution_count": 26,
   "metadata": {
    "scrolled": true
   },
   "outputs": [
    {
     "name": "stdout",
     "output_type": "stream",
     "text": [
      " 0    11652\n",
      " 1     8237\n",
      "-1     3310\n",
      "Name: label, dtype: int64\n",
      " 0    50.226303\n",
      " 1    35.505841\n",
      "-1    14.267856\n",
      "Name: label, dtype: float64\n"
     ]
    }
   ],
   "source": [
    "print(df123.label.value_counts())\n",
    "\n",
    "print(df123.label.value_counts(normalize=True) * 100)"
   ]
  },
  {
   "cell_type": "code",
   "execution_count": 27,
   "metadata": {
    "scrolled": true
   },
   "outputs": [
    {
     "data": {
      "image/png": "[encoded data removed]",
      "text/plain": [
       "<Figure size 576x576 with 1 Axes>"
      ]
     },
     "metadata": {},
     "output_type": "display_data"
    }
   ],
   "source": [
    "import seaborn as sns\n",
    "fig, ax = plt.subplots(figsize=(8, 8))\n",
    "\n",
    "counts = df123.label.value_counts(normalize=True) * 100\n",
    "\n",
    "sns.barplot(x=counts.index, y=counts, ax=ax)\n",
    "\n",
    "ax.set_xticklabels(['Negative', 'Neutral', 'Positive'])\n",
    "ax.set_ylabel(\"Percentage\")\n",
    "\n",
    "plt.show()"
   ]
  },
  {
   "cell_type": "code",
   "execution_count": 28,
   "metadata": {},
   "outputs": [
    {
     "name": "stderr",
     "output_type": "stream",
     "text": [
      "/anaconda3/lib/python3.6/site-packages/matplotlib/axes/_axes.py:6462: UserWarning: The 'normed' kwarg is deprecated, and has been replaced by the 'density' kwarg.\n",
      "  warnings.warn(\"The 'normed' kwarg is deprecated, and has been \"\n"
     ]
    },
    {
     "data": {
      "text/plain": [
       "Text(0,0.5,'Count')"
      ]
     },
     "execution_count": 28,
     "metadata": {},
     "output_type": "execute_result"
    },
    {
     "data": {
      "image/png": "[encoded data removed]",
      "text/plain": [
       "<Figure size 432x288 with 1 Axes>"
      ]
     },
     "metadata": {},
     "output_type": "display_data"
    }
   ],
   "source": [
    "\n",
    "# seaborn histogram\n",
    "sns.distplot(df123['compound'], hist=True, kde=False, \n",
    "             bins=int(180/5), color = 'blue',\n",
    "             hist_kws={'edgecolor':'black'})\n",
    "# Add labels\n",
    "plt.title('Histogram of Compound Sentiment')\n",
    "plt.xlabel('Score')\n",
    "plt.ylabel('Count')"
   ]
  },
  {
   "cell_type": "code",
   "execution_count": 29,
   "metadata": {
    "scrolled": true
   },
   "outputs": [],
   "source": [
    "#https://github.com/llSourcell/Stock_Market_Prediction/blob/master/Generating%20Different%20Models.ipynb\n",
    "#import numpy as np\n",
    "#import pandas as pd\n",
    "#from nltk.classify import NaiveBayesClassifier\n",
    "#from nltk.corpus import subjectivity\n",
    "#from nltk.sentiment import SentimentAnalyzer\n",
    "#from nltk.sentiment.util import *\n",
    "#import nltk\n",
    "#nltk.downloader.download('vader_lexicon')\n",
    "\n",
    "#sentence = 'paris shootout police officer suspected guman dead'\n",
    "#from nltk.sentiment.vader import SentimentIntensityAnalyzer\n",
    "#import unicodedata\n",
    "#sid = SentimentIntensityAnalyzer()\n",
    "#ss = sid.polarity_scores(sentence)\n",
    "#ss"
   ]
  },
  {
   "cell_type": "code",
   "execution_count": 30,
   "metadata": {},
   "outputs": [
    {
     "data": {
      "text/html": [
       "<div>\n",
       "<style scoped>\n",
       "    .dataframe tbody tr th:only-of-type {\n",
       "        vertical-align: middle;\n",
       "    }\n",
       "\n",
       "    .dataframe tbody tr th {\n",
       "        vertical-align: top;\n",
       "    }\n",
       "\n",
       "    .dataframe thead th {\n",
       "        text-align: right;\n",
       "    }\n",
       "</style>\n",
       "<table border=\"1\" class=\"dataframe\">\n",
       "  <thead>\n",
       "    <tr style=\"text-align: right;\">\n",
       "      <th></th>\n",
       "      <th>compound</th>\n",
       "      <th>headline</th>\n",
       "      <th>neg</th>\n",
       "      <th>neu</th>\n",
       "      <th>pos</th>\n",
       "      <th>label</th>\n",
       "    </tr>\n",
       "    <tr>\n",
       "      <th>publication_date</th>\n",
       "      <th></th>\n",
       "      <th></th>\n",
       "      <th></th>\n",
       "      <th></th>\n",
       "      <th></th>\n",
       "      <th></th>\n",
       "    </tr>\n",
       "  </thead>\n",
       "  <tbody>\n",
       "    <tr>\n",
       "      <th>2016-04-22 01:05:08</th>\n",
       "      <td>0.0772</td>\n",
       "      <td>Intel and Microsoft face different challenges ...</td>\n",
       "      <td>0.000</td>\n",
       "      <td>0.874</td>\n",
       "      <td>0.126</td>\n",
       "      <td>0</td>\n",
       "    </tr>\n",
       "    <tr>\n",
       "      <th>2016-04-22 02:18:28</th>\n",
       "      <td>0.2500</td>\n",
       "      <td>Microsoft revenue, profit misses estimates</td>\n",
       "      <td>0.244</td>\n",
       "      <td>0.385</td>\n",
       "      <td>0.372</td>\n",
       "      <td>1</td>\n",
       "    </tr>\n",
       "    <tr>\n",
       "      <th>2016-04-27 07:36:08</th>\n",
       "      <td>0.3612</td>\n",
       "      <td>Is India ready for the 'thinnest' laptop age?</td>\n",
       "      <td>0.000</td>\n",
       "      <td>0.737</td>\n",
       "      <td>0.263</td>\n",
       "      <td>1</td>\n",
       "    </tr>\n",
       "    <tr>\n",
       "      <th>2016-05-11 06:32:13</th>\n",
       "      <td>0.3612</td>\n",
       "      <td>Are we ready for chatbots, the next technology...</td>\n",
       "      <td>0.000</td>\n",
       "      <td>0.762</td>\n",
       "      <td>0.238</td>\n",
       "      <td>1</td>\n",
       "    </tr>\n",
       "    <tr>\n",
       "      <th>2016-05-25 21:13:59</th>\n",
       "      <td>-0.5994</td>\n",
       "      <td>Microsoft to cut 1,850 jobs at struggling smar...</td>\n",
       "      <td>0.412</td>\n",
       "      <td>0.588</td>\n",
       "      <td>0.000</td>\n",
       "      <td>-1</td>\n",
       "    </tr>\n",
       "  </tbody>\n",
       "</table>\n",
       "</div>"
      ],
      "text/plain": [
       "                     compound  \\\n",
       "publication_date                \n",
       "2016-04-22 01:05:08    0.0772   \n",
       "2016-04-22 02:18:28    0.2500   \n",
       "2016-04-27 07:36:08    0.3612   \n",
       "2016-05-11 06:32:13    0.3612   \n",
       "2016-05-25 21:13:59   -0.5994   \n",
       "\n",
       "                                                              headline    neg  \\\n",
       "publication_date                                                                \n",
       "2016-04-22 01:05:08  Intel and Microsoft face different challenges ...  0.000   \n",
       "2016-04-22 02:18:28         Microsoft revenue, profit misses estimates  0.244   \n",
       "2016-04-27 07:36:08      Is India ready for the 'thinnest' laptop age?  0.000   \n",
       "2016-05-11 06:32:13  Are we ready for chatbots, the next technology...  0.000   \n",
       "2016-05-25 21:13:59  Microsoft to cut 1,850 jobs at struggling smar...  0.412   \n",
       "\n",
       "                       neu    pos  label  \n",
       "publication_date                          \n",
       "2016-04-22 01:05:08  0.874  0.126      0  \n",
       "2016-04-22 02:18:28  0.385  0.372      1  \n",
       "2016-04-27 07:36:08  0.737  0.263      1  \n",
       "2016-05-11 06:32:13  0.762  0.238      1  \n",
       "2016-05-25 21:13:59  0.588  0.000     -1  "
      ]
     },
     "execution_count": 30,
     "metadata": {},
     "output_type": "execute_result"
    }
   ],
   "source": [
    "df123.index =data['publication_date']\n",
    "df123.head()"
   ]
  },
  {
   "cell_type": "code",
   "execution_count": 31,
   "metadata": {},
   "outputs": [],
   "source": [
    "df123.to_csv('MSFT_sent_news.csv')"
   ]
  },
  {
   "cell_type": "code",
   "execution_count": null,
   "metadata": {},
   "outputs": [],
   "source": []
  }
 ],
 "metadata": {
  "kernelspec": {
   "display_name": "Python 3",
   "language": "python",
   "name": "python3"
  },
  "language_info": {
   "codemirror_mode": {
    "name": "ipython",
    "version": 3
   },
   "file_extension": ".py",
   "mimetype": "text/x-python",
   "name": "python",
   "nbconvert_exporter": "python",
   "pygments_lexer": "ipython3",
   "version": "3.6.5"
  }
 },
 "nbformat": 4,
 "nbformat_minor": 2
}
