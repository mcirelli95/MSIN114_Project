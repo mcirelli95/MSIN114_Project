{
 "cells": [
  {
   "cell_type": "code",
   "execution_count": 90,
   "metadata": {},
   "outputs": [],
   "source": [
    "import pandas as pd\n",
    "import matplotlib.pyplot as plt\n",
    "import numpy as np\n",
    "import seaborn as sns\n",
    "from sklearn.feature_extraction.text import CountVectorizer\n",
    "from sklearn.linear_model import LogisticRegression\n",
    "from sklearn import preprocessing\n",
    "from nltk.sentiment.vader import SentimentIntensityAnalyzer as SIA\n",
    "import math\n",
    "import pprint\n",
    "from sklearn import preprocessing\n",
    "import re"
   ]
  },
  {
   "cell_type": "code",
   "execution_count": 91,
   "metadata": {},
   "outputs": [
    {
     "name": "stdout",
     "output_type": "stream",
     "text": [
      "[nltk_data] Downloading package punkt to\n",
      "[nltk_data]     /Users/mattcirelli/nltk_data...\n",
      "[nltk_data]   Package punkt is already up-to-date!\n"
     ]
    }
   ],
   "source": [
    "from vaderSentiment.vaderSentiment import SentimentIntensityAnalyzer\n",
    "from nltk.tokenize import RegexpTokenizer, sent_tokenize\n",
    "import nltk\n",
    "nltk.download('punkt')\n",
    "from nltk import word_tokenize\n",
    "\n",
    "sia = SentimentIntensityAnalyzer()"
   ]
  },
  {
   "cell_type": "code",
   "execution_count": 92,
   "metadata": {},
   "outputs": [],
   "source": [
    "# Update SIA with Loughran McDonald Dictionary\n",
    "\n",
    "import csv\n",
    "import pandas as pd\n",
    "\n",
    "# stock market lexicon\n",
    "stock_lex = pd.read_csv('stock_lex.csv')\n",
    "\n",
    "stock_lex['sentiment'] = (stock_lex['Aff_Score'] + stock_lex['Neg_Score'])/2\n",
    "stock_lex = dict(zip(stock_lex.Item, stock_lex.sentiment))\n",
    "stock_lex = {k:v for k,v in stock_lex.items() if len(k.split(' '))==1}\n",
    "stock_lex_scaled = {}\n",
    "for k, v in stock_lex.items():\n",
    "    if v > 0:\n",
    "        stock_lex_scaled[k] = v / max(stock_lex.values()) * 4\n",
    "    else:\n",
    "        stock_lex_scaled[k] = v / min(stock_lex.values()) * -4\n",
    "\n",
    "#update the positive and negative dictionaries\n",
    "positive = []\n",
    "reader = csv.reader('lm_positive.csv')\n",
    "for row in reader:\n",
    "    positive.append(row[0].strip())\n",
    "    \n",
    "negative = []\n",
    "reader = csv.reader('lm_negative.csv')\n",
    "for row in reader:\n",
    "    entry = row[0].strip().split(\" \")\n",
    "    if len(entry) > 1:\n",
    "        negative.extend(entry)\n",
    "    else:\n",
    "        negative.append(entry[0])\n",
    "\n",
    "final_lex = {}\n",
    "final_lex.update({word:2.0 for word in positive})\n",
    "final_lex.update({word:-2.0 for word in negative})\n",
    "final_lex.update(stock_lex_scaled)\n",
    "final_lex.update(sia.lexicon)\n",
    "sia.lexicon = final_lex"
   ]
  },
  {
   "cell_type": "code",
   "execution_count": 120,
   "metadata": {},
   "outputs": [],
   "source": [
    "data = pd.read_csv('apple_news.csv')"
   ]
  },
  {
   "cell_type": "code",
   "execution_count": 121,
   "metadata": {
    "scrolled": false
   },
   "outputs": [
    {
     "data": {
      "text/html": [
       "<div>\n",
       "<style scoped>\n",
       "    .dataframe tbody tr th:only-of-type {\n",
       "        vertical-align: middle;\n",
       "    }\n",
       "\n",
       "    .dataframe tbody tr th {\n",
       "        vertical-align: top;\n",
       "    }\n",
       "\n",
       "    .dataframe thead th {\n",
       "        text-align: right;\n",
       "    }\n",
       "</style>\n",
       "<table border=\"1\" class=\"dataframe\">\n",
       "  <thead>\n",
       "    <tr style=\"text-align: right;\">\n",
       "      <th></th>\n",
       "      <th>Unnamed: 0</th>\n",
       "      <th>company</th>\n",
       "      <th>id</th>\n",
       "      <th>publication_date</th>\n",
       "      <th>summary</th>\n",
       "      <th>title</th>\n",
       "      <th>url</th>\n",
       "    </tr>\n",
       "  </thead>\n",
       "  <tbody>\n",
       "    <tr>\n",
       "      <th>0</th>\n",
       "      <td>0</td>\n",
       "      <td>NaN</td>\n",
       "      <td>nws_WOko10</td>\n",
       "      <td>2019-08-07 01:00:56+00:00</td>\n",
       "      <td>Fortnite is the most popular battle-royale gam...</td>\n",
       "      <td>How Does Fortnite Make Money: Online Gaming, e...</td>\n",
       "      <td>https://finance.yahoo.com/m/415d0b04-cbf2-3434...</td>\n",
       "    </tr>\n",
       "    <tr>\n",
       "      <th>1</th>\n",
       "      <td>1</td>\n",
       "      <td>NaN</td>\n",
       "      <td>nws_DkpvDv</td>\n",
       "      <td>2019-08-06 23:43:11+00:00</td>\n",
       "      <td>Walmart (WMT) looks strong heading into the re...</td>\n",
       "      <td>Why Walmart (WMT) Stock Looks Like a Buy Ahead...</td>\n",
       "      <td>https://finance.yahoo.com/news/why-walmart-wmt...</td>\n",
       "    </tr>\n",
       "    <tr>\n",
       "      <th>2</th>\n",
       "      <td>2</td>\n",
       "      <td>NaN</td>\n",
       "      <td>nws_WOko7Y</td>\n",
       "      <td>2019-08-06 22:56:16+00:00</td>\n",
       "      <td>(Bloomberg) -- Amazon.com Inc., Facebook Inc. ...</td>\n",
       "      <td>Amazon, Facebook, Google Defend Practices Amid...</td>\n",
       "      <td>https://finance.yahoo.com/news/amazon-defends-...</td>\n",
       "    </tr>\n",
       "    <tr>\n",
       "      <th>3</th>\n",
       "      <td>3</td>\n",
       "      <td>NaN</td>\n",
       "      <td>nws_jv3p4w</td>\n",
       "      <td>2019-08-06 22:12:00+00:00</td>\n",
       "      <td>After much anticipation, Apple is finally rele...</td>\n",
       "      <td>Here’s everything Apple isn’t telling you abou...</td>\n",
       "      <td>https://finance.yahoo.com/m/38765c24-aaf5-3971...</td>\n",
       "    </tr>\n",
       "    <tr>\n",
       "      <th>4</th>\n",
       "      <td>4</td>\n",
       "      <td>NaN</td>\n",
       "      <td>nws_LJW57O</td>\n",
       "      <td>2019-08-06 21:49:00+00:00</td>\n",
       "      <td>The calling feature in the apps runs in the ba...</td>\n",
       "      <td>Apple to restrict Facebook's messaging apps fe...</td>\n",
       "      <td>https://finance.yahoo.com/news/apple-restrict-...</td>\n",
       "    </tr>\n",
       "  </tbody>\n",
       "</table>\n",
       "</div>"
      ],
      "text/plain": [
       "   Unnamed: 0  company          id           publication_date  \\\n",
       "0           0      NaN  nws_WOko10  2019-08-07 01:00:56+00:00   \n",
       "1           1      NaN  nws_DkpvDv  2019-08-06 23:43:11+00:00   \n",
       "2           2      NaN  nws_WOko7Y  2019-08-06 22:56:16+00:00   \n",
       "3           3      NaN  nws_jv3p4w  2019-08-06 22:12:00+00:00   \n",
       "4           4      NaN  nws_LJW57O  2019-08-06 21:49:00+00:00   \n",
       "\n",
       "                                             summary  \\\n",
       "0  Fortnite is the most popular battle-royale gam...   \n",
       "1  Walmart (WMT) looks strong heading into the re...   \n",
       "2  (Bloomberg) -- Amazon.com Inc., Facebook Inc. ...   \n",
       "3  After much anticipation, Apple is finally rele...   \n",
       "4  The calling feature in the apps runs in the ba...   \n",
       "\n",
       "                                               title  \\\n",
       "0  How Does Fortnite Make Money: Online Gaming, e...   \n",
       "1  Why Walmart (WMT) Stock Looks Like a Buy Ahead...   \n",
       "2  Amazon, Facebook, Google Defend Practices Amid...   \n",
       "3  Here’s everything Apple isn’t telling you abou...   \n",
       "4  Apple to restrict Facebook's messaging apps fe...   \n",
       "\n",
       "                                                 url  \n",
       "0  https://finance.yahoo.com/m/415d0b04-cbf2-3434...  \n",
       "1  https://finance.yahoo.com/news/why-walmart-wmt...  \n",
       "2  https://finance.yahoo.com/news/amazon-defends-...  \n",
       "3  https://finance.yahoo.com/m/38765c24-aaf5-3971...  \n",
       "4  https://finance.yahoo.com/news/apple-restrict-...  "
      ]
     },
     "execution_count": 121,
     "metadata": {},
     "output_type": "execute_result"
    }
   ],
   "source": [
    "data.head()"
   ]
  },
  {
   "cell_type": "code",
   "execution_count": 122,
   "metadata": {},
   "outputs": [],
   "source": [
    "data['publication_date']=pd.to_datetime(data.publication_date,format='%Y-%m-%d')\n",
    "data.index =data['publication_date']\n"
   ]
  },
  {
   "cell_type": "code",
   "execution_count": 123,
   "metadata": {
    "scrolled": true
   },
   "outputs": [
    {
     "name": "stdout",
     "output_type": "stream",
     "text": [
      "<class 'pandas.core.frame.DataFrame'>\n",
      "DatetimeIndex: 67550 entries, 2019-08-07 01:00:56 to 2016-05-24 00:17:38\n",
      "Data columns (total 7 columns):\n",
      "Unnamed: 0          67550 non-null int64\n",
      "company             0 non-null float64\n",
      "id                  67550 non-null object\n",
      "publication_date    67550 non-null datetime64[ns]\n",
      "summary             67534 non-null object\n",
      "title               67550 non-null object\n",
      "url                 67549 non-null object\n",
      "dtypes: datetime64[ns](1), float64(1), int64(1), object(4)\n",
      "memory usage: 4.1+ MB\n"
     ]
    }
   ],
   "source": [
    "data.info()"
   ]
  },
  {
   "cell_type": "code",
   "execution_count": 124,
   "metadata": {},
   "outputs": [
    {
     "data": {
      "text/html": [
       "<div>\n",
       "<style scoped>\n",
       "    .dataframe tbody tr th:only-of-type {\n",
       "        vertical-align: middle;\n",
       "    }\n",
       "\n",
       "    .dataframe tbody tr th {\n",
       "        vertical-align: top;\n",
       "    }\n",
       "\n",
       "    .dataframe thead th {\n",
       "        text-align: right;\n",
       "    }\n",
       "</style>\n",
       "<table border=\"1\" class=\"dataframe\">\n",
       "  <thead>\n",
       "    <tr style=\"text-align: right;\">\n",
       "      <th></th>\n",
       "      <th>Unnamed: 0</th>\n",
       "      <th>company</th>\n",
       "      <th>id</th>\n",
       "      <th>publication_date</th>\n",
       "      <th>summary</th>\n",
       "      <th>title</th>\n",
       "      <th>url</th>\n",
       "    </tr>\n",
       "    <tr>\n",
       "      <th>publication_date</th>\n",
       "      <th></th>\n",
       "      <th></th>\n",
       "      <th></th>\n",
       "      <th></th>\n",
       "      <th></th>\n",
       "      <th></th>\n",
       "      <th></th>\n",
       "    </tr>\n",
       "  </thead>\n",
       "  <tbody>\n",
       "    <tr>\n",
       "      <th>2019-08-07 01:00:56</th>\n",
       "      <td>0</td>\n",
       "      <td>NaN</td>\n",
       "      <td>nws_WOko10</td>\n",
       "      <td>2019-08-07 01:00:56</td>\n",
       "      <td>Fortnite is the most popular battle-royale gam...</td>\n",
       "      <td>How Does Fortnite Make Money: Online Gaming, e...</td>\n",
       "      <td>https://finance.yahoo.com/m/415d0b04-cbf2-3434...</td>\n",
       "    </tr>\n",
       "    <tr>\n",
       "      <th>2019-08-06 23:43:11</th>\n",
       "      <td>1</td>\n",
       "      <td>NaN</td>\n",
       "      <td>nws_DkpvDv</td>\n",
       "      <td>2019-08-06 23:43:11</td>\n",
       "      <td>Walmart (WMT) looks strong heading into the re...</td>\n",
       "      <td>Why Walmart (WMT) Stock Looks Like a Buy Ahead...</td>\n",
       "      <td>https://finance.yahoo.com/news/why-walmart-wmt...</td>\n",
       "    </tr>\n",
       "    <tr>\n",
       "      <th>2019-08-06 22:56:16</th>\n",
       "      <td>2</td>\n",
       "      <td>NaN</td>\n",
       "      <td>nws_WOko7Y</td>\n",
       "      <td>2019-08-06 22:56:16</td>\n",
       "      <td>(Bloomberg) -- Amazon.com Inc., Facebook Inc. ...</td>\n",
       "      <td>Amazon, Facebook, Google Defend Practices Amid...</td>\n",
       "      <td>https://finance.yahoo.com/news/amazon-defends-...</td>\n",
       "    </tr>\n",
       "    <tr>\n",
       "      <th>2019-08-06 22:12:00</th>\n",
       "      <td>3</td>\n",
       "      <td>NaN</td>\n",
       "      <td>nws_jv3p4w</td>\n",
       "      <td>2019-08-06 22:12:00</td>\n",
       "      <td>After much anticipation, Apple is finally rele...</td>\n",
       "      <td>Here’s everything Apple isn’t telling you abou...</td>\n",
       "      <td>https://finance.yahoo.com/m/38765c24-aaf5-3971...</td>\n",
       "    </tr>\n",
       "    <tr>\n",
       "      <th>2019-08-06 21:49:00</th>\n",
       "      <td>4</td>\n",
       "      <td>NaN</td>\n",
       "      <td>nws_LJW57O</td>\n",
       "      <td>2019-08-06 21:49:00</td>\n",
       "      <td>The calling feature in the apps runs in the ba...</td>\n",
       "      <td>Apple to restrict Facebook's messaging apps fe...</td>\n",
       "      <td>https://finance.yahoo.com/news/apple-restrict-...</td>\n",
       "    </tr>\n",
       "  </tbody>\n",
       "</table>\n",
       "</div>"
      ],
      "text/plain": [
       "                     Unnamed: 0  company          id    publication_date  \\\n",
       "publication_date                                                           \n",
       "2019-08-07 01:00:56           0      NaN  nws_WOko10 2019-08-07 01:00:56   \n",
       "2019-08-06 23:43:11           1      NaN  nws_DkpvDv 2019-08-06 23:43:11   \n",
       "2019-08-06 22:56:16           2      NaN  nws_WOko7Y 2019-08-06 22:56:16   \n",
       "2019-08-06 22:12:00           3      NaN  nws_jv3p4w 2019-08-06 22:12:00   \n",
       "2019-08-06 21:49:00           4      NaN  nws_LJW57O 2019-08-06 21:49:00   \n",
       "\n",
       "                                                               summary  \\\n",
       "publication_date                                                         \n",
       "2019-08-07 01:00:56  Fortnite is the most popular battle-royale gam...   \n",
       "2019-08-06 23:43:11  Walmart (WMT) looks strong heading into the re...   \n",
       "2019-08-06 22:56:16  (Bloomberg) -- Amazon.com Inc., Facebook Inc. ...   \n",
       "2019-08-06 22:12:00  After much anticipation, Apple is finally rele...   \n",
       "2019-08-06 21:49:00  The calling feature in the apps runs in the ba...   \n",
       "\n",
       "                                                                 title  \\\n",
       "publication_date                                                         \n",
       "2019-08-07 01:00:56  How Does Fortnite Make Money: Online Gaming, e...   \n",
       "2019-08-06 23:43:11  Why Walmart (WMT) Stock Looks Like a Buy Ahead...   \n",
       "2019-08-06 22:56:16  Amazon, Facebook, Google Defend Practices Amid...   \n",
       "2019-08-06 22:12:00  Here’s everything Apple isn’t telling you abou...   \n",
       "2019-08-06 21:49:00  Apple to restrict Facebook's messaging apps fe...   \n",
       "\n",
       "                                                                   url  \n",
       "publication_date                                                        \n",
       "2019-08-07 01:00:56  https://finance.yahoo.com/m/415d0b04-cbf2-3434...  \n",
       "2019-08-06 23:43:11  https://finance.yahoo.com/news/why-walmart-wmt...  \n",
       "2019-08-06 22:56:16  https://finance.yahoo.com/news/amazon-defends-...  \n",
       "2019-08-06 22:12:00  https://finance.yahoo.com/m/38765c24-aaf5-3971...  \n",
       "2019-08-06 21:49:00  https://finance.yahoo.com/news/apple-restrict-...  "
      ]
     },
     "execution_count": 124,
     "metadata": {},
     "output_type": "execute_result"
    }
   ],
   "source": [
    "data.head()"
   ]
  },
  {
   "cell_type": "code",
   "execution_count": 125,
   "metadata": {},
   "outputs": [
    {
     "data": {
      "text/plain": [
       "\"publication_date\\n2019-08-07 01:00:56    Fortnite is the most popular battle-royale gam...\\n2019-08-06 23:43:11    Walmart (WMT) looks strong heading into the re...\\n2019-08-06 22:56:16    (Bloomberg) -- Amazon.com Inc., Facebook Inc. ...\\n2019-08-06 22:12:00    After much anticipation, Apple is finally rele...\\n2019-08-06 21:49:00    The calling feature in the apps runs in the ba...\\n2019-08-06 20:56:00    Apple Inc.  subsidiary FileMaker Inc. has a ne...\\n2019-08-06 20:34:10    The stock market today rebounded after sufferi...\\n2019-08-06 20:24:00    The stock market has been volatile, causing co...\\n2019-08-06 20:23:30    Guru's largest sales of the 2nd quarter Contin...\\n2019-08-06 20:16:00    The Apple credit card designed primarily for m...\\n2019-08-06 20:13:32    Remembering the old adage about stocks falling...\\n2019-08-06 18:23:06    On today's episode of Free Lunch here at Zacks...\\n2019-08-06 18:14:02    Every time the stock market dips -- even sligh...\\n2019-08-06 18:04:44    Like usual, Comcast (NASDAQ:CMCSA) stock deliv...\\n2019-08-06 17:56:42    Leading the Apple (NASDAQ:AAPL) rumor mill tod...\\n2019-08-06 16:32:17    The Apple Card is available. The first group o...\\n2019-08-06 16:24:14    Recently, citing &quot;global developments&quo...\\n2019-08-06 16:10:32    (Bloomberg) -- As tropical storm Barry roared ...\\n2019-08-06 15:28:00    It's unlikely the DoJ or FTC will implement an...\\n2019-08-06 15:02:43    Apple plans to use Qualcomm’s (QCOM) ultrasoni...\\n2019-08-06 14:42:35    FileMaker — the Apple software subsidiary once...\\n2019-08-06 14:39:00    Watch for ripple effects on the price of every...\\n2019-08-06 14:28:02      China Arrests Yuan's Plunge. Will Markets Gain?\\n2019-08-06 14:07:02    Benchmarks fell to their lowest levels for the...\\n2019-08-06 14:04:31    The unit known as FileMaker, whose tools help ...\\n2019-08-06 13:53:01    U.S. stock index futures rebounded strongly ah...\\n2019-08-06 13:31:00    U.S. stocks attempted a rebound Tuesday after ...\\n2019-08-06 13:24:09    Editor's Note: This article was updated on Aug...\\n2019-08-06 13:14:49    Apple Inc and Goldman Sachs Group Inc rolled o...\\n2019-08-06 12:58:00    Apple was one of the biggest decliners in Mond...\\n                                             ...                        \\n2016-08-01 06:05:16    Tech vs biotech: Is AstraZeneca plc or Apple I...\\n2016-07-28 20:29:00    US STOCKS-Wall St edges up; Alphabet and Amazo...\\n2016-07-28 16:30:09    Samsung extends lead over Apple in smartphone ...\\n2016-07-28 15:58:07    [at noodls] - SAN ANTONIO, July 28, 2016 (GLOB...\\n2016-07-28 13:04:00    [Business Wire] - TAIPEI, Taiwan--(BUSINESSWIR...\\n2016-07-28 06:30:09    [AFP] - Samsung extended its lead in the globa...\\n2016-07-28 01:42:30             Smartphone sales drive Samsung Q2 profit\\n2016-07-27 22:09:17    [AAP] - ANZ has been accused by its big four r...\\n2016-07-27 22:04:25        Apple says one billion iPhones have been sold\\n2016-07-27 12:04:25    [AFP] - Apple announced Wednesday the sale of ...\\n2016-07-27 09:19:02    [AAP] - ANZ has been accused by its big four r...\\n2016-07-27 06:08:00           Apple iPhone Sales Fall For Second Quarter\\n2016-07-27 02:50:48    Apple sells more iPhones than expected, shares...\\n2016-07-26 21:45:11    [AAP] - Apple Inc's iPhone sales fell for the ...\\n2016-07-26 20:38:06    [at noodls] - View a mobile-optimized version ...\\n2016-07-26 12:36:43    [AFP] - With iPhone sales and profits sliding,...\\n2016-07-26 10:53:54    [AFP] - Apple said Tuesday its quarterly profi...\\n2016-07-22 19:41:54    Silicon Valley leads avalanche of quarterly re...\\n2016-07-21 18:04:52            Pokemon Go seen making billions for Apple\\n2016-07-18 18:18:18    Japan's Son chased $32 billion ARM deal by the...\\n2016-07-15 06:58:29    S&P 500's record highs held back by Apple's fa...\\n2016-06-23 10:22:07    High-end smartphone market set to grow in Indi...\\n2016-06-22 03:12:40    Samsung takes fight to Apple with mobile walle...\\n2016-06-20 12:40:46    India opens the door for Apple retail with new...\\n2016-06-02 20:16:42     S&P 500 closes at seven-month high on data boost\\n2016-06-01 08:29:12    Apple plans to sell $1 bln of 30-yr bonds in T...\\n2016-05-30 17:05:39    India discussing Apple's request for FDI rules...\\n2016-05-25 17:48:27    India says Apple must sell locally-sourced goo...\\n2016-05-24 08:42:12    More challenges than cheer for Apple chief on ...\\n2016-05-24 00:17:38    Wall Street dips; Apple gain fails to offset r...\\nName: summary, Length: 67550, dtype: object\""
      ]
     },
     "execution_count": 125,
     "metadata": {},
     "output_type": "execute_result"
    }
   ],
   "source": [
    "str(data[\"summary\"])"
   ]
  },
  {
   "cell_type": "code",
   "execution_count": 126,
   "metadata": {},
   "outputs": [
    {
     "name": "stderr",
     "output_type": "stream",
     "text": [
      "/anaconda3/lib/python3.6/site-packages/ipykernel_launcher.py:3: FutureWarning: 'publication_date' is both an index level and a column label.\n",
      "Defaulting to column, but this will raise an ambiguity error in a future version\n",
      "  This is separate from the ipykernel package so we can avoid doing imports until\n"
     ]
    }
   ],
   "source": [
    "#drop any duplicated headlines\n",
    "data = data.sort_values(['summary']).drop_duplicates(subset='title')\n",
    "data = data.sort_values(['publication_date'])"
   ]
  },
  {
   "cell_type": "code",
   "execution_count": 127,
   "metadata": {},
   "outputs": [],
   "source": [
    "# Concatenate all news into one\n",
    "#data[\"summary\"] = data.filter(regex=(\"Top.*\")).apply(lambda x: ''.join(str(x.values)), axis=1)"
   ]
  },
  {
   "cell_type": "code",
   "execution_count": 128,
   "metadata": {
    "scrolled": true
   },
   "outputs": [
    {
     "name": "stdout",
     "output_type": "stream",
     "text": [
      "['More', 'challenges', 'than', 'cheer', 'for', 'Apple', 'chief', 'on', 'Asia', 'tour']\n"
     ]
    }
   ],
   "source": [
    "#Tokenize Words Data \n",
    "text=data[\"summary\"][1]\n",
    "from nltk.tokenize import word_tokenize\n",
    "tokenized_word=word_tokenize(text)\n",
    "print(tokenized_word)"
   ]
  },
  {
   "cell_type": "code",
   "execution_count": 129,
   "metadata": {},
   "outputs": [
    {
     "name": "stdout",
     "output_type": "stream",
     "text": [
      "['More challenges than cheer for Apple chief on Asia tour']\n"
     ]
    }
   ],
   "source": [
    "##Tokenize Sentences Data\n",
    "from nltk.tokenize import sent_tokenize\n",
    "tokenized_text=sent_tokenize(text)\n",
    "print(tokenized_text)"
   ]
  },
  {
   "cell_type": "code",
   "execution_count": 130,
   "metadata": {
    "scrolled": true
   },
   "outputs": [
    {
     "name": "stdout",
     "output_type": "stream",
     "text": [
      "{'having', 'further', 'there', \"that'll\", 'too', 'until', 'm', 'after', 'because', 'they', 'more', 'won', \"hadn't\", 'same', \"didn't\", \"isn't\", 'wouldn', 'can', \"haven't\", 'how', 'once', 'are', 'which', \"mightn't\", 'couldn', 'both', 'through', 'doesn', \"needn't\", 'from', \"it's\", 'mightn', 'you', \"wouldn't\", 'theirs', 'during', \"shan't\", 'before', 'who', 'them', 'aren', 'each', 'myself', 'we', 'were', 'only', \"hasn't\", 'she', 'while', 'needn', 'shan', \"doesn't\", 'had', 'ours', \"you'd\", 'have', 'just', 'your', 'up', 'weren', 'any', 'hasn', 'where', 'is', 'didn', 'was', 'ma', 'do', 'ourselves', \"you've\", 'its', 'll', 'haven', 'being', 'i', 'doing', \"you'll\", 'a', 'am', 'under', 'shouldn', 'wasn', 'my', \"weren't\", 'into', 'if', 'it', \"she's\", 'itself', 'few', \"mustn't\", \"wasn't\", 'on', 'those', 'than', 'as', 'nor', 'his', 'yours', 'themselves', 'out', 'some', 'be', 're', 'the', 'about', 'and', 'should', 'hadn', 'between', 'below', 'then', \"won't\", 'hers', 'what', 'himself', 'isn', 'an', \"aren't\", 've', 'against', 'yourself', 'he', 'off', 'now', 'been', 'y', 'such', \"don't\", 'ain', 'or', 's', 'with', 'him', 'most', 'me', 'by', 'o', 'in', \"you're\", 'd', 'does', 'will', 'so', 'at', 't', 'did', 'their', \"couldn't\", 'for', \"should've\", 'own', 'very', 'her', 'don', 'herself', 'has', 'why', 'but', 'these', 'again', 'other', 'our', \"shouldn't\", 'yourselves', 'mustn', 'no', 'when', 'not', 'over', 'all', 'above', 'down', 'to', 'of', 'this', 'that', 'whom', 'here'}\n"
     ]
    }
   ],
   "source": [
    "#Import English Stopwords\n",
    "from nltk.corpus import stopwords\n",
    "stop_words=set(stopwords.words(\"english\"))\n",
    "print(stop_words)"
   ]
  },
  {
   "cell_type": "code",
   "execution_count": 131,
   "metadata": {},
   "outputs": [
    {
     "name": "stdout",
     "output_type": "stream",
     "text": [
      "Tokenized Sentence: ['More challenges than cheer for Apple chief on Asia tour']\n",
      "Filterd Sentence: ['More challenges than cheer for Apple chief on Asia tour']\n"
     ]
    }
   ],
   "source": [
    "#Filter Stopwords\n",
    "filtered_sent=[]\n",
    "for w in tokenized_text:\n",
    "    if w not in stop_words:\n",
    "        filtered_sent.append(w)\n",
    "print(\"Tokenized Sentence:\",tokenized_text)\n",
    "print(\"Filterd Sentence:\",filtered_sent)"
   ]
  },
  {
   "cell_type": "markdown",
   "metadata": {},
   "source": [
    "https://github.com/Currie32/Predicting-the-Dow-Jones-with-Headlines/blob/master/Predict_Dow_with_News.ipynb\n",
    "# A list of contractions from http://stackoverflow.com/questions/19790188/expanding-english-language-contractions-in-python\n",
    "contractions = { \n",
    "\"ain't\": \"am not\",\n",
    "\"aren't\": \"are not\",\n",
    "\"can't\": \"cannot\",\n",
    "\"can't've\": \"cannot have\",\n",
    "\"'cause\": \"because\",\n",
    "\"could've\": \"could have\",\n",
    "\"couldn't\": \"could not\",\n",
    "\"couldn't've\": \"could not have\",\n",
    "\"didn't\": \"did not\",\n",
    "\"doesn't\": \"does not\",\n",
    "\"don't\": \"do not\",\n",
    "\"hadn't\": \"had not\",\n",
    "\"hadn't've\": \"had not have\",\n",
    "\"hasn't\": \"has not\",\n",
    "\"haven't\": \"have not\",\n",
    "\"he'd\": \"he would\",\n",
    "\"he'd've\": \"he would have\",\n",
    "\"he'll\": \"he will\",\n",
    "\"he's\": \"he is\",\n",
    "\"how'd\": \"how did\",\n",
    "\"how'll\": \"how will\",\n",
    "\"how's\": \"how is\",\n",
    "\"i'd\": \"i would\",\n",
    "\"i'll\": \"i will\",\n",
    "\"i'm\": \"i am\",\n",
    "\"i've\": \"i have\",\n",
    "\"isn't\": \"is not\",\n",
    "\"it'd\": \"it would\",\n",
    "\"it'll\": \"it will\",\n",
    "\"it's\": \"it is\",\n",
    "\"let's\": \"let us\",\n",
    "\"ma'am\": \"madam\",\n",
    "\"mayn't\": \"may not\",\n",
    "\"might've\": \"might have\",\n",
    "\"mightn't\": \"might not\",\n",
    "\"must've\": \"must have\",\n",
    "\"mustn't\": \"must not\",\n",
    "\"needn't\": \"need not\",\n",
    "\"oughtn't\": \"ought not\",\n",
    "\"shan't\": \"shall not\",\n",
    "\"sha'n't\": \"shall not\",\n",
    "\"she'd\": \"she would\",\n",
    "\"she'll\": \"she will\",\n",
    "\"she's\": \"she is\",\n",
    "\"should've\": \"should have\",\n",
    "\"shouldn't\": \"should not\",\n",
    "\"that'd\": \"that would\",\n",
    "\"that's\": \"that is\",\n",
    "\"there'd\": \"there had\",\n",
    "\"there's\": \"there is\",\n",
    "\"they'd\": \"they would\",\n",
    "\"they'll\": \"they will\",\n",
    "\"they're\": \"they are\",\n",
    "\"they've\": \"they have\",\n",
    "\"wasn't\": \"was not\",\n",
    "\"we'd\": \"we would\",\n",
    "\"we'll\": \"we will\",\n",
    "\"we're\": \"we are\",\n",
    "\"we've\": \"we have\",\n",
    "\"weren't\": \"were not\",\n",
    "\"what'll\": \"what will\",\n",
    "\"what're\": \"what are\",\n",
    "\"what's\": \"what is\",\n",
    "\"what've\": \"what have\",\n",
    "\"where'd\": \"where did\",\n",
    "\"where's\": \"where is\",\n",
    "\"who'll\": \"who will\",\n",
    "\"who's\": \"who is\",\n",
    "\"won't\": \"will not\",\n",
    "\"wouldn't\": \"would not\",\n",
    "\"you'd\": \"you would\",\n",
    "\"you'll\": \"you will\",\n",
    "\"you're\": \"you are\"\n",
    "}"
   ]
  },
  {
   "cell_type": "markdown",
   "metadata": {},
   "source": [
    "def clean_text(text, remove_stopwords = True):\n",
    "    '''Remove unwanted characters and format the text to create fewer nulls word embeddings'''\n",
    "    \n",
    "    # Convert words to lower case\n",
    "    text = text.lower()\n",
    "    \n",
    "    # Replace contractions with their longer forms \n",
    "    if True:\n",
    "        text = text.split()\n",
    "        new_text = []\n",
    "        for word in text:\n",
    "            if word in contractions:\n",
    "                new_text.append(contractions[word])\n",
    "            else:\n",
    "                new_text.append(word)\n",
    "        text = \" \".join(new_text)\n",
    "    \n",
    "    # Format words and remove unwanted characters\n",
    "    text = re.sub(r'&amp;', '', text) \n",
    "    text = re.sub(r'0,0', '00', text) \n",
    "    text = re.sub(r'[_\"\\-;%()|.,+&=*%.,!?:#@\\[\\]]', ' ', text)\n",
    "    text = re.sub(r'\\'', ' ', text)\n",
    "    text = re.sub(r'\\$', ' $ ', text)\n",
    "    text = re.sub(r'u s ', ' united states ', text)\n",
    "    text = re.sub(r'u n ', ' united nations ', text)\n",
    "    text = re.sub(r'u k ', ' united kingdom ', text)\n",
    "    text = re.sub(r'j k ', ' jk ', text)\n",
    "    text = re.sub(r' s ', ' ', text)\n",
    "    text = re.sub(r' yr ', ' year ', text)\n",
    "    text = re.sub(r' l g b t ', ' lgbt ', text)\n",
    "    text = re.sub(r'0km ', '0 km ', text)\n",
    "    \n",
    "    # Optionally, remove stop words\n",
    "    if remove_stopwords:\n",
    "        text = text.split()\n",
    "        stops = set(stopwords.words(\"english\"))\n",
    "        text = [w for w in text if not w in stops]\n",
    "        text = \" \".join(text)\n",
    "\n",
    "    return text"
   ]
  },
  {
   "cell_type": "markdown",
   "metadata": {},
   "source": [
    "# Clean the headlines\n",
    "clean_headlines = []\n",
    "\n",
    "for daily_headlines in data[\"summary\"]:\n",
    "    clean_daily_headlines = []\n",
    "    for headline in daily_headlines:\n",
    "        clean_daily_headlines.append(clean_text(headline))\n",
    "    clean_headlines.append(clean_daily_headlines)"
   ]
  },
  {
   "cell_type": "code",
   "execution_count": 138,
   "metadata": {},
   "outputs": [
    {
     "data": {
      "text/plain": [
       "\"publication_date\\n2016-05-24 00:17:38    Wall Street dips; Apple gain fails to offset r...\\n2016-05-24 08:42:12    More challenges than cheer for Apple chief on ...\\n2016-05-25 17:48:27    India says Apple must sell locally-sourced goo...\\n2016-05-30 17:05:39    India discussing Apple's request for FDI rules...\\n2016-06-01 08:29:12    Apple plans to sell $1 bln of 30-yr bonds in T...\\n2016-06-02 20:16:42     S&P 500 closes at seven-month high on data boost\\n2016-06-20 12:40:46    India opens the door for Apple retail with new...\\n2016-06-22 03:12:40    Samsung takes fight to Apple with mobile walle...\\n2016-06-23 10:22:07    High-end smartphone market set to grow in Indi...\\n2016-07-15 06:58:29    S&P 500's record highs held back by Apple's fa...\\n2016-07-18 18:18:18    Japan's Son chased $32 billion ARM deal by the...\\n2016-07-21 18:04:52            Pokemon Go seen making billions for Apple\\n2016-07-22 19:41:54    Silicon Valley leads avalanche of quarterly re...\\n2016-07-26 10:53:54      Apple quarterly profit slides 27 pct to $7.8 bn\\n2016-07-26 12:36:43    Apple talks services amid drop in iPhone sales...\\n2016-07-26 21:45:11               Apple sells more iPhones than expected\\n2016-07-27 02:50:48    Apple sells more iPhones than expected, shares...\\n2016-07-27 06:08:00           Apple iPhone Sales Fall For Second Quarter\\n2016-07-27 09:19:02           ANZ 'pulled fast one' on Apple Pay: rivals\\n2016-07-27 22:04:25        Apple says one billion iPhones have been sold\\n2016-07-27 22:09:17                   ANZ 'pulled fast one' on Apple Pay\\n2016-07-28 01:42:30             Smartphone sales drive Samsung Q2 profit\\n2016-07-28 13:04:00    TrendForce Reports Second-Quarter Tablet Shipm...\\n2016-07-28 15:58:07    Payment Data Systems Launches Apple iOS Paymen...\\n2016-07-28 16:30:09    Samsung extends lead over Apple in smartphone ...\\n2016-07-28 20:29:00    US STOCKS-Wall St edges up; Alphabet and Amazo...\\n2016-08-01 06:05:16    Tech vs biotech: Is AstraZeneca plc or Apple I...\\n2016-08-01 13:21:05    Court Issues New Order in VirnetX - Apple Lawsuit\\n2016-08-01 18:58:39    US STOCKS-Wall St retreats from record high as...\\n2016-08-01 20:27:23    US STOCKS-Wall St edges lower as energy sector...\\n                                             ...                        \\n2019-08-06 12:58:00          [video]When to Buy Apple: After the Selloff\\n2019-08-06 13:14:49    UPDATE 1-Apple, Goldman Sachs start issuing Ap...\\n2019-08-06 13:24:09          Disney Stock: The Apple of the Market’s Eye\\n2019-08-06 13:31:00    Stocks open higher as China contains fall in c...\\n2019-08-06 13:53:01    Index Futures Rebound as China Arrests Yuan Pl...\\n2019-08-06 14:04:31    Apple subsidiary FileMaker rebrands as Claris ...\\n2019-08-06 14:07:02                    Stock Market News For Aug 6, 2019\\n2019-08-06 14:28:02      China Arrests Yuan's Plunge. Will Markets Gain?\\n2019-08-06 14:39:00    Trump’s Tariffs Could Ruin Christmas. Here’s How.\\n2019-08-06 14:42:35    An old name is new again: Inside FileMaker’s r...\\n2019-08-06 15:02:43    In-Display Fingerprint Sensor: Apple’s 2021 iP...\\n2019-08-06 15:28:00    How Google, Amazon, Facebook and Apple Could '...\\n2019-08-06 16:10:32    Power and Tech Giants Fight Over Airwaves Spac...\\n2019-08-06 16:24:14       Make This One Move When the Markets Get Bloody\\n2019-08-06 16:32:17         Apple Card Is Only Available to a Few People\\n2019-08-06 17:56:42    Tuesday Apple Rumors: iPhone 11 Release Date L...\\n2019-08-06 18:04:44    Comcast Stock Has No Catalyst Unless This One ...\\n2019-08-06 18:14:02    3 Steps Every Investor Should Take Before the ...\\n2019-08-06 18:23:06    Currency War, Amazon Dips, TTWO Climbs, Disney...\\n2019-08-06 20:13:32                   Dow Jones Today: Recovery, Sort Of\\n2019-08-06 20:16:00    Apple, Goldman launch highly anticipated  cred...\\n2019-08-06 20:23:30    David Carlson Exits Medtronic, Trims Apple Hol...\\n2019-08-06 20:24:00    The most important indicator in the stock mark...\\n2019-08-06 20:34:10    Dow Jones Index Rallies 312 Points After Findi...\\n2019-08-06 20:56:00    Apple subsidiary FileMaker gets a new name (so...\\n2019-08-06 21:49:00    Apple to restrict Facebook's messaging apps fe...\\n2019-08-06 22:12:00    Here’s everything Apple isn’t telling you abou...\\n2019-08-06 22:56:16    Amazon, Facebook, Google Defend Practices Amid...\\n2019-08-06 23:43:11    Why Walmart (WMT) Stock Looks Like a Buy Ahead...\\n2019-08-07 01:00:56    How Does Fortnite Make Money: Online Gaming, e...\\nName: title, Length: 54918, dtype: object\""
      ]
     },
     "execution_count": 138,
     "metadata": {},
     "output_type": "execute_result"
    }
   ],
   "source": [
    "str(data[\"title\"])"
   ]
  },
  {
   "cell_type": "code",
   "execution_count": null,
   "metadata": {},
   "outputs": [],
   "source": []
  },
  {
   "cell_type": "code",
   "execution_count": 134,
   "metadata": {
    "scrolled": true
   },
   "outputs": [
    {
     "name": "stdout",
     "output_type": "stream",
     "text": [
      "publication_date\n",
      "2016-05-24 00:17:38    Wall Street dips; Apple gain fails to offset r...\n",
      "2016-05-24 08:42:12    More challenges than cheer for Apple chief on ...\n",
      "2016-05-25 17:48:27    India says Apple must sell locally-sourced goo...\n",
      "2016-05-30 17:05:39    India discussing Apple's request for FDI rules...\n",
      "2016-06-01 08:29:12    Apple plans to sell $1 bln of 30-yr bonds in T...\n",
      "2016-06-02 20:16:42     S&P 500 closes at seven-month high on data boost\n",
      "2016-06-20 12:40:46    India opens the door for Apple retail with new...\n",
      "2016-06-22 03:12:40    Samsung takes fight to Apple with mobile walle...\n",
      "2016-06-23 10:22:07    High-end smartphone market set to grow in Indi...\n",
      "2016-07-15 06:58:29    S&P 500's record highs held back by Apple's fa...\n",
      "2016-07-18 18:18:18    Japan's Son chased $32 billion ARM deal by the...\n",
      "2016-07-21 18:04:52            Pokemon Go seen making billions for Apple\n",
      "2016-07-22 19:41:54    Silicon Valley leads avalanche of quarterly re...\n",
      "2016-07-26 10:53:54    [AFP] - Apple said Tuesday its quarterly profi...\n",
      "2016-07-26 12:36:43    [AFP] - With iPhone sales and profits sliding,...\n",
      "2016-07-26 21:45:11    [AAP] - Apple Inc's iPhone sales fell for the ...\n",
      "2016-07-27 02:50:48    Apple sells more iPhones than expected, shares...\n",
      "2016-07-27 06:08:00           Apple iPhone Sales Fall For Second Quarter\n",
      "2016-07-27 09:19:02    [AAP] - ANZ has been accused by its big four r...\n",
      "2016-07-27 22:04:25        Apple says one billion iPhones have been sold\n",
      "2016-07-27 22:09:17    [AAP] - ANZ has been accused by its big four r...\n",
      "2016-07-28 01:42:30             Smartphone sales drive Samsung Q2 profit\n",
      "2016-07-28 13:04:00    [Business Wire] - TAIPEI, Taiwan--(BUSINESSWIR...\n",
      "2016-07-28 15:58:07    [at noodls] - SAN ANTONIO, July 28, 2016 (GLOB...\n",
      "2016-07-28 16:30:09    Samsung extends lead over Apple in smartphone ...\n",
      "2016-07-28 20:29:00    US STOCKS-Wall St edges up; Alphabet and Amazo...\n",
      "2016-08-01 06:05:16    Tech vs biotech: Is AstraZeneca plc or Apple I...\n",
      "2016-08-01 13:21:05    [at noodls] - ZEPHYR COVE, Nev., Aug. 1, 2016 ...\n",
      "2016-08-01 18:58:39    US STOCKS-Wall St retreats from record high as...\n",
      "2016-08-01 20:27:23    [Reuters - UK Focus] - The S&P 500 and the Dow...\n",
      "                                             ...                        \n",
      "2019-08-06 12:58:00    Apple was one of the biggest decliners in Mond...\n",
      "2019-08-06 13:14:49    Apple Inc and Goldman Sachs Group Inc rolled o...\n",
      "2019-08-06 13:24:09    Editor's Note: This article was updated on Aug...\n",
      "2019-08-06 13:31:00    U.S. stocks attempted a rebound Tuesday after ...\n",
      "2019-08-06 13:53:01    U.S. stock index futures rebounded strongly ah...\n",
      "2019-08-06 14:04:31    The unit known as FileMaker, whose tools help ...\n",
      "2019-08-06 14:07:02    Benchmarks fell to their lowest levels for the...\n",
      "2019-08-06 14:28:02      China Arrests Yuan's Plunge. Will Markets Gain?\n",
      "2019-08-06 14:39:00    Watch for ripple effects on the price of every...\n",
      "2019-08-06 14:42:35    FileMaker — the Apple software subsidiary once...\n",
      "2019-08-06 15:02:43    Apple plans to use Qualcomm’s (QCOM) ultrasoni...\n",
      "2019-08-06 15:28:00    It's unlikely the DoJ or FTC will implement an...\n",
      "2019-08-06 16:10:32    (Bloomberg) -- As tropical storm Barry roared ...\n",
      "2019-08-06 16:24:14    Recently, citing &quot;global developments&quo...\n",
      "2019-08-06 16:32:17    The Apple Card is available. The first group o...\n",
      "2019-08-06 17:56:42    Leading the Apple (NASDAQ:AAPL) rumor mill tod...\n",
      "2019-08-06 18:04:44    Like usual, Comcast (NASDAQ:CMCSA) stock deliv...\n",
      "2019-08-06 18:14:02    Every time the stock market dips -- even sligh...\n",
      "2019-08-06 18:23:06    On today's episode of Free Lunch here at Zacks...\n",
      "2019-08-06 20:13:32    Remembering the old adage about stocks falling...\n",
      "2019-08-06 20:16:00    The Apple credit card designed primarily for m...\n",
      "2019-08-06 20:23:30    Guru's largest sales of the 2nd quarter Contin...\n",
      "2019-08-06 20:24:00    The stock market has been volatile, causing co...\n",
      "2019-08-06 20:34:10    The stock market today rebounded after sufferi...\n",
      "2019-08-06 20:56:00    Apple Inc.  subsidiary FileMaker Inc. has a ne...\n",
      "2019-08-06 21:49:00    The calling feature in the apps runs in the ba...\n",
      "2019-08-06 22:12:00    After much anticipation, Apple is finally rele...\n",
      "2019-08-06 22:56:16    (Bloomberg) -- Amazon.com Inc., Facebook Inc. ...\n",
      "2019-08-06 23:43:11    Walmart (WMT) looks strong heading into the re...\n",
      "2019-08-07 01:00:56    Fortnite is the most popular battle-royale gam...\n",
      "Name: summary, Length: 54918, dtype: object\n"
     ]
    }
   ],
   "source": [
    "print(data[\"summary\"])"
   ]
  },
  {
   "cell_type": "markdown",
   "metadata": {},
   "source": [
    "### SIA compound score Calculation \n",
    "https://www.learndatasci.com/tutorials/sentiment-analysis-reddit-headlines-pythons-nltk/\n"
   ]
  },
  {
   "cell_type": "code",
   "execution_count": 139,
   "metadata": {},
   "outputs": [
    {
     "name": "stdout",
     "output_type": "stream",
     "text": [
      "[{'neg': 0.35, 'neu': 0.438, 'pos': 0.212, 'compound': -0.296, 'headline': 'Wall Street dips; Apple gain fails to offset rate worries'}, {'neg': 0.0, 'neu': 0.608, 'pos': 0.392, 'compound': 0.6318, 'headline': 'More challenges than cheer for Apple chief on Asia tour'}, {'neg': 0.0, 'neu': 1.0, 'pos': 0.0, 'compound': 0.0, 'headline': 'India says Apple must sell locally-sourced goods to set up stores - source'}]\n"
     ]
    }
   ],
   "source": [
    "sia = SIA()\n",
    "results = []\n",
    "\n",
    "for line in data[\"title\"]:\n",
    "    pol_score = sia.polarity_scores(line)\n",
    "    pol_score['headline'] = line\n",
    "    results.append(pol_score)\n",
    "\n",
    "print(results[:3])"
   ]
  },
  {
   "cell_type": "code",
   "execution_count": 140,
   "metadata": {
    "scrolled": false
   },
   "outputs": [
    {
     "data": {
      "text/html": [
       "<div>\n",
       "<style scoped>\n",
       "    .dataframe tbody tr th:only-of-type {\n",
       "        vertical-align: middle;\n",
       "    }\n",
       "\n",
       "    .dataframe tbody tr th {\n",
       "        vertical-align: top;\n",
       "    }\n",
       "\n",
       "    .dataframe thead th {\n",
       "        text-align: right;\n",
       "    }\n",
       "</style>\n",
       "<table border=\"1\" class=\"dataframe\">\n",
       "  <thead>\n",
       "    <tr style=\"text-align: right;\">\n",
       "      <th></th>\n",
       "      <th>compound</th>\n",
       "      <th>headline</th>\n",
       "      <th>neg</th>\n",
       "      <th>neu</th>\n",
       "      <th>pos</th>\n",
       "    </tr>\n",
       "  </thead>\n",
       "  <tbody>\n",
       "    <tr>\n",
       "      <th>0</th>\n",
       "      <td>-0.2960</td>\n",
       "      <td>Wall Street dips; Apple gain fails to offset r...</td>\n",
       "      <td>0.35</td>\n",
       "      <td>0.438</td>\n",
       "      <td>0.212</td>\n",
       "    </tr>\n",
       "    <tr>\n",
       "      <th>1</th>\n",
       "      <td>0.6318</td>\n",
       "      <td>More challenges than cheer for Apple chief on ...</td>\n",
       "      <td>0.00</td>\n",
       "      <td>0.608</td>\n",
       "      <td>0.392</td>\n",
       "    </tr>\n",
       "    <tr>\n",
       "      <th>2</th>\n",
       "      <td>0.0000</td>\n",
       "      <td>India says Apple must sell locally-sourced goo...</td>\n",
       "      <td>0.00</td>\n",
       "      <td>1.000</td>\n",
       "      <td>0.000</td>\n",
       "    </tr>\n",
       "    <tr>\n",
       "      <th>3</th>\n",
       "      <td>0.0000</td>\n",
       "      <td>India discussing Apple's request for FDI rules...</td>\n",
       "      <td>0.00</td>\n",
       "      <td>1.000</td>\n",
       "      <td>0.000</td>\n",
       "    </tr>\n",
       "    <tr>\n",
       "      <th>4</th>\n",
       "      <td>0.0000</td>\n",
       "      <td>Apple plans to sell $1 bln of 30-yr bonds in T...</td>\n",
       "      <td>0.00</td>\n",
       "      <td>1.000</td>\n",
       "      <td>0.000</td>\n",
       "    </tr>\n",
       "  </tbody>\n",
       "</table>\n",
       "</div>"
      ],
      "text/plain": [
       "   compound                                           headline   neg    neu  \\\n",
       "0   -0.2960  Wall Street dips; Apple gain fails to offset r...  0.35  0.438   \n",
       "1    0.6318  More challenges than cheer for Apple chief on ...  0.00  0.608   \n",
       "2    0.0000  India says Apple must sell locally-sourced goo...  0.00  1.000   \n",
       "3    0.0000  India discussing Apple's request for FDI rules...  0.00  1.000   \n",
       "4    0.0000  Apple plans to sell $1 bln of 30-yr bonds in T...  0.00  1.000   \n",
       "\n",
       "     pos  \n",
       "0  0.212  \n",
       "1  0.392  \n",
       "2  0.000  \n",
       "3  0.000  \n",
       "4  0.000  "
      ]
     },
     "execution_count": 140,
     "metadata": {},
     "output_type": "execute_result"
    }
   ],
   "source": [
    "df123 = pd.DataFrame(results)\n",
    "#df123['publication_date'] = data['publication_date']\n",
    "#df123.Date = pd.to_datetime(df123.publication_date)\n",
    "#df123.set_index('publication_date', inplace=True)\n",
    "df123.head()"
   ]
  },
  {
   "cell_type": "code",
   "execution_count": 141,
   "metadata": {},
   "outputs": [
    {
     "name": "stdout",
     "output_type": "stream",
     "text": [
      "More challenges than cheer for Apple chief on Asia tour\n"
     ]
    }
   ],
   "source": [
    "print(df123['headline'][1])"
   ]
  },
  {
   "cell_type": "code",
   "execution_count": 142,
   "metadata": {
    "scrolled": false
   },
   "outputs": [
    {
     "data": {
      "text/html": [
       "<div>\n",
       "<style scoped>\n",
       "    .dataframe tbody tr th:only-of-type {\n",
       "        vertical-align: middle;\n",
       "    }\n",
       "\n",
       "    .dataframe tbody tr th {\n",
       "        vertical-align: top;\n",
       "    }\n",
       "\n",
       "    .dataframe thead th {\n",
       "        text-align: right;\n",
       "    }\n",
       "</style>\n",
       "<table border=\"1\" class=\"dataframe\">\n",
       "  <thead>\n",
       "    <tr style=\"text-align: right;\">\n",
       "      <th></th>\n",
       "      <th>compound</th>\n",
       "      <th>neg</th>\n",
       "      <th>neu</th>\n",
       "      <th>pos</th>\n",
       "    </tr>\n",
       "  </thead>\n",
       "  <tbody>\n",
       "    <tr>\n",
       "      <th>count</th>\n",
       "      <td>54918.000000</td>\n",
       "      <td>54918.000000</td>\n",
       "      <td>54918.000000</td>\n",
       "      <td>54918.000000</td>\n",
       "    </tr>\n",
       "    <tr>\n",
       "      <th>mean</th>\n",
       "      <td>0.044534</td>\n",
       "      <td>0.063137</td>\n",
       "      <td>0.846626</td>\n",
       "      <td>0.090238</td>\n",
       "    </tr>\n",
       "    <tr>\n",
       "      <th>std</th>\n",
       "      <td>0.307948</td>\n",
       "      <td>0.119530</td>\n",
       "      <td>0.167945</td>\n",
       "      <td>0.135918</td>\n",
       "    </tr>\n",
       "    <tr>\n",
       "      <th>min</th>\n",
       "      <td>-0.922200</td>\n",
       "      <td>0.000000</td>\n",
       "      <td>0.000000</td>\n",
       "      <td>0.000000</td>\n",
       "    </tr>\n",
       "    <tr>\n",
       "      <th>25%</th>\n",
       "      <td>0.000000</td>\n",
       "      <td>0.000000</td>\n",
       "      <td>0.727000</td>\n",
       "      <td>0.000000</td>\n",
       "    </tr>\n",
       "    <tr>\n",
       "      <th>50%</th>\n",
       "      <td>0.000000</td>\n",
       "      <td>0.000000</td>\n",
       "      <td>0.864000</td>\n",
       "      <td>0.000000</td>\n",
       "    </tr>\n",
       "    <tr>\n",
       "      <th>75%</th>\n",
       "      <td>0.202300</td>\n",
       "      <td>0.098000</td>\n",
       "      <td>1.000000</td>\n",
       "      <td>0.189000</td>\n",
       "    </tr>\n",
       "    <tr>\n",
       "      <th>max</th>\n",
       "      <td>0.913600</td>\n",
       "      <td>0.770000</td>\n",
       "      <td>1.000000</td>\n",
       "      <td>0.857000</td>\n",
       "    </tr>\n",
       "  </tbody>\n",
       "</table>\n",
       "</div>"
      ],
      "text/plain": [
       "           compound           neg           neu           pos\n",
       "count  54918.000000  54918.000000  54918.000000  54918.000000\n",
       "mean       0.044534      0.063137      0.846626      0.090238\n",
       "std        0.307948      0.119530      0.167945      0.135918\n",
       "min       -0.922200      0.000000      0.000000      0.000000\n",
       "25%        0.000000      0.000000      0.727000      0.000000\n",
       "50%        0.000000      0.000000      0.864000      0.000000\n",
       "75%        0.202300      0.098000      1.000000      0.189000\n",
       "max        0.913600      0.770000      1.000000      0.857000"
      ]
     },
     "execution_count": 142,
     "metadata": {},
     "output_type": "execute_result"
    }
   ],
   "source": [
    "df123.describe()"
   ]
  },
  {
   "cell_type": "code",
   "execution_count": 143,
   "metadata": {
    "scrolled": false
   },
   "outputs": [
    {
     "name": "stdout",
     "output_type": "stream",
     "text": [
      "<class 'pandas.core.frame.DataFrame'>\n",
      "RangeIndex: 54918 entries, 0 to 54917\n",
      "Data columns (total 5 columns):\n",
      "compound    54918 non-null float64\n",
      "headline    54918 non-null object\n",
      "neg         54918 non-null float64\n",
      "neu         54918 non-null float64\n",
      "pos         54918 non-null float64\n",
      "dtypes: float64(4), object(1)\n",
      "memory usage: 2.1+ MB\n"
     ]
    }
   ],
   "source": [
    "df123.info()"
   ]
  },
  {
   "cell_type": "code",
   "execution_count": 144,
   "metadata": {
    "scrolled": true
   },
   "outputs": [
    {
     "data": {
      "text/html": [
       "<div>\n",
       "<style scoped>\n",
       "    .dataframe tbody tr th:only-of-type {\n",
       "        vertical-align: middle;\n",
       "    }\n",
       "\n",
       "    .dataframe tbody tr th {\n",
       "        vertical-align: top;\n",
       "    }\n",
       "\n",
       "    .dataframe thead th {\n",
       "        text-align: right;\n",
       "    }\n",
       "</style>\n",
       "<table border=\"1\" class=\"dataframe\">\n",
       "  <thead>\n",
       "    <tr style=\"text-align: right;\">\n",
       "      <th></th>\n",
       "      <th>compound</th>\n",
       "      <th>headline</th>\n",
       "      <th>neg</th>\n",
       "      <th>neu</th>\n",
       "      <th>pos</th>\n",
       "      <th>label</th>\n",
       "    </tr>\n",
       "  </thead>\n",
       "  <tbody>\n",
       "    <tr>\n",
       "      <th>0</th>\n",
       "      <td>-0.2960</td>\n",
       "      <td>Wall Street dips; Apple gain fails to offset r...</td>\n",
       "      <td>0.35</td>\n",
       "      <td>0.438</td>\n",
       "      <td>0.212</td>\n",
       "      <td>-1</td>\n",
       "    </tr>\n",
       "    <tr>\n",
       "      <th>1</th>\n",
       "      <td>0.6318</td>\n",
       "      <td>More challenges than cheer for Apple chief on ...</td>\n",
       "      <td>0.00</td>\n",
       "      <td>0.608</td>\n",
       "      <td>0.392</td>\n",
       "      <td>1</td>\n",
       "    </tr>\n",
       "    <tr>\n",
       "      <th>2</th>\n",
       "      <td>0.0000</td>\n",
       "      <td>India says Apple must sell locally-sourced goo...</td>\n",
       "      <td>0.00</td>\n",
       "      <td>1.000</td>\n",
       "      <td>0.000</td>\n",
       "      <td>0</td>\n",
       "    </tr>\n",
       "    <tr>\n",
       "      <th>3</th>\n",
       "      <td>0.0000</td>\n",
       "      <td>India discussing Apple's request for FDI rules...</td>\n",
       "      <td>0.00</td>\n",
       "      <td>1.000</td>\n",
       "      <td>0.000</td>\n",
       "      <td>0</td>\n",
       "    </tr>\n",
       "    <tr>\n",
       "      <th>4</th>\n",
       "      <td>0.0000</td>\n",
       "      <td>Apple plans to sell $1 bln of 30-yr bonds in T...</td>\n",
       "      <td>0.00</td>\n",
       "      <td>1.000</td>\n",
       "      <td>0.000</td>\n",
       "      <td>0</td>\n",
       "    </tr>\n",
       "  </tbody>\n",
       "</table>\n",
       "</div>"
      ],
      "text/plain": [
       "   compound                                           headline   neg    neu  \\\n",
       "0   -0.2960  Wall Street dips; Apple gain fails to offset r...  0.35  0.438   \n",
       "1    0.6318  More challenges than cheer for Apple chief on ...  0.00  0.608   \n",
       "2    0.0000  India says Apple must sell locally-sourced goo...  0.00  1.000   \n",
       "3    0.0000  India discussing Apple's request for FDI rules...  0.00  1.000   \n",
       "4    0.0000  Apple plans to sell $1 bln of 30-yr bonds in T...  0.00  1.000   \n",
       "\n",
       "     pos  label  \n",
       "0  0.212     -1  \n",
       "1  0.392      1  \n",
       "2  0.000      0  \n",
       "3  0.000      0  \n",
       "4  0.000      0  "
      ]
     },
     "execution_count": 144,
     "metadata": {},
     "output_type": "execute_result"
    }
   ],
   "source": [
    "df123['label'] = 0\n",
    "df123.loc[df123['compound'] > 0.1, 'label'] = 1\n",
    "df123.loc[df123['compound'] < -0.1, 'label'] = -1\n",
    "df123.head()"
   ]
  },
  {
   "cell_type": "code",
   "execution_count": 145,
   "metadata": {},
   "outputs": [
    {
     "name": "stdout",
     "output_type": "stream",
     "text": [
      "Positive headlines:\n",
      "\n",
      "['More challenges than cheer for Apple chief on Asia tour', 'S&P 500 closes at seven-month high on data boost', 'Apple quarterly profit slides 27 pct to $7.8 bn', 'Apple talks services amid drop in iPhone sales, profit', 'Apple sells more iPhones than expected, shares jump after hours']\n"
     ]
    }
   ],
   "source": [
    "print(\"Positive headlines:\\n\")\n",
    "print(list(df123[df123['label'] == 1].headline)[:5])\n"
   ]
  },
  {
   "cell_type": "code",
   "execution_count": 146,
   "metadata": {},
   "outputs": [
    {
     "name": "stdout",
     "output_type": "stream",
     "text": [
      "\n",
      "Negative headlines:\n",
      "\n",
      "['Wall Street dips; Apple gain fails to offset rate worries', 'Samsung takes fight to Apple with mobile wallet strategy', \"S&P 500's record highs held back by Apple's falling stock price\", \"ANZ 'pulled fast one' on Apple Pay: rivals\", \"ANZ 'pulled fast one' on Apple Pay\"]\n"
     ]
    }
   ],
   "source": [
    "print(\"\\nNegative headlines:\\n\")\n",
    "print(list(df123[df123['label'] == -1].headline)[:5])"
   ]
  },
  {
   "cell_type": "code",
   "execution_count": 147,
   "metadata": {
    "scrolled": true
   },
   "outputs": [
    {
     "name": "stdout",
     "output_type": "stream",
     "text": [
      " 0    27267\n",
      " 1    16535\n",
      "-1    11116\n",
      "Name: label, dtype: int64\n",
      " 0    49.650388\n",
      " 1    30.108525\n",
      "-1    20.241087\n",
      "Name: label, dtype: float64\n"
     ]
    }
   ],
   "source": [
    "print(df123.label.value_counts())\n",
    "\n",
    "print(df123.label.value_counts(normalize=True) * 100)"
   ]
  },
  {
   "cell_type": "code",
   "execution_count": 148,
   "metadata": {
    "scrolled": true
   },
   "outputs": [
    {
     "data": {
      "image/png": "[encoded data removed]",
      "text/plain": [
       "<Figure size 576x576 with 1 Axes>"
      ]
     },
     "metadata": {},
     "output_type": "display_data"
    }
   ],
   "source": [
    "import seaborn as sns\n",
    "fig, ax = plt.subplots(figsize=(8, 8))\n",
    "\n",
    "counts = df123.label.value_counts(normalize=True) * 100\n",
    "\n",
    "sns.barplot(x=counts.index, y=counts, ax=ax)\n",
    "\n",
    "ax.set_xticklabels(['Negative', 'Neutral', 'Positive'])\n",
    "ax.set_ylabel(\"Percentage\")\n",
    "\n",
    "plt.show()"
   ]
  },
  {
   "cell_type": "code",
   "execution_count": 149,
   "metadata": {},
   "outputs": [
    {
     "name": "stderr",
     "output_type": "stream",
     "text": [
      "/anaconda3/lib/python3.6/site-packages/matplotlib/axes/_axes.py:6462: UserWarning: The 'normed' kwarg is deprecated, and has been replaced by the 'density' kwarg.\n",
      "  warnings.warn(\"The 'normed' kwarg is deprecated, and has been \"\n"
     ]
    },
    {
     "data": {
      "text/plain": [
       "Text(0,0.5,'Count')"
      ]
     },
     "execution_count": 149,
     "metadata": {},
     "output_type": "execute_result"
    },
    {
     "data": {
      "image/png": "[encoded data removed]",
      "text/plain": [
       "<Figure size 432x288 with 1 Axes>"
      ]
     },
     "metadata": {},
     "output_type": "display_data"
    }
   ],
   "source": [
    "\n",
    "# seaborn histogram\n",
    "sns.distplot(df123['compound'], hist=True, kde=False, \n",
    "             bins=int(180/5), color = 'blue',\n",
    "             hist_kws={'edgecolor':'black'})\n",
    "# Add labels\n",
    "plt.title('Histogram of Compound Sentiment')\n",
    "plt.xlabel('Score')\n",
    "plt.ylabel('Count')"
   ]
  },
  {
   "cell_type": "code",
   "execution_count": 150,
   "metadata": {
    "scrolled": true
   },
   "outputs": [],
   "source": [
    "#https://github.com/llSourcell/Stock_Market_Prediction/blob/master/Generating%20Different%20Models.ipynb\n",
    "#import numpy as np\n",
    "#import pandas as pd\n",
    "#from nltk.classify import NaiveBayesClassifier\n",
    "#from nltk.corpus import subjectivity\n",
    "#from nltk.sentiment import SentimentAnalyzer\n",
    "#from nltk.sentiment.util import *\n",
    "#import nltk\n",
    "#nltk.downloader.download('vader_lexicon')\n",
    "\n",
    "#sentence = 'paris shootout police officer suspected guman dead'\n",
    "#from nltk.sentiment.vader import SentimentIntensityAnalyzer\n",
    "#import unicodedata\n",
    "#sid = SentimentIntensityAnalyzer()\n",
    "#ss = sid.polarity_scores(sentence)\n",
    "#ss"
   ]
  },
  {
   "cell_type": "code",
   "execution_count": 151,
   "metadata": {},
   "outputs": [
    {
     "data": {
      "text/html": [
       "<div>\n",
       "<style scoped>\n",
       "    .dataframe tbody tr th:only-of-type {\n",
       "        vertical-align: middle;\n",
       "    }\n",
       "\n",
       "    .dataframe tbody tr th {\n",
       "        vertical-align: top;\n",
       "    }\n",
       "\n",
       "    .dataframe thead th {\n",
       "        text-align: right;\n",
       "    }\n",
       "</style>\n",
       "<table border=\"1\" class=\"dataframe\">\n",
       "  <thead>\n",
       "    <tr style=\"text-align: right;\">\n",
       "      <th></th>\n",
       "      <th>compound</th>\n",
       "      <th>headline</th>\n",
       "      <th>neg</th>\n",
       "      <th>neu</th>\n",
       "      <th>pos</th>\n",
       "      <th>label</th>\n",
       "    </tr>\n",
       "    <tr>\n",
       "      <th>publication_date</th>\n",
       "      <th></th>\n",
       "      <th></th>\n",
       "      <th></th>\n",
       "      <th></th>\n",
       "      <th></th>\n",
       "      <th></th>\n",
       "    </tr>\n",
       "  </thead>\n",
       "  <tbody>\n",
       "    <tr>\n",
       "      <th>2016-05-24 00:17:38</th>\n",
       "      <td>-0.2960</td>\n",
       "      <td>Wall Street dips; Apple gain fails to offset r...</td>\n",
       "      <td>0.35</td>\n",
       "      <td>0.438</td>\n",
       "      <td>0.212</td>\n",
       "      <td>-1</td>\n",
       "    </tr>\n",
       "    <tr>\n",
       "      <th>2016-05-24 08:42:12</th>\n",
       "      <td>0.6318</td>\n",
       "      <td>More challenges than cheer for Apple chief on ...</td>\n",
       "      <td>0.00</td>\n",
       "      <td>0.608</td>\n",
       "      <td>0.392</td>\n",
       "      <td>1</td>\n",
       "    </tr>\n",
       "    <tr>\n",
       "      <th>2016-05-25 17:48:27</th>\n",
       "      <td>0.0000</td>\n",
       "      <td>India says Apple must sell locally-sourced goo...</td>\n",
       "      <td>0.00</td>\n",
       "      <td>1.000</td>\n",
       "      <td>0.000</td>\n",
       "      <td>0</td>\n",
       "    </tr>\n",
       "    <tr>\n",
       "      <th>2016-05-30 17:05:39</th>\n",
       "      <td>0.0000</td>\n",
       "      <td>India discussing Apple's request for FDI rules...</td>\n",
       "      <td>0.00</td>\n",
       "      <td>1.000</td>\n",
       "      <td>0.000</td>\n",
       "      <td>0</td>\n",
       "    </tr>\n",
       "    <tr>\n",
       "      <th>2016-06-01 08:29:12</th>\n",
       "      <td>0.0000</td>\n",
       "      <td>Apple plans to sell $1 bln of 30-yr bonds in T...</td>\n",
       "      <td>0.00</td>\n",
       "      <td>1.000</td>\n",
       "      <td>0.000</td>\n",
       "      <td>0</td>\n",
       "    </tr>\n",
       "  </tbody>\n",
       "</table>\n",
       "</div>"
      ],
      "text/plain": [
       "                     compound  \\\n",
       "publication_date                \n",
       "2016-05-24 00:17:38   -0.2960   \n",
       "2016-05-24 08:42:12    0.6318   \n",
       "2016-05-25 17:48:27    0.0000   \n",
       "2016-05-30 17:05:39    0.0000   \n",
       "2016-06-01 08:29:12    0.0000   \n",
       "\n",
       "                                                              headline   neg  \\\n",
       "publication_date                                                               \n",
       "2016-05-24 00:17:38  Wall Street dips; Apple gain fails to offset r...  0.35   \n",
       "2016-05-24 08:42:12  More challenges than cheer for Apple chief on ...  0.00   \n",
       "2016-05-25 17:48:27  India says Apple must sell locally-sourced goo...  0.00   \n",
       "2016-05-30 17:05:39  India discussing Apple's request for FDI rules...  0.00   \n",
       "2016-06-01 08:29:12  Apple plans to sell $1 bln of 30-yr bonds in T...  0.00   \n",
       "\n",
       "                       neu    pos  label  \n",
       "publication_date                          \n",
       "2016-05-24 00:17:38  0.438  0.212     -1  \n",
       "2016-05-24 08:42:12  0.608  0.392      1  \n",
       "2016-05-25 17:48:27  1.000  0.000      0  \n",
       "2016-05-30 17:05:39  1.000  0.000      0  \n",
       "2016-06-01 08:29:12  1.000  0.000      0  "
      ]
     },
     "execution_count": 151,
     "metadata": {},
     "output_type": "execute_result"
    }
   ],
   "source": [
    "df123.index =data['publication_date']\n",
    "df123.head()"
   ]
  },
  {
   "cell_type": "code",
   "execution_count": 152,
   "metadata": {},
   "outputs": [],
   "source": [
    "df123.to_csv('AAPL_sent_news.csv')"
   ]
  },
  {
   "cell_type": "code",
   "execution_count": null,
   "metadata": {},
   "outputs": [],
   "source": []
  }
 ],
 "metadata": {
  "kernelspec": {
   "display_name": "Python 3",
   "language": "python",
   "name": "python3"
  },
  "language_info": {
   "codemirror_mode": {
    "name": "ipython",
    "version": 3
   },
   "file_extension": ".py",
   "mimetype": "text/x-python",
   "name": "python",
   "nbconvert_exporter": "python",
   "pygments_lexer": "ipython3",
   "version": "3.6.5"
  }
 },
 "nbformat": 4,
 "nbformat_minor": 2
}
