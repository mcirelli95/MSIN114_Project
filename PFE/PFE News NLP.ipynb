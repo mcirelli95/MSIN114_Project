{
 "cells": [
  {
   "cell_type": "code",
   "execution_count": 1,
   "metadata": {},
   "outputs": [],
   "source": [
    "import pandas as pd\n",
    "import matplotlib.pyplot as plt\n",
    "import numpy as np\n",
    "import seaborn as sns\n",
    "from sklearn.feature_extraction.text import CountVectorizer\n",
    "from sklearn.linear_model import LogisticRegression\n",
    "from sklearn import preprocessing\n",
    "from nltk.sentiment.vader import SentimentIntensityAnalyzer as SIA\n",
    "import math\n",
    "import pprint\n",
    "from sklearn import preprocessing\n",
    "import re"
   ]
  },
  {
   "cell_type": "code",
   "execution_count": 2,
   "metadata": {},
   "outputs": [
    {
     "name": "stdout",
     "output_type": "stream",
     "text": [
      "[nltk_data] Downloading package punkt to\n",
      "[nltk_data]     /Users/mattcirelli/nltk_data...\n",
      "[nltk_data]   Package punkt is already up-to-date!\n"
     ]
    }
   ],
   "source": [
    "from vaderSentiment.vaderSentiment import SentimentIntensityAnalyzer\n",
    "from nltk.tokenize import RegexpTokenizer, sent_tokenize\n",
    "import nltk\n",
    "nltk.download('punkt')\n",
    "from nltk import word_tokenize\n",
    "\n",
    "sia = SentimentIntensityAnalyzer()"
   ]
  },
  {
   "cell_type": "code",
   "execution_count": 3,
   "metadata": {},
   "outputs": [],
   "source": [
    "# Update SIA with Loughran McDonald Dictionary\n",
    "\n",
    "import csv\n",
    "import pandas as pd\n",
    "\n",
    "# stock market lexicon\n",
    "stock_lex = pd.read_csv('stock_lex.csv')\n",
    "\n",
    "stock_lex['sentiment'] = (stock_lex['Aff_Score'] + stock_lex['Neg_Score'])/2\n",
    "stock_lex = dict(zip(stock_lex.Item, stock_lex.sentiment))\n",
    "stock_lex = {k:v for k,v in stock_lex.items() if len(k.split(' '))==1}\n",
    "stock_lex_scaled = {}\n",
    "for k, v in stock_lex.items():\n",
    "    if v > 0:\n",
    "        stock_lex_scaled[k] = v / max(stock_lex.values()) * 4\n",
    "    else:\n",
    "        stock_lex_scaled[k] = v / min(stock_lex.values()) * -4\n",
    "\n",
    "#update the positive and negative dictionaries\n",
    "positive = []\n",
    "reader = csv.reader('lm_positive.csv')\n",
    "for row in reader:\n",
    "    positive.append(row[0].strip())\n",
    "    \n",
    "negative = []\n",
    "reader = csv.reader('lm_negative.csv')\n",
    "for row in reader:\n",
    "    entry = row[0].strip().split(\" \")\n",
    "    if len(entry) > 1:\n",
    "        negative.extend(entry)\n",
    "    else:\n",
    "        negative.append(entry[0])\n",
    "\n",
    "final_lex = {}\n",
    "final_lex.update({word:2.0 for word in positive})\n",
    "final_lex.update({word:-2.0 for word in negative})\n",
    "final_lex.update(stock_lex_scaled)\n",
    "final_lex.update(sia.lexicon)\n",
    "sia.lexicon = final_lex"
   ]
  },
  {
   "cell_type": "code",
   "execution_count": 5,
   "metadata": {},
   "outputs": [],
   "source": [
    "data = pd.read_csv('pfizer_news.csv')"
   ]
  },
  {
   "cell_type": "code",
   "execution_count": 6,
   "metadata": {
    "scrolled": false
   },
   "outputs": [
    {
     "data": {
      "text/html": [
       "<div>\n",
       "<style scoped>\n",
       "    .dataframe tbody tr th:only-of-type {\n",
       "        vertical-align: middle;\n",
       "    }\n",
       "\n",
       "    .dataframe tbody tr th {\n",
       "        vertical-align: top;\n",
       "    }\n",
       "\n",
       "    .dataframe thead th {\n",
       "        text-align: right;\n",
       "    }\n",
       "</style>\n",
       "<table border=\"1\" class=\"dataframe\">\n",
       "  <thead>\n",
       "    <tr style=\"text-align: right;\">\n",
       "      <th></th>\n",
       "      <th>Unnamed: 0</th>\n",
       "      <th>company</th>\n",
       "      <th>id</th>\n",
       "      <th>publication_date</th>\n",
       "      <th>summary</th>\n",
       "      <th>title</th>\n",
       "      <th>url</th>\n",
       "    </tr>\n",
       "  </thead>\n",
       "  <tbody>\n",
       "    <tr>\n",
       "      <th>0</th>\n",
       "      <td>0</td>\n",
       "      <td>NaN</td>\n",
       "      <td>nws_xY9rOa</td>\n",
       "      <td>2019-08-07 15:00:03+00:00</td>\n",
       "      <td>Conatus' (CNAT) earnings and revenues surpass ...</td>\n",
       "      <td>Conatus (CNAT) Beats on Q2 Earnings, Stops Emr...</td>\n",
       "      <td>https://finance.yahoo.com/news/conatus-cnat-be...</td>\n",
       "    </tr>\n",
       "    <tr>\n",
       "      <th>1</th>\n",
       "      <td>1</td>\n",
       "      <td>NaN</td>\n",
       "      <td>nws_kp3kmk</td>\n",
       "      <td>2019-08-06 21:10:45+00:00</td>\n",
       "      <td>What happened Shares of Teva Pharmaceutical In...</td>\n",
       "      <td>Here's What's Pushing Teva Pharmaceutical Indu...</td>\n",
       "      <td>http://articlefeeds.nasdaq.com/~r/nasdaq/symbo...</td>\n",
       "    </tr>\n",
       "    <tr>\n",
       "      <th>2</th>\n",
       "      <td>2</td>\n",
       "      <td>NaN</td>\n",
       "      <td>nws_WOkE6J</td>\n",
       "      <td>2019-08-06 21:10:45+00:00</td>\n",
       "      <td>What happened Shares of Teva Pharmaceutical In...</td>\n",
       "      <td>Here's What's Pushing Teva Pharmaceutical Indu...</td>\n",
       "      <td>http://articlefeeds.nasdaq.com/~r/nasdaq/symbo...</td>\n",
       "    </tr>\n",
       "    <tr>\n",
       "      <th>3</th>\n",
       "      <td>3</td>\n",
       "      <td>NaN</td>\n",
       "      <td>nws_lwdKnb</td>\n",
       "      <td>2019-08-06 13:46:44+00:00</td>\n",
       "      <td>Top Health Care Stocks Top Health Care Stocks ...</td>\n",
       "      <td>Health Care Sector Update for 08/06/2019: BDX,...</td>\n",
       "      <td>http://articlefeeds.nasdaq.com/~r/nasdaq/symbo...</td>\n",
       "    </tr>\n",
       "    <tr>\n",
       "      <th>4</th>\n",
       "      <td>4</td>\n",
       "      <td>NaN</td>\n",
       "      <td>nws_YnV8LG</td>\n",
       "      <td>2019-08-06 13:46:44+00:00</td>\n",
       "      <td>Top Health Care Stocks Top Health Care Stocks ...</td>\n",
       "      <td>Health Care Sector Update for 08/06/2019: BDX,...</td>\n",
       "      <td>http://articlefeeds.nasdaq.com/~r/nasdaq/symbo...</td>\n",
       "    </tr>\n",
       "  </tbody>\n",
       "</table>\n",
       "</div>"
      ],
      "text/plain": [
       "   Unnamed: 0  company          id           publication_date  \\\n",
       "0           0      NaN  nws_xY9rOa  2019-08-07 15:00:03+00:00   \n",
       "1           1      NaN  nws_kp3kmk  2019-08-06 21:10:45+00:00   \n",
       "2           2      NaN  nws_WOkE6J  2019-08-06 21:10:45+00:00   \n",
       "3           3      NaN  nws_lwdKnb  2019-08-06 13:46:44+00:00   \n",
       "4           4      NaN  nws_YnV8LG  2019-08-06 13:46:44+00:00   \n",
       "\n",
       "                                             summary  \\\n",
       "0  Conatus' (CNAT) earnings and revenues surpass ...   \n",
       "1  What happened Shares of Teva Pharmaceutical In...   \n",
       "2  What happened Shares of Teva Pharmaceutical In...   \n",
       "3  Top Health Care Stocks Top Health Care Stocks ...   \n",
       "4  Top Health Care Stocks Top Health Care Stocks ...   \n",
       "\n",
       "                                               title  \\\n",
       "0  Conatus (CNAT) Beats on Q2 Earnings, Stops Emr...   \n",
       "1  Here's What's Pushing Teva Pharmaceutical Indu...   \n",
       "2  Here's What's Pushing Teva Pharmaceutical Indu...   \n",
       "3  Health Care Sector Update for 08/06/2019: BDX,...   \n",
       "4  Health Care Sector Update for 08/06/2019: BDX,...   \n",
       "\n",
       "                                                 url  \n",
       "0  https://finance.yahoo.com/news/conatus-cnat-be...  \n",
       "1  http://articlefeeds.nasdaq.com/~r/nasdaq/symbo...  \n",
       "2  http://articlefeeds.nasdaq.com/~r/nasdaq/symbo...  \n",
       "3  http://articlefeeds.nasdaq.com/~r/nasdaq/symbo...  \n",
       "4  http://articlefeeds.nasdaq.com/~r/nasdaq/symbo...  "
      ]
     },
     "execution_count": 6,
     "metadata": {},
     "output_type": "execute_result"
    }
   ],
   "source": [
    "data.head()"
   ]
  },
  {
   "cell_type": "code",
   "execution_count": 7,
   "metadata": {},
   "outputs": [],
   "source": [
    "data['publication_date']=pd.to_datetime(data.publication_date,format='%Y-%m-%d')\n",
    "data.index =data['publication_date']\n"
   ]
  },
  {
   "cell_type": "code",
   "execution_count": 8,
   "metadata": {
    "scrolled": true
   },
   "outputs": [
    {
     "name": "stdout",
     "output_type": "stream",
     "text": [
      "<class 'pandas.core.frame.DataFrame'>\n",
      "DatetimeIndex: 9885 entries, 2019-08-07 15:00:03 to 2015-11-23 22:32:12\n",
      "Data columns (total 7 columns):\n",
      "Unnamed: 0          9885 non-null int64\n",
      "company             0 non-null float64\n",
      "id                  9885 non-null object\n",
      "publication_date    9885 non-null datetime64[ns]\n",
      "summary             9885 non-null object\n",
      "title               9885 non-null object\n",
      "url                 9885 non-null object\n",
      "dtypes: datetime64[ns](1), float64(1), int64(1), object(4)\n",
      "memory usage: 617.8+ KB\n"
     ]
    }
   ],
   "source": [
    "data.info()"
   ]
  },
  {
   "cell_type": "code",
   "execution_count": 9,
   "metadata": {},
   "outputs": [
    {
     "data": {
      "text/html": [
       "<div>\n",
       "<style scoped>\n",
       "    .dataframe tbody tr th:only-of-type {\n",
       "        vertical-align: middle;\n",
       "    }\n",
       "\n",
       "    .dataframe tbody tr th {\n",
       "        vertical-align: top;\n",
       "    }\n",
       "\n",
       "    .dataframe thead th {\n",
       "        text-align: right;\n",
       "    }\n",
       "</style>\n",
       "<table border=\"1\" class=\"dataframe\">\n",
       "  <thead>\n",
       "    <tr style=\"text-align: right;\">\n",
       "      <th></th>\n",
       "      <th>Unnamed: 0</th>\n",
       "      <th>company</th>\n",
       "      <th>id</th>\n",
       "      <th>publication_date</th>\n",
       "      <th>summary</th>\n",
       "      <th>title</th>\n",
       "      <th>url</th>\n",
       "    </tr>\n",
       "    <tr>\n",
       "      <th>publication_date</th>\n",
       "      <th></th>\n",
       "      <th></th>\n",
       "      <th></th>\n",
       "      <th></th>\n",
       "      <th></th>\n",
       "      <th></th>\n",
       "      <th></th>\n",
       "    </tr>\n",
       "  </thead>\n",
       "  <tbody>\n",
       "    <tr>\n",
       "      <th>2019-08-07 15:00:03</th>\n",
       "      <td>0</td>\n",
       "      <td>NaN</td>\n",
       "      <td>nws_xY9rOa</td>\n",
       "      <td>2019-08-07 15:00:03</td>\n",
       "      <td>Conatus' (CNAT) earnings and revenues surpass ...</td>\n",
       "      <td>Conatus (CNAT) Beats on Q2 Earnings, Stops Emr...</td>\n",
       "      <td>https://finance.yahoo.com/news/conatus-cnat-be...</td>\n",
       "    </tr>\n",
       "    <tr>\n",
       "      <th>2019-08-06 21:10:45</th>\n",
       "      <td>1</td>\n",
       "      <td>NaN</td>\n",
       "      <td>nws_kp3kmk</td>\n",
       "      <td>2019-08-06 21:10:45</td>\n",
       "      <td>What happened Shares of Teva Pharmaceutical In...</td>\n",
       "      <td>Here's What's Pushing Teva Pharmaceutical Indu...</td>\n",
       "      <td>http://articlefeeds.nasdaq.com/~r/nasdaq/symbo...</td>\n",
       "    </tr>\n",
       "    <tr>\n",
       "      <th>2019-08-06 21:10:45</th>\n",
       "      <td>2</td>\n",
       "      <td>NaN</td>\n",
       "      <td>nws_WOkE6J</td>\n",
       "      <td>2019-08-06 21:10:45</td>\n",
       "      <td>What happened Shares of Teva Pharmaceutical In...</td>\n",
       "      <td>Here's What's Pushing Teva Pharmaceutical Indu...</td>\n",
       "      <td>http://articlefeeds.nasdaq.com/~r/nasdaq/symbo...</td>\n",
       "    </tr>\n",
       "    <tr>\n",
       "      <th>2019-08-06 13:46:44</th>\n",
       "      <td>3</td>\n",
       "      <td>NaN</td>\n",
       "      <td>nws_lwdKnb</td>\n",
       "      <td>2019-08-06 13:46:44</td>\n",
       "      <td>Top Health Care Stocks Top Health Care Stocks ...</td>\n",
       "      <td>Health Care Sector Update for 08/06/2019: BDX,...</td>\n",
       "      <td>http://articlefeeds.nasdaq.com/~r/nasdaq/symbo...</td>\n",
       "    </tr>\n",
       "    <tr>\n",
       "      <th>2019-08-06 13:46:44</th>\n",
       "      <td>4</td>\n",
       "      <td>NaN</td>\n",
       "      <td>nws_YnV8LG</td>\n",
       "      <td>2019-08-06 13:46:44</td>\n",
       "      <td>Top Health Care Stocks Top Health Care Stocks ...</td>\n",
       "      <td>Health Care Sector Update for 08/06/2019: BDX,...</td>\n",
       "      <td>http://articlefeeds.nasdaq.com/~r/nasdaq/symbo...</td>\n",
       "    </tr>\n",
       "  </tbody>\n",
       "</table>\n",
       "</div>"
      ],
      "text/plain": [
       "                     Unnamed: 0  company          id    publication_date  \\\n",
       "publication_date                                                           \n",
       "2019-08-07 15:00:03           0      NaN  nws_xY9rOa 2019-08-07 15:00:03   \n",
       "2019-08-06 21:10:45           1      NaN  nws_kp3kmk 2019-08-06 21:10:45   \n",
       "2019-08-06 21:10:45           2      NaN  nws_WOkE6J 2019-08-06 21:10:45   \n",
       "2019-08-06 13:46:44           3      NaN  nws_lwdKnb 2019-08-06 13:46:44   \n",
       "2019-08-06 13:46:44           4      NaN  nws_YnV8LG 2019-08-06 13:46:44   \n",
       "\n",
       "                                                               summary  \\\n",
       "publication_date                                                         \n",
       "2019-08-07 15:00:03  Conatus' (CNAT) earnings and revenues surpass ...   \n",
       "2019-08-06 21:10:45  What happened Shares of Teva Pharmaceutical In...   \n",
       "2019-08-06 21:10:45  What happened Shares of Teva Pharmaceutical In...   \n",
       "2019-08-06 13:46:44  Top Health Care Stocks Top Health Care Stocks ...   \n",
       "2019-08-06 13:46:44  Top Health Care Stocks Top Health Care Stocks ...   \n",
       "\n",
       "                                                                 title  \\\n",
       "publication_date                                                         \n",
       "2019-08-07 15:00:03  Conatus (CNAT) Beats on Q2 Earnings, Stops Emr...   \n",
       "2019-08-06 21:10:45  Here's What's Pushing Teva Pharmaceutical Indu...   \n",
       "2019-08-06 21:10:45  Here's What's Pushing Teva Pharmaceutical Indu...   \n",
       "2019-08-06 13:46:44  Health Care Sector Update for 08/06/2019: BDX,...   \n",
       "2019-08-06 13:46:44  Health Care Sector Update for 08/06/2019: BDX,...   \n",
       "\n",
       "                                                                   url  \n",
       "publication_date                                                        \n",
       "2019-08-07 15:00:03  https://finance.yahoo.com/news/conatus-cnat-be...  \n",
       "2019-08-06 21:10:45  http://articlefeeds.nasdaq.com/~r/nasdaq/symbo...  \n",
       "2019-08-06 21:10:45  http://articlefeeds.nasdaq.com/~r/nasdaq/symbo...  \n",
       "2019-08-06 13:46:44  http://articlefeeds.nasdaq.com/~r/nasdaq/symbo...  \n",
       "2019-08-06 13:46:44  http://articlefeeds.nasdaq.com/~r/nasdaq/symbo...  "
      ]
     },
     "execution_count": 9,
     "metadata": {},
     "output_type": "execute_result"
    }
   ],
   "source": [
    "data.head()"
   ]
  },
  {
   "cell_type": "code",
   "execution_count": 10,
   "metadata": {},
   "outputs": [
    {
     "data": {
      "text/plain": [
       "\"publication_date\\n2019-08-07 15:00:03    Conatus' (CNAT) earnings and revenues surpass ...\\n2019-08-06 21:10:45    What happened Shares of Teva Pharmaceutical In...\\n2019-08-06 21:10:45    What happened Shares of Teva Pharmaceutical In...\\n2019-08-06 13:46:44    Top Health Care Stocks Top Health Care Stocks ...\\n2019-08-06 13:46:44    Top Health Care Stocks Top Health Care Stocks ...\\n2019-08-06 13:30:01    SNY vs. PFE: Which Stock Is the Better Value O...\\n2019-08-06 12:19:40    The market started the new trading week the sa...\\n2019-08-06 06:29:21    The past several months have been tough ones f...\\n2019-08-05 19:26:33    Fund's largest buys of the 2nd quarter Continu...\\n2019-08-05 18:09:00    A week after Pfizer said it would merge its di...\\n2019-08-05 18:08:53    For Immediate Release Chicago IL August 5 2019...\\n2019-08-05 18:08:53    For Immediate Release Chicago IL August 5 2019...\\n2019-08-05 16:29:14    Details the 52-week lows for the following com...\\n2019-08-05 16:03:04    The Zacks Analyst Blog Highlights: Caterpillar...\\n2019-08-05 13:46:40    Top Health Care Stocks Top Health Care Stocks ...\\n2019-08-05 13:46:40    Top Health Care Stocks Top Health Care Stocks ...\\n2019-08-05 12:57:00    Investing.com - Pfizer (NYSE:PFE) fell by 3.04...\\n2019-08-05 12:56:00    Shares of GlycoMimetics Inc.  fell 53% in prem...\\n2019-08-05 10:34:00    The company announces that rivipansel, which w...\\n2019-08-04 13:00:00    These five-star medicines should continue to p...\\n2019-08-03 16:52:11    Find out how the pharmaceutical industry is th...\\n2019-08-03 14:25:57    Benzinga has examined the prospects for many i...\\n2019-08-03 05:00:00    Should Working Longer Be a Part of Your Retire...\\n2019-08-02 22:49:00    Pfizer Inc. (PFE) announced today that the Pha...\\n2019-08-02 21:56:31    Friday August 2 2019 The Zacks Research Daily ...\\n2019-08-02 21:56:31    Friday August 2 2019 The Zacks Research Daily ...\\n2019-08-02 20:14:56    It's official. The United States' base interes...\\n2019-08-02 19:03:07    Top Analyst Reports for Caterpillar, Walmart &...\\n2019-08-02 17:09:36    Buying Teva on the assumption that it is now a...\\n2019-08-02 17:03:44    BioMarin Pharmaceutical BMRN reported second q...\\n                                             ...                        \\n2016-05-18 20:52:43    U.S. FDA approves Roche's immunotherapy for bl...\\n2016-05-18 06:41:40    Pascal Soriot's big experiment: reinventing As...\\n2016-05-17 09:36:21    AstraZeneca asthma drug hits goal, to enter co...\\n2016-05-17 03:36:27    Asian stocks mixed as crude oil rises, Chinese...\\n2016-05-16 17:46:19    Pfizer to buy Anacor in $5.2 billion deal for ...\\n2016-05-16 13:53:22     Pfizer to buy eczema specialist for $5.2 billion\\n2016-05-14 20:08:43    Pfizer takes 'significant' move to restrict le...\\n2016-05-04 03:10:49    EXCLUSIVE: Pfizer approaches Medivation about ...\\n2016-05-03 19:26:45    US STOCKS-Wall St declines on growth fears, oi...\\n2016-05-03 12:33:10      Pfizer earnings rise, boosted by Hospira assets\\n2016-04-27 20:07:53    Pfizer to pay $785 mn for overcharging US gove...\\n2016-04-27 18:36:26    Pfizer to pay $785 million for overcharging US...\\n2016-04-27 16:05:59    Pfizer to pay $784.6 million to resolve Wyeth ...\\n2016-04-08 13:55:38    INVESTMENT FOCUS-Investors favour European dru...\\n2016-04-07 23:20:27    Investors stick with Pfizer CEO after Allergan...\\n2016-04-06 21:47:47    US and European stocks gain as oil, pharma sha...\\n2016-04-06 20:57:11    US STOCKS-Wall St rises with healthcare; oil r...\\n2016-04-06 18:20:35    Pfizer, Allergan scrap $160 billion deal after...\\n2016-04-06 12:46:21    Obama's inversion curbs kill Pfizer's $160 bln...\\n2016-04-06 05:51:34    Obama's inversion curbs kill Pfizer's $160 bil...\\n2016-04-06 02:52:07    Pfizer, Allergan to mutually terminate merger ...\\n2016-03-15 02:34:23    Delhi High Court grants Pfizer temporary relie...\\n2016-03-14 13:56:07    Delhi High Court stays government ban on Pfize...\\n2016-03-11 13:19:04    Medecins Sans Frontieres files to block Pfizer...\\n2016-02-02 14:48:58        Pfizer 2016 forecasts disappoint; shares fall\\n2015-11-24 18:00:05    Pfizer, IIT-Delhi collaborate for healthcare i...\\n2015-11-24 03:15:02          Pfizer to buy Allergan in $160 billion deal\\n2015-11-24 03:15:02    U.S. politicians slam tax-avoiding Pfizer-Alle...\\n2015-11-23 23:14:14    U.S. Republican Trump calls Pfizer deal to mov...\\n2015-11-23 22:32:12    Politicians slam tax-avoiding Pfizer-Allergan ...\\nName: summary, Length: 9885, dtype: object\""
      ]
     },
     "execution_count": 10,
     "metadata": {},
     "output_type": "execute_result"
    }
   ],
   "source": [
    "str(data[\"summary\"])"
   ]
  },
  {
   "cell_type": "code",
   "execution_count": 11,
   "metadata": {},
   "outputs": [
    {
     "name": "stderr",
     "output_type": "stream",
     "text": [
      "/anaconda3/lib/python3.6/site-packages/ipykernel_launcher.py:3: FutureWarning: 'publication_date' is both an index level and a column label.\n",
      "Defaulting to column, but this will raise an ambiguity error in a future version\n",
      "  This is separate from the ipykernel package so we can avoid doing imports until\n"
     ]
    }
   ],
   "source": [
    "#drop any duplicated headlines\n",
    "data = data.sort_values(['summary']).drop_duplicates(subset='title')\n",
    "data = data.sort_values(['publication_date'])"
   ]
  },
  {
   "cell_type": "code",
   "execution_count": 12,
   "metadata": {},
   "outputs": [],
   "source": [
    "# Concatenate all news into one\n",
    "#data[\"summary\"] = data.filter(regex=(\"Top.*\")).apply(lambda x: ''.join(str(x.values)), axis=1)"
   ]
  },
  {
   "cell_type": "code",
   "execution_count": 13,
   "metadata": {
    "scrolled": true
   },
   "outputs": [
    {
     "name": "stdout",
     "output_type": "stream",
     "text": [
      "['U.S.', 'Republican', 'Trump', 'calls', 'Pfizer', 'deal', 'to', 'move', 'tax', 'base', 'overseas', \"'disgusting\", \"'\"]\n"
     ]
    }
   ],
   "source": [
    "#Tokenize Words Data \n",
    "text=data[\"summary\"][1]\n",
    "from nltk.tokenize import word_tokenize\n",
    "tokenized_word=word_tokenize(text)\n",
    "print(tokenized_word)"
   ]
  },
  {
   "cell_type": "code",
   "execution_count": 14,
   "metadata": {},
   "outputs": [
    {
     "name": "stdout",
     "output_type": "stream",
     "text": [
      "[\"U.S. Republican Trump calls Pfizer deal to move tax base overseas 'disgusting'\"]\n"
     ]
    }
   ],
   "source": [
    "##Tokenize Sentences Data\n",
    "from nltk.tokenize import sent_tokenize\n",
    "tokenized_text=sent_tokenize(text)\n",
    "print(tokenized_text)"
   ]
  },
  {
   "cell_type": "code",
   "execution_count": 15,
   "metadata": {
    "scrolled": true
   },
   "outputs": [
    {
     "name": "stdout",
     "output_type": "stream",
     "text": [
      "{'against', 'here', 'both', 'are', 'at', 'own', 'just', \"shouldn't\", 'these', 'has', 'that', 'his', 'it', 'wouldn', 'shan', 'aren', 'does', \"she's\", \"couldn't\", 'ma', 'themselves', 'in', 'same', 'd', 'isn', 'not', 'hers', 'of', \"isn't\", 'from', 'them', 'few', 'hasn', 'mightn', \"hadn't\", 'll', \"needn't\", 'her', 'him', 'for', 't', 'this', 'myself', 'he', 'once', \"wouldn't\", 'between', 'what', 'having', 'but', 'we', 'such', 'your', 'so', \"aren't\", 'because', 'himself', 'up', 'above', 'other', \"didn't\", 'didn', 'further', 'i', 'being', 'doing', 'wasn', 'by', 'should', 'now', 'were', 'to', 'can', 'yours', 'shouldn', 'with', 'she', 'needn', 'won', 'about', 'who', 'my', 'do', 'and', 'off', 'then', 'where', 'will', 'very', 'the', 'our', \"mustn't\", 'than', 'whom', \"mightn't\", 'herself', 'on', 'itself', 'which', 'out', 'had', 'after', \"you'd\", 'more', 'm', 'below', 'a', 'most', 'through', 'y', 'an', 'each', 'am', 'when', 'they', 'some', 'couldn', 'mustn', 'o', 'into', \"wasn't\", 'those', 'down', 'don', 'weren', 'no', \"hasn't\", 'or', 'as', 'their', 'any', 's', 've', 'been', 'ourselves', \"don't\", 'under', 'while', \"that'll\", 'why', 'you', 'until', 'theirs', 'nor', \"it's\", \"should've\", 'its', 're', 'again', \"you're\", 'all', \"shan't\", 'have', 'only', 'was', 'before', \"doesn't\", 'be', 'hadn', 'did', \"haven't\", 'if', \"you'll\", 'yourself', 'doesn', 'me', 'ain', \"weren't\", 'is', 'during', 'how', 'yourselves', 'ours', 'over', 'there', \"won't\", 'too', \"you've\", 'haven'}\n"
     ]
    }
   ],
   "source": [
    "#Import English Stopwords\n",
    "from nltk.corpus import stopwords\n",
    "stop_words=set(stopwords.words(\"english\"))\n",
    "print(stop_words)"
   ]
  },
  {
   "cell_type": "code",
   "execution_count": 16,
   "metadata": {},
   "outputs": [
    {
     "name": "stdout",
     "output_type": "stream",
     "text": [
      "Tokenized Sentence: [\"U.S. Republican Trump calls Pfizer deal to move tax base overseas 'disgusting'\"]\n",
      "Filterd Sentence: [\"U.S. Republican Trump calls Pfizer deal to move tax base overseas 'disgusting'\"]\n"
     ]
    }
   ],
   "source": [
    "#Filter Stopwords\n",
    "filtered_sent=[]\n",
    "for w in tokenized_text:\n",
    "    if w not in stop_words:\n",
    "        filtered_sent.append(w)\n",
    "print(\"Tokenized Sentence:\",tokenized_text)\n",
    "print(\"Filterd Sentence:\",filtered_sent)"
   ]
  },
  {
   "cell_type": "markdown",
   "metadata": {},
   "source": [
    "https://github.com/Currie32/Predicting-the-Dow-Jones-with-Headlines/blob/master/Predict_Dow_with_News.ipynb\n",
    "# A list of contractions from http://stackoverflow.com/questions/19790188/expanding-english-language-contractions-in-python\n",
    "contractions = { \n",
    "\"ain't\": \"am not\",\n",
    "\"aren't\": \"are not\",\n",
    "\"can't\": \"cannot\",\n",
    "\"can't've\": \"cannot have\",\n",
    "\"'cause\": \"because\",\n",
    "\"could've\": \"could have\",\n",
    "\"couldn't\": \"could not\",\n",
    "\"couldn't've\": \"could not have\",\n",
    "\"didn't\": \"did not\",\n",
    "\"doesn't\": \"does not\",\n",
    "\"don't\": \"do not\",\n",
    "\"hadn't\": \"had not\",\n",
    "\"hadn't've\": \"had not have\",\n",
    "\"hasn't\": \"has not\",\n",
    "\"haven't\": \"have not\",\n",
    "\"he'd\": \"he would\",\n",
    "\"he'd've\": \"he would have\",\n",
    "\"he'll\": \"he will\",\n",
    "\"he's\": \"he is\",\n",
    "\"how'd\": \"how did\",\n",
    "\"how'll\": \"how will\",\n",
    "\"how's\": \"how is\",\n",
    "\"i'd\": \"i would\",\n",
    "\"i'll\": \"i will\",\n",
    "\"i'm\": \"i am\",\n",
    "\"i've\": \"i have\",\n",
    "\"isn't\": \"is not\",\n",
    "\"it'd\": \"it would\",\n",
    "\"it'll\": \"it will\",\n",
    "\"it's\": \"it is\",\n",
    "\"let's\": \"let us\",\n",
    "\"ma'am\": \"madam\",\n",
    "\"mayn't\": \"may not\",\n",
    "\"might've\": \"might have\",\n",
    "\"mightn't\": \"might not\",\n",
    "\"must've\": \"must have\",\n",
    "\"mustn't\": \"must not\",\n",
    "\"needn't\": \"need not\",\n",
    "\"oughtn't\": \"ought not\",\n",
    "\"shan't\": \"shall not\",\n",
    "\"sha'n't\": \"shall not\",\n",
    "\"she'd\": \"she would\",\n",
    "\"she'll\": \"she will\",\n",
    "\"she's\": \"she is\",\n",
    "\"should've\": \"should have\",\n",
    "\"shouldn't\": \"should not\",\n",
    "\"that'd\": \"that would\",\n",
    "\"that's\": \"that is\",\n",
    "\"there'd\": \"there had\",\n",
    "\"there's\": \"there is\",\n",
    "\"they'd\": \"they would\",\n",
    "\"they'll\": \"they will\",\n",
    "\"they're\": \"they are\",\n",
    "\"they've\": \"they have\",\n",
    "\"wasn't\": \"was not\",\n",
    "\"we'd\": \"we would\",\n",
    "\"we'll\": \"we will\",\n",
    "\"we're\": \"we are\",\n",
    "\"we've\": \"we have\",\n",
    "\"weren't\": \"were not\",\n",
    "\"what'll\": \"what will\",\n",
    "\"what're\": \"what are\",\n",
    "\"what's\": \"what is\",\n",
    "\"what've\": \"what have\",\n",
    "\"where'd\": \"where did\",\n",
    "\"where's\": \"where is\",\n",
    "\"who'll\": \"who will\",\n",
    "\"who's\": \"who is\",\n",
    "\"won't\": \"will not\",\n",
    "\"wouldn't\": \"would not\",\n",
    "\"you'd\": \"you would\",\n",
    "\"you'll\": \"you will\",\n",
    "\"you're\": \"you are\"\n",
    "}"
   ]
  },
  {
   "cell_type": "markdown",
   "metadata": {},
   "source": [
    "def clean_text(text, remove_stopwords = True):\n",
    "    '''Remove unwanted characters and format the text to create fewer nulls word embeddings'''\n",
    "    \n",
    "    # Convert words to lower case\n",
    "    text = text.lower()\n",
    "    \n",
    "    # Replace contractions with their longer forms \n",
    "    if True:\n",
    "        text = text.split()\n",
    "        new_text = []\n",
    "        for word in text:\n",
    "            if word in contractions:\n",
    "                new_text.append(contractions[word])\n",
    "            else:\n",
    "                new_text.append(word)\n",
    "        text = \" \".join(new_text)\n",
    "    \n",
    "    # Format words and remove unwanted characters\n",
    "    text = re.sub(r'&amp;', '', text) \n",
    "    text = re.sub(r'0,0', '00', text) \n",
    "    text = re.sub(r'[_\"\\-;%()|.,+&=*%.,!?:#@\\[\\]]', ' ', text)\n",
    "    text = re.sub(r'\\'', ' ', text)\n",
    "    text = re.sub(r'\\$', ' $ ', text)\n",
    "    text = re.sub(r'u s ', ' united states ', text)\n",
    "    text = re.sub(r'u n ', ' united nations ', text)\n",
    "    text = re.sub(r'u k ', ' united kingdom ', text)\n",
    "    text = re.sub(r'j k ', ' jk ', text)\n",
    "    text = re.sub(r' s ', ' ', text)\n",
    "    text = re.sub(r' yr ', ' year ', text)\n",
    "    text = re.sub(r' l g b t ', ' lgbt ', text)\n",
    "    text = re.sub(r'0km ', '0 km ', text)\n",
    "    \n",
    "    # Optionally, remove stop words\n",
    "    if remove_stopwords:\n",
    "        text = text.split()\n",
    "        stops = set(stopwords.words(\"english\"))\n",
    "        text = [w for w in text if not w in stops]\n",
    "        text = \" \".join(text)\n",
    "\n",
    "    return text"
   ]
  },
  {
   "cell_type": "markdown",
   "metadata": {},
   "source": [
    "# Clean the headlines\n",
    "clean_headlines = []\n",
    "\n",
    "for daily_headlines in data[\"summary\"]:\n",
    "    clean_daily_headlines = []\n",
    "    for headline in daily_headlines:\n",
    "        clean_daily_headlines.append(clean_text(headline))\n",
    "    clean_headlines.append(clean_daily_headlines)"
   ]
  },
  {
   "cell_type": "code",
   "execution_count": 17,
   "metadata": {},
   "outputs": [
    {
     "data": {
      "text/plain": [
       "\"publication_date\\n2015-11-23 22:32:12    Politicians slam tax-avoiding Pfizer-Allergan ...\\n2015-11-23 23:14:14    U.S. Republican Trump calls Pfizer deal to mov...\\n2015-11-24 03:15:02    U.S. politicians slam tax-avoiding Pfizer-Alle...\\n2015-11-24 03:15:02          Pfizer to buy Allergan in $160 billion deal\\n2015-11-24 18:00:05    Pfizer, IIT-Delhi collaborate for healthcare i...\\n2016-02-02 14:48:58        Pfizer 2016 forecasts disappoint; shares fall\\n2016-03-11 13:19:04    Medecins Sans Frontieres files to block Pfizer...\\n2016-03-14 13:56:07    Delhi High Court stays government ban on Pfize...\\n2016-03-15 02:34:23    Delhi High Court grants Pfizer temporary relie...\\n2016-04-06 02:52:07    Pfizer, Allergan to mutually terminate merger ...\\n2016-04-06 05:51:34    Obama's inversion curbs kill Pfizer's $160 bil...\\n2016-04-06 12:46:21    Obama's inversion curbs kill Pfizer's $160 bln...\\n2016-04-06 18:20:35    Pfizer, Allergan scrap $160 billion deal after...\\n2016-04-06 20:57:11    US STOCKS-Wall St rises with healthcare; oil r...\\n2016-04-06 21:47:47    US and European stocks gain as oil, pharma sha...\\n2016-04-07 23:20:27    Investors stick with Pfizer CEO after Allergan...\\n2016-04-08 13:55:38    INVESTMENT FOCUS-Investors favour European dru...\\n2016-04-27 16:05:59    Pfizer to pay $784.6 million to resolve Wyeth ...\\n2016-04-27 18:36:26    Pfizer to pay $785 million for overcharging US...\\n2016-04-27 20:07:53    Pfizer to pay $785 mn for overcharging US gove...\\n2016-05-03 12:33:10      Pfizer earnings rise, boosted by Hospira assets\\n2016-05-03 19:26:45    US STOCKS-Wall St declines on growth fears, oi...\\n2016-05-04 03:10:49    EXCLUSIVE: Pfizer approaches Medivation about ...\\n2016-05-14 20:08:43    Pfizer takes 'significant' move to restrict le...\\n2016-05-16 13:53:22     Pfizer to buy eczema specialist for $5.2 billion\\n2016-05-16 17:46:19    Pfizer to buy Anacor in $5.2 billion deal for ...\\n2016-05-17 03:36:27    Asian stocks mixed as crude oil rises, Chinese...\\n2016-05-17 09:36:21    AstraZeneca asthma drug hits goal, to enter co...\\n2016-05-18 06:41:40    Pascal Soriot's big experiment: reinventing As...\\n2016-05-18 20:52:43    U.S. FDA approves Roche's immunotherapy for bl...\\n                                             ...                        \\n2019-08-01 15:59:41                                Dow Movers: PFE, CSCO\\n2019-08-02 04:27:45                    Best of Lex: your weekly round-up\\n2019-08-02 11:24:29    GlycoMimetics (GLYC) Q2 2019 Earnings Call Tra...\\n2019-08-02 13:29:30    Waiting game: Will Mylan merger change local e...\\n2019-08-02 13:32:00    Fitch Ratings downgrades Pfizer to A vs. A-plu...\\n2019-08-02 13:54:01    Pharma Stock Roundup: PFE, MRK, LLY Q2 Earning...\\n2019-08-02 13:57:16    Health Care Sector Update for 08/02/2019: APHA...\\n2019-08-02 14:52:02    BioMarin (BMRN) Shares Down on Q1 Earnings & S...\\n2019-08-02 14:59:10    Undercover Yields Up to 8.3% That the Computer...\\n2019-08-02 17:09:36       After Mylan Gets Acquired, Could Teva Be Next?\\n2019-08-02 20:14:56    10 Stock Picks That Should Love Lower Interest...\\n2019-08-02 21:56:31    Top Analyst Reports for Caterpillar, Walmart &...\\n2019-08-02 22:49:00    Pfizer Announces Phase 3 Top-Line Results for ...\\n2019-08-03 05:00:00    Weekly Wrap: Bond-Fund Picks, Reducing Portfol...\\n2019-08-03 14:25:57    Bulls And Bears Of The Week: Boeing, GM, Pfize...\\n2019-08-03 16:52:11                       The Top Pharma Stocks for 2019\\n2019-08-04 13:00:00    These 5 Prescription Drugs Will Generate a Jaw...\\n2019-08-05 10:34:00    GlycoMimetics Plummets After Phase 3 Trial of ...\\n2019-08-05 12:56:00    GlycoMimetics stock down 53% after Phase 3 tri...\\n2019-08-05 13:46:40    Health Care Sector Update for 08/05/2019: GLYC...\\n2019-08-05 16:29:14                                 52-Week Company Lows\\n2019-08-05 18:08:53    The Zacks Analyst Blog Highlights: Caterpillar...\\n2019-08-05 18:09:00        Investors Don’t Like Mylan’s Deal With Pfizer\\n2019-08-05 19:26:33    The Vanguard Health Care Fund Buys Pfizer, Humana\\n2019-08-06 06:29:21    Fear Around Bristol-Myers Squibb Stock is Star...\\n2019-08-06 12:19:40    3 Big Stock Charts for Tuesday: Pfizer, AES an...\\n2019-08-06 13:30:01    SNY vs. PFE: Which Stock Is the Better Value O...\\n2019-08-06 13:46:44    Health Care Sector Update for 08/06/2019: BDX,...\\n2019-08-06 21:10:45    Here's What's Pushing Teva Pharmaceutical Indu...\\n2019-08-07 15:00:03    Conatus (CNAT) Beats on Q2 Earnings, Stops Emr...\\nName: title, Length: 7318, dtype: object\""
      ]
     },
     "execution_count": 17,
     "metadata": {},
     "output_type": "execute_result"
    }
   ],
   "source": [
    "str(data[\"title\"])"
   ]
  },
  {
   "cell_type": "code",
   "execution_count": null,
   "metadata": {},
   "outputs": [],
   "source": []
  },
  {
   "cell_type": "code",
   "execution_count": 18,
   "metadata": {
    "scrolled": true
   },
   "outputs": [
    {
     "name": "stdout",
     "output_type": "stream",
     "text": [
      "publication_date\n",
      "2015-11-23 22:32:12    Politicians slam tax-avoiding Pfizer-Allergan ...\n",
      "2015-11-23 23:14:14    U.S. Republican Trump calls Pfizer deal to mov...\n",
      "2015-11-24 03:15:02    U.S. politicians slam tax-avoiding Pfizer-Alle...\n",
      "2015-11-24 03:15:02          Pfizer to buy Allergan in $160 billion deal\n",
      "2015-11-24 18:00:05    Pfizer, IIT-Delhi collaborate for healthcare i...\n",
      "2016-02-02 14:48:58        Pfizer 2016 forecasts disappoint; shares fall\n",
      "2016-03-11 13:19:04    Medecins Sans Frontieres files to block Pfizer...\n",
      "2016-03-14 13:56:07    Delhi High Court stays government ban on Pfize...\n",
      "2016-03-15 02:34:23    Delhi High Court grants Pfizer temporary relie...\n",
      "2016-04-06 02:52:07    Pfizer, Allergan to mutually terminate merger ...\n",
      "2016-04-06 05:51:34    Obama's inversion curbs kill Pfizer's $160 bil...\n",
      "2016-04-06 12:46:21    Obama's inversion curbs kill Pfizer's $160 bln...\n",
      "2016-04-06 18:20:35    Pfizer, Allergan scrap $160 billion deal after...\n",
      "2016-04-06 20:57:11    US STOCKS-Wall St rises with healthcare; oil r...\n",
      "2016-04-06 21:47:47    US and European stocks gain as oil, pharma sha...\n",
      "2016-04-07 23:20:27    Investors stick with Pfizer CEO after Allergan...\n",
      "2016-04-08 13:55:38    INVESTMENT FOCUS-Investors favour European dru...\n",
      "2016-04-27 16:05:59    Pfizer to pay $784.6 million to resolve Wyeth ...\n",
      "2016-04-27 18:36:26    Pfizer to pay $785 million for overcharging US...\n",
      "2016-04-27 20:07:53    Pfizer to pay $785 mn for overcharging US gove...\n",
      "2016-05-03 12:33:10      Pfizer earnings rise, boosted by Hospira assets\n",
      "2016-05-03 19:26:45    US STOCKS-Wall St declines on growth fears, oi...\n",
      "2016-05-04 03:10:49    EXCLUSIVE: Pfizer approaches Medivation about ...\n",
      "2016-05-14 20:08:43    Pfizer takes 'significant' move to restrict le...\n",
      "2016-05-16 13:53:22     Pfizer to buy eczema specialist for $5.2 billion\n",
      "2016-05-16 17:46:19    Pfizer to buy Anacor in $5.2 billion deal for ...\n",
      "2016-05-17 03:36:27    Asian stocks mixed as crude oil rises, Chinese...\n",
      "2016-05-17 09:36:21    AstraZeneca asthma drug hits goal, to enter co...\n",
      "2016-05-18 06:41:40    Pascal Soriot's big experiment: reinventing As...\n",
      "2016-05-18 20:52:43    U.S. FDA approves Roche's immunotherapy for bl...\n",
      "                                             ...                        \n",
      "2019-08-01 15:59:41    In early trading on Thursday shares of Cisco S...\n",
      "2019-08-02 04:27:45    Activity ebbs and flows in business, as in the...\n",
      "2019-08-02 11:24:29    GLYC earnings call for the period ending June ...\n",
      "2019-08-02 13:29:30    But with $1 billion in annual savings promised...\n",
      "2019-08-02 13:32:00    Fitch Ratings downgraded Pfizer Inc.'s long-te...\n",
      "2019-08-02 13:54:01    AbbVie (ABBV), Merck (MRK), Pfizer (PFE), Lill...\n",
      "2019-08-02 13:57:16    Top Health Care Stocks Top Health Care Stocks ...\n",
      "2019-08-02 14:52:02    BioMarin (BMRN) announces lower-than-expected ...\n",
      "2019-08-02 14:59:10    By Brett Owens We buy real estate investment t...\n",
      "2019-08-02 17:09:36    Buying Teva on the assumption that it is now a...\n",
      "2019-08-02 20:14:56    It's official. The United States' base interes...\n",
      "2019-08-02 21:56:31    Friday August 2 2019 The Zacks Research Daily ...\n",
      "2019-08-02 22:49:00    Pfizer Inc. (PFE) announced today that the Pha...\n",
      "2019-08-03 05:00:00    Should Working Longer Be a Part of Your Retire...\n",
      "2019-08-03 14:25:57    Benzinga has examined the prospects for many i...\n",
      "2019-08-03 16:52:11    Find out how the pharmaceutical industry is th...\n",
      "2019-08-04 13:00:00    These five-star medicines should continue to p...\n",
      "2019-08-05 10:34:00    The company announces that rivipansel, which w...\n",
      "2019-08-05 12:56:00    Shares of GlycoMimetics Inc.  fell 53% in prem...\n",
      "2019-08-05 13:46:40    Top Health Care Stocks Top Health Care Stocks ...\n",
      "2019-08-05 16:29:14    Details the 52-week lows for the following com...\n",
      "2019-08-05 18:08:53    For Immediate Release Chicago IL August 5 2019...\n",
      "2019-08-05 18:09:00    A week after Pfizer said it would merge its di...\n",
      "2019-08-05 19:26:33    Fund's largest buys of the 2nd quarter Continu...\n",
      "2019-08-06 06:29:21    The past several months have been tough ones f...\n",
      "2019-08-06 12:19:40    The market started the new trading week the sa...\n",
      "2019-08-06 13:30:01    SNY vs. PFE: Which Stock Is the Better Value O...\n",
      "2019-08-06 13:46:44    Top Health Care Stocks Top Health Care Stocks ...\n",
      "2019-08-06 21:10:45    What happened Shares of Teva Pharmaceutical In...\n",
      "2019-08-07 15:00:03    Conatus' (CNAT) earnings and revenues surpass ...\n",
      "Name: summary, Length: 7318, dtype: object\n"
     ]
    }
   ],
   "source": [
    "print(data[\"summary\"])"
   ]
  },
  {
   "cell_type": "markdown",
   "metadata": {},
   "source": [
    "### SIA compound score Calculation \n",
    "https://www.learndatasci.com/tutorials/sentiment-analysis-reddit-headlines-pythons-nltk/\n"
   ]
  },
  {
   "cell_type": "code",
   "execution_count": 19,
   "metadata": {},
   "outputs": [
    {
     "name": "stdout",
     "output_type": "stream",
     "text": [
      "[{'neg': 0.394, 'neu': 0.606, 'pos': 0.0, 'compound': -0.3818, 'headline': 'Politicians slam tax-avoiding Pfizer-Allergan mega-deal'}, {'neg': 0.0, 'neu': 1.0, 'pos': 0.0, 'compound': 0.0, 'headline': \"U.S. Republican Trump calls Pfizer deal to move tax base overseas 'disgusting'\"}, {'neg': 0.342, 'neu': 0.658, 'pos': 0.0, 'compound': -0.3818, 'headline': 'U.S. politicians slam tax-avoiding Pfizer-Allergan deal'}]\n"
     ]
    }
   ],
   "source": [
    "sia = SIA()\n",
    "results = []\n",
    "\n",
    "for line in data[\"title\"]:\n",
    "    pol_score = sia.polarity_scores(line)\n",
    "    pol_score['headline'] = line\n",
    "    results.append(pol_score)\n",
    "\n",
    "print(results[:3])"
   ]
  },
  {
   "cell_type": "code",
   "execution_count": 20,
   "metadata": {
    "scrolled": false
   },
   "outputs": [
    {
     "data": {
      "text/html": [
       "<div>\n",
       "<style scoped>\n",
       "    .dataframe tbody tr th:only-of-type {\n",
       "        vertical-align: middle;\n",
       "    }\n",
       "\n",
       "    .dataframe tbody tr th {\n",
       "        vertical-align: top;\n",
       "    }\n",
       "\n",
       "    .dataframe thead th {\n",
       "        text-align: right;\n",
       "    }\n",
       "</style>\n",
       "<table border=\"1\" class=\"dataframe\">\n",
       "  <thead>\n",
       "    <tr style=\"text-align: right;\">\n",
       "      <th></th>\n",
       "      <th>compound</th>\n",
       "      <th>headline</th>\n",
       "      <th>neg</th>\n",
       "      <th>neu</th>\n",
       "      <th>pos</th>\n",
       "    </tr>\n",
       "  </thead>\n",
       "  <tbody>\n",
       "    <tr>\n",
       "      <th>0</th>\n",
       "      <td>-0.3818</td>\n",
       "      <td>Politicians slam tax-avoiding Pfizer-Allergan ...</td>\n",
       "      <td>0.394</td>\n",
       "      <td>0.606</td>\n",
       "      <td>0.0</td>\n",
       "    </tr>\n",
       "    <tr>\n",
       "      <th>1</th>\n",
       "      <td>0.0000</td>\n",
       "      <td>U.S. Republican Trump calls Pfizer deal to mov...</td>\n",
       "      <td>0.000</td>\n",
       "      <td>1.000</td>\n",
       "      <td>0.0</td>\n",
       "    </tr>\n",
       "    <tr>\n",
       "      <th>2</th>\n",
       "      <td>-0.3818</td>\n",
       "      <td>U.S. politicians slam tax-avoiding Pfizer-Alle...</td>\n",
       "      <td>0.342</td>\n",
       "      <td>0.658</td>\n",
       "      <td>0.0</td>\n",
       "    </tr>\n",
       "    <tr>\n",
       "      <th>3</th>\n",
       "      <td>0.0000</td>\n",
       "      <td>Pfizer to buy Allergan in $160 billion deal</td>\n",
       "      <td>0.000</td>\n",
       "      <td>1.000</td>\n",
       "      <td>0.0</td>\n",
       "    </tr>\n",
       "    <tr>\n",
       "      <th>4</th>\n",
       "      <td>0.0000</td>\n",
       "      <td>Pfizer, IIT-Delhi collaborate for healthcare i...</td>\n",
       "      <td>0.000</td>\n",
       "      <td>1.000</td>\n",
       "      <td>0.0</td>\n",
       "    </tr>\n",
       "  </tbody>\n",
       "</table>\n",
       "</div>"
      ],
      "text/plain": [
       "   compound                                           headline    neg    neu  \\\n",
       "0   -0.3818  Politicians slam tax-avoiding Pfizer-Allergan ...  0.394  0.606   \n",
       "1    0.0000  U.S. Republican Trump calls Pfizer deal to mov...  0.000  1.000   \n",
       "2   -0.3818  U.S. politicians slam tax-avoiding Pfizer-Alle...  0.342  0.658   \n",
       "3    0.0000        Pfizer to buy Allergan in $160 billion deal  0.000  1.000   \n",
       "4    0.0000  Pfizer, IIT-Delhi collaborate for healthcare i...  0.000  1.000   \n",
       "\n",
       "   pos  \n",
       "0  0.0  \n",
       "1  0.0  \n",
       "2  0.0  \n",
       "3  0.0  \n",
       "4  0.0  "
      ]
     },
     "execution_count": 20,
     "metadata": {},
     "output_type": "execute_result"
    }
   ],
   "source": [
    "df123 = pd.DataFrame(results)\n",
    "#df123['publication_date'] = data['publication_date']\n",
    "#df123.Date = pd.to_datetime(df123.publication_date)\n",
    "#df123.set_index('publication_date', inplace=True)\n",
    "df123.head()"
   ]
  },
  {
   "cell_type": "code",
   "execution_count": 21,
   "metadata": {},
   "outputs": [
    {
     "name": "stdout",
     "output_type": "stream",
     "text": [
      "U.S. Republican Trump calls Pfizer deal to move tax base overseas 'disgusting'\n"
     ]
    }
   ],
   "source": [
    "print(df123['headline'][1])"
   ]
  },
  {
   "cell_type": "code",
   "execution_count": 22,
   "metadata": {
    "scrolled": false
   },
   "outputs": [
    {
     "data": {
      "text/html": [
       "<div>\n",
       "<style scoped>\n",
       "    .dataframe tbody tr th:only-of-type {\n",
       "        vertical-align: middle;\n",
       "    }\n",
       "\n",
       "    .dataframe tbody tr th {\n",
       "        vertical-align: top;\n",
       "    }\n",
       "\n",
       "    .dataframe thead th {\n",
       "        text-align: right;\n",
       "    }\n",
       "</style>\n",
       "<table border=\"1\" class=\"dataframe\">\n",
       "  <thead>\n",
       "    <tr style=\"text-align: right;\">\n",
       "      <th></th>\n",
       "      <th>compound</th>\n",
       "      <th>neg</th>\n",
       "      <th>neu</th>\n",
       "      <th>pos</th>\n",
       "    </tr>\n",
       "  </thead>\n",
       "  <tbody>\n",
       "    <tr>\n",
       "      <th>count</th>\n",
       "      <td>7318.000000</td>\n",
       "      <td>7318.000000</td>\n",
       "      <td>7318.000000</td>\n",
       "      <td>7318.000000</td>\n",
       "    </tr>\n",
       "    <tr>\n",
       "      <th>mean</th>\n",
       "      <td>0.072510</td>\n",
       "      <td>0.052684</td>\n",
       "      <td>0.850339</td>\n",
       "      <td>0.096974</td>\n",
       "    </tr>\n",
       "    <tr>\n",
       "      <th>std</th>\n",
       "      <td>0.311807</td>\n",
       "      <td>0.113765</td>\n",
       "      <td>0.169526</td>\n",
       "      <td>0.137994</td>\n",
       "    </tr>\n",
       "    <tr>\n",
       "      <th>min</th>\n",
       "      <td>-0.886000</td>\n",
       "      <td>0.000000</td>\n",
       "      <td>0.238000</td>\n",
       "      <td>0.000000</td>\n",
       "    </tr>\n",
       "    <tr>\n",
       "      <th>25%</th>\n",
       "      <td>0.000000</td>\n",
       "      <td>0.000000</td>\n",
       "      <td>0.732000</td>\n",
       "      <td>0.000000</td>\n",
       "    </tr>\n",
       "    <tr>\n",
       "      <th>50%</th>\n",
       "      <td>0.000000</td>\n",
       "      <td>0.000000</td>\n",
       "      <td>0.877000</td>\n",
       "      <td>0.000000</td>\n",
       "    </tr>\n",
       "    <tr>\n",
       "      <th>75%</th>\n",
       "      <td>0.318200</td>\n",
       "      <td>0.000000</td>\n",
       "      <td>1.000000</td>\n",
       "      <td>0.203000</td>\n",
       "    </tr>\n",
       "    <tr>\n",
       "      <th>max</th>\n",
       "      <td>0.915300</td>\n",
       "      <td>0.720000</td>\n",
       "      <td>1.000000</td>\n",
       "      <td>0.762000</td>\n",
       "    </tr>\n",
       "  </tbody>\n",
       "</table>\n",
       "</div>"
      ],
      "text/plain": [
       "          compound          neg          neu          pos\n",
       "count  7318.000000  7318.000000  7318.000000  7318.000000\n",
       "mean      0.072510     0.052684     0.850339     0.096974\n",
       "std       0.311807     0.113765     0.169526     0.137994\n",
       "min      -0.886000     0.000000     0.238000     0.000000\n",
       "25%       0.000000     0.000000     0.732000     0.000000\n",
       "50%       0.000000     0.000000     0.877000     0.000000\n",
       "75%       0.318200     0.000000     1.000000     0.203000\n",
       "max       0.915300     0.720000     1.000000     0.762000"
      ]
     },
     "execution_count": 22,
     "metadata": {},
     "output_type": "execute_result"
    }
   ],
   "source": [
    "df123.describe()"
   ]
  },
  {
   "cell_type": "code",
   "execution_count": 23,
   "metadata": {
    "scrolled": false
   },
   "outputs": [
    {
     "name": "stdout",
     "output_type": "stream",
     "text": [
      "<class 'pandas.core.frame.DataFrame'>\n",
      "RangeIndex: 7318 entries, 0 to 7317\n",
      "Data columns (total 5 columns):\n",
      "compound    7318 non-null float64\n",
      "headline    7318 non-null object\n",
      "neg         7318 non-null float64\n",
      "neu         7318 non-null float64\n",
      "pos         7318 non-null float64\n",
      "dtypes: float64(4), object(1)\n",
      "memory usage: 285.9+ KB\n"
     ]
    }
   ],
   "source": [
    "df123.info()"
   ]
  },
  {
   "cell_type": "code",
   "execution_count": 24,
   "metadata": {
    "scrolled": true
   },
   "outputs": [
    {
     "data": {
      "text/html": [
       "<div>\n",
       "<style scoped>\n",
       "    .dataframe tbody tr th:only-of-type {\n",
       "        vertical-align: middle;\n",
       "    }\n",
       "\n",
       "    .dataframe tbody tr th {\n",
       "        vertical-align: top;\n",
       "    }\n",
       "\n",
       "    .dataframe thead th {\n",
       "        text-align: right;\n",
       "    }\n",
       "</style>\n",
       "<table border=\"1\" class=\"dataframe\">\n",
       "  <thead>\n",
       "    <tr style=\"text-align: right;\">\n",
       "      <th></th>\n",
       "      <th>compound</th>\n",
       "      <th>headline</th>\n",
       "      <th>neg</th>\n",
       "      <th>neu</th>\n",
       "      <th>pos</th>\n",
       "      <th>label</th>\n",
       "    </tr>\n",
       "  </thead>\n",
       "  <tbody>\n",
       "    <tr>\n",
       "      <th>0</th>\n",
       "      <td>-0.3818</td>\n",
       "      <td>Politicians slam tax-avoiding Pfizer-Allergan ...</td>\n",
       "      <td>0.394</td>\n",
       "      <td>0.606</td>\n",
       "      <td>0.0</td>\n",
       "      <td>-1</td>\n",
       "    </tr>\n",
       "    <tr>\n",
       "      <th>1</th>\n",
       "      <td>0.0000</td>\n",
       "      <td>U.S. Republican Trump calls Pfizer deal to mov...</td>\n",
       "      <td>0.000</td>\n",
       "      <td>1.000</td>\n",
       "      <td>0.0</td>\n",
       "      <td>0</td>\n",
       "    </tr>\n",
       "    <tr>\n",
       "      <th>2</th>\n",
       "      <td>-0.3818</td>\n",
       "      <td>U.S. politicians slam tax-avoiding Pfizer-Alle...</td>\n",
       "      <td>0.342</td>\n",
       "      <td>0.658</td>\n",
       "      <td>0.0</td>\n",
       "      <td>-1</td>\n",
       "    </tr>\n",
       "    <tr>\n",
       "      <th>3</th>\n",
       "      <td>0.0000</td>\n",
       "      <td>Pfizer to buy Allergan in $160 billion deal</td>\n",
       "      <td>0.000</td>\n",
       "      <td>1.000</td>\n",
       "      <td>0.0</td>\n",
       "      <td>0</td>\n",
       "    </tr>\n",
       "    <tr>\n",
       "      <th>4</th>\n",
       "      <td>0.0000</td>\n",
       "      <td>Pfizer, IIT-Delhi collaborate for healthcare i...</td>\n",
       "      <td>0.000</td>\n",
       "      <td>1.000</td>\n",
       "      <td>0.0</td>\n",
       "      <td>0</td>\n",
       "    </tr>\n",
       "  </tbody>\n",
       "</table>\n",
       "</div>"
      ],
      "text/plain": [
       "   compound                                           headline    neg    neu  \\\n",
       "0   -0.3818  Politicians slam tax-avoiding Pfizer-Allergan ...  0.394  0.606   \n",
       "1    0.0000  U.S. Republican Trump calls Pfizer deal to mov...  0.000  1.000   \n",
       "2   -0.3818  U.S. politicians slam tax-avoiding Pfizer-Alle...  0.342  0.658   \n",
       "3    0.0000        Pfizer to buy Allergan in $160 billion deal  0.000  1.000   \n",
       "4    0.0000  Pfizer, IIT-Delhi collaborate for healthcare i...  0.000  1.000   \n",
       "\n",
       "   pos  label  \n",
       "0  0.0     -1  \n",
       "1  0.0      0  \n",
       "2  0.0     -1  \n",
       "3  0.0      0  \n",
       "4  0.0      0  "
      ]
     },
     "execution_count": 24,
     "metadata": {},
     "output_type": "execute_result"
    }
   ],
   "source": [
    "df123['label'] = 0\n",
    "df123.loc[df123['compound'] > 0.1, 'label'] = 1\n",
    "df123.loc[df123['compound'] < -0.1, 'label'] = -1\n",
    "df123.head()"
   ]
  },
  {
   "cell_type": "code",
   "execution_count": 25,
   "metadata": {},
   "outputs": [
    {
     "name": "stdout",
     "output_type": "stream",
     "text": [
      "Positive headlines:\n",
      "\n",
      "['Delhi High Court grants Pfizer temporary relief on cough syrup ban', 'US and European stocks gain as oil, pharma shares rally', 'Pfizer earnings rise, boosted by Hospira assets', 'EXCLUSIVE: Pfizer approaches Medivation about potential takeover -sources', 'AstraZeneca asthma drug hits goal, to enter competitive market']\n"
     ]
    }
   ],
   "source": [
    "print(\"Positive headlines:\\n\")\n",
    "print(list(df123[df123['label'] == 1].headline)[:5])\n"
   ]
  },
  {
   "cell_type": "code",
   "execution_count": 26,
   "metadata": {},
   "outputs": [
    {
     "name": "stdout",
     "output_type": "stream",
     "text": [
      "\n",
      "Negative headlines:\n",
      "\n",
      "['Politicians slam tax-avoiding Pfizer-Allergan mega-deal', 'U.S. politicians slam tax-avoiding Pfizer-Allergan deal', 'Pfizer 2016 forecasts disappoint; shares fall', 'Medecins Sans Frontieres files to block Pfizer patent on pneumonia vaccine in India', \"Delhi High Court stays government ban on Pfizer's Corex cough syrup - TV\"]\n"
     ]
    }
   ],
   "source": [
    "print(\"\\nNegative headlines:\\n\")\n",
    "print(list(df123[df123['label'] == -1].headline)[:5])"
   ]
  },
  {
   "cell_type": "code",
   "execution_count": 27,
   "metadata": {
    "scrolled": true
   },
   "outputs": [
    {
     "name": "stdout",
     "output_type": "stream",
     "text": [
      " 0    3728\n",
      " 1    2392\n",
      "-1    1198\n",
      "Name: label, dtype: int64\n",
      " 0    50.942881\n",
      " 1    32.686526\n",
      "-1    16.370593\n",
      "Name: label, dtype: float64\n"
     ]
    }
   ],
   "source": [
    "print(df123.label.value_counts())\n",
    "\n",
    "print(df123.label.value_counts(normalize=True) * 100)"
   ]
  },
  {
   "cell_type": "code",
   "execution_count": 28,
   "metadata": {
    "scrolled": true
   },
   "outputs": [
    {
     "data": {
      "image/png": "[encoded data removed]",
      "text/plain": [
       "<Figure size 576x576 with 1 Axes>"
      ]
     },
     "metadata": {},
     "output_type": "display_data"
    }
   ],
   "source": [
    "import seaborn as sns\n",
    "fig, ax = plt.subplots(figsize=(8, 8))\n",
    "\n",
    "counts = df123.label.value_counts(normalize=True) * 100\n",
    "\n",
    "sns.barplot(x=counts.index, y=counts, ax=ax)\n",
    "\n",
    "ax.set_xticklabels(['Negative', 'Neutral', 'Positive'])\n",
    "ax.set_ylabel(\"Percentage\")\n",
    "\n",
    "plt.show()"
   ]
  },
  {
   "cell_type": "code",
   "execution_count": 29,
   "metadata": {},
   "outputs": [
    {
     "name": "stderr",
     "output_type": "stream",
     "text": [
      "/anaconda3/lib/python3.6/site-packages/matplotlib/axes/_axes.py:6462: UserWarning: The 'normed' kwarg is deprecated, and has been replaced by the 'density' kwarg.\n",
      "  warnings.warn(\"The 'normed' kwarg is deprecated, and has been \"\n"
     ]
    },
    {
     "data": {
      "text/plain": [
       "Text(0,0.5,'Count')"
      ]
     },
     "execution_count": 29,
     "metadata": {},
     "output_type": "execute_result"
    },
    {
     "data": {
      "image/png": "[encoded data removed]",
      "text/plain": [
       "<Figure size 432x288 with 1 Axes>"
      ]
     },
     "metadata": {},
     "output_type": "display_data"
    }
   ],
   "source": [
    "\n",
    "# seaborn histogram\n",
    "sns.distplot(df123['compound'], hist=True, kde=False, \n",
    "             bins=int(180/5), color = 'blue',\n",
    "             hist_kws={'edgecolor':'black'})\n",
    "# Add labels\n",
    "plt.title('Histogram of Compound Sentiment')\n",
    "plt.xlabel('Score')\n",
    "plt.ylabel('Count')"
   ]
  },
  {
   "cell_type": "code",
   "execution_count": 30,
   "metadata": {
    "scrolled": true
   },
   "outputs": [],
   "source": [
    "#https://github.com/llSourcell/Stock_Market_Prediction/blob/master/Generating%20Different%20Models.ipynb\n",
    "#import numpy as np\n",
    "#import pandas as pd\n",
    "#from nltk.classify import NaiveBayesClassifier\n",
    "#from nltk.corpus import subjectivity\n",
    "#from nltk.sentiment import SentimentAnalyzer\n",
    "#from nltk.sentiment.util import *\n",
    "#import nltk\n",
    "#nltk.downloader.download('vader_lexicon')\n",
    "\n",
    "#sentence = 'paris shootout police officer suspected guman dead'\n",
    "#from nltk.sentiment.vader import SentimentIntensityAnalyzer\n",
    "#import unicodedata\n",
    "#sid = SentimentIntensityAnalyzer()\n",
    "#ss = sid.polarity_scores(sentence)\n",
    "#ss"
   ]
  },
  {
   "cell_type": "code",
   "execution_count": 31,
   "metadata": {},
   "outputs": [
    {
     "data": {
      "text/html": [
       "<div>\n",
       "<style scoped>\n",
       "    .dataframe tbody tr th:only-of-type {\n",
       "        vertical-align: middle;\n",
       "    }\n",
       "\n",
       "    .dataframe tbody tr th {\n",
       "        vertical-align: top;\n",
       "    }\n",
       "\n",
       "    .dataframe thead th {\n",
       "        text-align: right;\n",
       "    }\n",
       "</style>\n",
       "<table border=\"1\" class=\"dataframe\">\n",
       "  <thead>\n",
       "    <tr style=\"text-align: right;\">\n",
       "      <th></th>\n",
       "      <th>compound</th>\n",
       "      <th>headline</th>\n",
       "      <th>neg</th>\n",
       "      <th>neu</th>\n",
       "      <th>pos</th>\n",
       "      <th>label</th>\n",
       "    </tr>\n",
       "    <tr>\n",
       "      <th>publication_date</th>\n",
       "      <th></th>\n",
       "      <th></th>\n",
       "      <th></th>\n",
       "      <th></th>\n",
       "      <th></th>\n",
       "      <th></th>\n",
       "    </tr>\n",
       "  </thead>\n",
       "  <tbody>\n",
       "    <tr>\n",
       "      <th>2015-11-23 22:32:12</th>\n",
       "      <td>-0.3818</td>\n",
       "      <td>Politicians slam tax-avoiding Pfizer-Allergan ...</td>\n",
       "      <td>0.394</td>\n",
       "      <td>0.606</td>\n",
       "      <td>0.0</td>\n",
       "      <td>-1</td>\n",
       "    </tr>\n",
       "    <tr>\n",
       "      <th>2015-11-23 23:14:14</th>\n",
       "      <td>0.0000</td>\n",
       "      <td>U.S. Republican Trump calls Pfizer deal to mov...</td>\n",
       "      <td>0.000</td>\n",
       "      <td>1.000</td>\n",
       "      <td>0.0</td>\n",
       "      <td>0</td>\n",
       "    </tr>\n",
       "    <tr>\n",
       "      <th>2015-11-24 03:15:02</th>\n",
       "      <td>-0.3818</td>\n",
       "      <td>U.S. politicians slam tax-avoiding Pfizer-Alle...</td>\n",
       "      <td>0.342</td>\n",
       "      <td>0.658</td>\n",
       "      <td>0.0</td>\n",
       "      <td>-1</td>\n",
       "    </tr>\n",
       "    <tr>\n",
       "      <th>2015-11-24 03:15:02</th>\n",
       "      <td>0.0000</td>\n",
       "      <td>Pfizer to buy Allergan in $160 billion deal</td>\n",
       "      <td>0.000</td>\n",
       "      <td>1.000</td>\n",
       "      <td>0.0</td>\n",
       "      <td>0</td>\n",
       "    </tr>\n",
       "    <tr>\n",
       "      <th>2015-11-24 18:00:05</th>\n",
       "      <td>0.0000</td>\n",
       "      <td>Pfizer, IIT-Delhi collaborate for healthcare i...</td>\n",
       "      <td>0.000</td>\n",
       "      <td>1.000</td>\n",
       "      <td>0.0</td>\n",
       "      <td>0</td>\n",
       "    </tr>\n",
       "  </tbody>\n",
       "</table>\n",
       "</div>"
      ],
      "text/plain": [
       "                     compound  \\\n",
       "publication_date                \n",
       "2015-11-23 22:32:12   -0.3818   \n",
       "2015-11-23 23:14:14    0.0000   \n",
       "2015-11-24 03:15:02   -0.3818   \n",
       "2015-11-24 03:15:02    0.0000   \n",
       "2015-11-24 18:00:05    0.0000   \n",
       "\n",
       "                                                              headline    neg  \\\n",
       "publication_date                                                                \n",
       "2015-11-23 22:32:12  Politicians slam tax-avoiding Pfizer-Allergan ...  0.394   \n",
       "2015-11-23 23:14:14  U.S. Republican Trump calls Pfizer deal to mov...  0.000   \n",
       "2015-11-24 03:15:02  U.S. politicians slam tax-avoiding Pfizer-Alle...  0.342   \n",
       "2015-11-24 03:15:02        Pfizer to buy Allergan in $160 billion deal  0.000   \n",
       "2015-11-24 18:00:05  Pfizer, IIT-Delhi collaborate for healthcare i...  0.000   \n",
       "\n",
       "                       neu  pos  label  \n",
       "publication_date                        \n",
       "2015-11-23 22:32:12  0.606  0.0     -1  \n",
       "2015-11-23 23:14:14  1.000  0.0      0  \n",
       "2015-11-24 03:15:02  0.658  0.0     -1  \n",
       "2015-11-24 03:15:02  1.000  0.0      0  \n",
       "2015-11-24 18:00:05  1.000  0.0      0  "
      ]
     },
     "execution_count": 31,
     "metadata": {},
     "output_type": "execute_result"
    }
   ],
   "source": [
    "df123.index =data['publication_date']\n",
    "df123.head()"
   ]
  },
  {
   "cell_type": "code",
   "execution_count": 32,
   "metadata": {},
   "outputs": [],
   "source": [
    "df123.to_csv('PFE_sent_news.csv')"
   ]
  },
  {
   "cell_type": "code",
   "execution_count": null,
   "metadata": {},
   "outputs": [],
   "source": []
  }
 ],
 "metadata": {
  "kernelspec": {
   "display_name": "Python 3",
   "language": "python",
   "name": "python3"
  },
  "language_info": {
   "codemirror_mode": {
    "name": "ipython",
    "version": 3
   },
   "file_extension": ".py",
   "mimetype": "text/x-python",
   "name": "python",
   "nbconvert_exporter": "python",
   "pygments_lexer": "ipython3",
   "version": "3.6.5"
  }
 },
 "nbformat": 4,
 "nbformat_minor": 2
}
